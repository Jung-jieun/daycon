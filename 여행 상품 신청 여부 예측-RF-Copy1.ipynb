{
 "cells": [
  {
   "cell_type": "markdown",
   "id": "784ca088",
   "metadata": {},
   "source": [
    "#### Data\n",
    "\n",
    "- id : 샘플 아이디\n",
    "- Age : 나이\n",
    "- TypeofContact : 고객의 제품 인지 방법 (회사의 홍보 or 스스로 검색)\n",
    "- CityTier : 주거 중인 도시의 등급. (인구, 시설, 생활 수준 기준) (1등급 > 2등급 > 3등급) \n",
    "- DurationOfPitch : 영업 사원이 고객에게 제공하는 프레젠테이션 기간\n",
    "- Occupation : 직업\n",
    "- Gender : 성별\n",
    "- NumberOfPersonVisiting : 고객과 함께 여행을 계획 중인 총 인원\n",
    "- NumberOfFollowups : 영업 사원의 프레젠테이션 후 이루어진 후속 조치 수\n",
    "- ProductPitched : 영업 사원이 제시한 상품\n",
    "- PreferredPropertyStar : 선호 호텔 숙박업소 등급\n",
    "- MaritalStatus : 결혼여부\n",
    "- NumberOfTrips : 평균 연간 여행 횟수\n",
    "- Passport : 여권 보유 여부 (0: 없음, 1: 있음)\n",
    "- PitchSatisfactionScore : 영업 사원의 프레젠테이션 만족도\n",
    "- OwnCar : 자동차 보유 여부 (0: 없음, 1: 있음)\n",
    "- NumberOfChildrenVisiting : 함께 여행을 계획 중인 5세 미만의 어린이 수\n",
    "- Designation : (직업의) 직급\n",
    "- MonthlyIncome : 월 급여\n",
    "- ProdTaken : 여행 패키지 신청 여부 (0: 신청 안 함, 1: 신청함)"
   ]
  },
  {
   "cell_type": "code",
   "execution_count": 2,
   "id": "26c32d3f",
   "metadata": {},
   "outputs": [],
   "source": [
    "import pandas as pd\n",
    "import numpy as np\n",
    "import matplotlib.pyplot as plt\n",
    "import seaborn as sns"
   ]
  },
  {
   "cell_type": "code",
   "execution_count": 3,
   "id": "05c78c4e",
   "metadata": {},
   "outputs": [
    {
     "name": "stdout",
     "output_type": "stream",
     "text": [
      "<class 'pandas.core.frame.DataFrame'>\n",
      "RangeIndex: 1955 entries, 0 to 1954\n",
      "Data columns (total 20 columns):\n",
      " #   Column                    Non-Null Count  Dtype  \n",
      "---  ------                    --------------  -----  \n",
      " 0   id                        1955 non-null   int64  \n",
      " 1   Age                       1861 non-null   float64\n",
      " 2   TypeofContact             1945 non-null   object \n",
      " 3   CityTier                  1955 non-null   int64  \n",
      " 4   DurationOfPitch           1853 non-null   float64\n",
      " 5   Occupation                1955 non-null   object \n",
      " 6   Gender                    1955 non-null   object \n",
      " 7   NumberOfPersonVisiting    1955 non-null   int64  \n",
      " 8   NumberOfFollowups         1942 non-null   float64\n",
      " 9   ProductPitched            1955 non-null   object \n",
      " 10  PreferredPropertyStar     1945 non-null   float64\n",
      " 11  MaritalStatus             1955 non-null   object \n",
      " 12  NumberOfTrips             1898 non-null   float64\n",
      " 13  Passport                  1955 non-null   int64  \n",
      " 14  PitchSatisfactionScore    1955 non-null   int64  \n",
      " 15  OwnCar                    1955 non-null   int64  \n",
      " 16  NumberOfChildrenVisiting  1928 non-null   float64\n",
      " 17  Designation               1955 non-null   object \n",
      " 18  MonthlyIncome             1855 non-null   float64\n",
      " 19  ProdTaken                 1955 non-null   int64  \n",
      "dtypes: float64(7), int64(7), object(6)\n",
      "memory usage: 305.6+ KB\n"
     ]
    }
   ],
   "source": [
    "train = pd.read_csv(r\"C:\\Users\\82109\\OneDrive\\바탕 화면\\train.csv\")\n",
    "train.info()"
   ]
  },
  {
   "cell_type": "code",
   "execution_count": 4,
   "id": "84323a33",
   "metadata": {},
   "outputs": [
    {
     "name": "stdout",
     "output_type": "stream",
     "text": [
      "<class 'pandas.core.frame.DataFrame'>\n",
      "RangeIndex: 2933 entries, 0 to 2932\n",
      "Data columns (total 19 columns):\n",
      " #   Column                    Non-Null Count  Dtype  \n",
      "---  ------                    --------------  -----  \n",
      " 0   id                        2933 non-null   int64  \n",
      " 1   Age                       2801 non-null   float64\n",
      " 2   TypeofContact             2918 non-null   object \n",
      " 3   CityTier                  2933 non-null   int64  \n",
      " 4   DurationOfPitch           2784 non-null   float64\n",
      " 5   Occupation                2933 non-null   object \n",
      " 6   Gender                    2933 non-null   object \n",
      " 7   NumberOfPersonVisiting    2933 non-null   int64  \n",
      " 8   NumberOfFollowups         2901 non-null   float64\n",
      " 9   ProductPitched            2933 non-null   object \n",
      " 10  PreferredPropertyStar     2917 non-null   float64\n",
      " 11  MaritalStatus             2933 non-null   object \n",
      " 12  NumberOfTrips             2850 non-null   float64\n",
      " 13  Passport                  2933 non-null   int64  \n",
      " 14  PitchSatisfactionScore    2933 non-null   int64  \n",
      " 15  OwnCar                    2933 non-null   int64  \n",
      " 16  NumberOfChildrenVisiting  2894 non-null   float64\n",
      " 17  Designation               2933 non-null   object \n",
      " 18  MonthlyIncome             2800 non-null   float64\n",
      "dtypes: float64(7), int64(6), object(6)\n",
      "memory usage: 435.5+ KB\n"
     ]
    }
   ],
   "source": [
    "test = pd.read_csv(r\"C:\\Users\\82109\\OneDrive\\바탕 화면\\test.csv\")\n",
    "test.info()"
   ]
  },
  {
   "cell_type": "code",
   "execution_count": 4,
   "id": "acfff7d1",
   "metadata": {
    "scrolled": false
   },
   "outputs": [
    {
     "data": {
      "text/html": [
       "<div>\n",
       "<style scoped>\n",
       "    .dataframe tbody tr th:only-of-type {\n",
       "        vertical-align: middle;\n",
       "    }\n",
       "\n",
       "    .dataframe tbody tr th {\n",
       "        vertical-align: top;\n",
       "    }\n",
       "\n",
       "    .dataframe thead th {\n",
       "        text-align: right;\n",
       "    }\n",
       "</style>\n",
       "<table border=\"1\" class=\"dataframe\">\n",
       "  <thead>\n",
       "    <tr style=\"text-align: right;\">\n",
       "      <th></th>\n",
       "      <th>id</th>\n",
       "      <th>Age</th>\n",
       "      <th>TypeofContact</th>\n",
       "      <th>CityTier</th>\n",
       "      <th>DurationOfPitch</th>\n",
       "      <th>Occupation</th>\n",
       "      <th>Gender</th>\n",
       "      <th>NumberOfPersonVisiting</th>\n",
       "      <th>NumberOfFollowups</th>\n",
       "      <th>ProductPitched</th>\n",
       "      <th>PreferredPropertyStar</th>\n",
       "      <th>MaritalStatus</th>\n",
       "      <th>NumberOfTrips</th>\n",
       "      <th>Passport</th>\n",
       "      <th>PitchSatisfactionScore</th>\n",
       "      <th>OwnCar</th>\n",
       "      <th>NumberOfChildrenVisiting</th>\n",
       "      <th>Designation</th>\n",
       "      <th>MonthlyIncome</th>\n",
       "      <th>ProdTaken</th>\n",
       "    </tr>\n",
       "  </thead>\n",
       "  <tbody>\n",
       "    <tr>\n",
       "      <th>0</th>\n",
       "      <td>1</td>\n",
       "      <td>28.0</td>\n",
       "      <td>Company Invited</td>\n",
       "      <td>1</td>\n",
       "      <td>10.0</td>\n",
       "      <td>Small Business</td>\n",
       "      <td>Male</td>\n",
       "      <td>3</td>\n",
       "      <td>4.0</td>\n",
       "      <td>Basic</td>\n",
       "      <td>3.0</td>\n",
       "      <td>Married</td>\n",
       "      <td>3.0</td>\n",
       "      <td>0</td>\n",
       "      <td>1</td>\n",
       "      <td>0</td>\n",
       "      <td>1.0</td>\n",
       "      <td>Executive</td>\n",
       "      <td>20384.0</td>\n",
       "      <td>0</td>\n",
       "    </tr>\n",
       "    <tr>\n",
       "      <th>1</th>\n",
       "      <td>2</td>\n",
       "      <td>34.0</td>\n",
       "      <td>Self Enquiry</td>\n",
       "      <td>3</td>\n",
       "      <td>NaN</td>\n",
       "      <td>Small Business</td>\n",
       "      <td>Female</td>\n",
       "      <td>2</td>\n",
       "      <td>4.0</td>\n",
       "      <td>Deluxe</td>\n",
       "      <td>4.0</td>\n",
       "      <td>Single</td>\n",
       "      <td>1.0</td>\n",
       "      <td>1</td>\n",
       "      <td>5</td>\n",
       "      <td>1</td>\n",
       "      <td>0.0</td>\n",
       "      <td>Manager</td>\n",
       "      <td>19599.0</td>\n",
       "      <td>1</td>\n",
       "    </tr>\n",
       "    <tr>\n",
       "      <th>2</th>\n",
       "      <td>3</td>\n",
       "      <td>45.0</td>\n",
       "      <td>Company Invited</td>\n",
       "      <td>1</td>\n",
       "      <td>NaN</td>\n",
       "      <td>Salaried</td>\n",
       "      <td>Male</td>\n",
       "      <td>2</td>\n",
       "      <td>3.0</td>\n",
       "      <td>Deluxe</td>\n",
       "      <td>4.0</td>\n",
       "      <td>Married</td>\n",
       "      <td>2.0</td>\n",
       "      <td>0</td>\n",
       "      <td>4</td>\n",
       "      <td>1</td>\n",
       "      <td>0.0</td>\n",
       "      <td>Manager</td>\n",
       "      <td>NaN</td>\n",
       "      <td>0</td>\n",
       "    </tr>\n",
       "    <tr>\n",
       "      <th>3</th>\n",
       "      <td>4</td>\n",
       "      <td>29.0</td>\n",
       "      <td>Company Invited</td>\n",
       "      <td>1</td>\n",
       "      <td>7.0</td>\n",
       "      <td>Small Business</td>\n",
       "      <td>Male</td>\n",
       "      <td>3</td>\n",
       "      <td>5.0</td>\n",
       "      <td>Basic</td>\n",
       "      <td>4.0</td>\n",
       "      <td>Married</td>\n",
       "      <td>3.0</td>\n",
       "      <td>0</td>\n",
       "      <td>4</td>\n",
       "      <td>0</td>\n",
       "      <td>1.0</td>\n",
       "      <td>Executive</td>\n",
       "      <td>21274.0</td>\n",
       "      <td>1</td>\n",
       "    </tr>\n",
       "    <tr>\n",
       "      <th>4</th>\n",
       "      <td>5</td>\n",
       "      <td>42.0</td>\n",
       "      <td>Self Enquiry</td>\n",
       "      <td>3</td>\n",
       "      <td>6.0</td>\n",
       "      <td>Salaried</td>\n",
       "      <td>Male</td>\n",
       "      <td>2</td>\n",
       "      <td>3.0</td>\n",
       "      <td>Deluxe</td>\n",
       "      <td>3.0</td>\n",
       "      <td>Divorced</td>\n",
       "      <td>2.0</td>\n",
       "      <td>0</td>\n",
       "      <td>3</td>\n",
       "      <td>1</td>\n",
       "      <td>0.0</td>\n",
       "      <td>Manager</td>\n",
       "      <td>19907.0</td>\n",
       "      <td>0</td>\n",
       "    </tr>\n",
       "  </tbody>\n",
       "</table>\n",
       "</div>"
      ],
      "text/plain": [
       "   id   Age    TypeofContact  CityTier  DurationOfPitch      Occupation  \\\n",
       "0   1  28.0  Company Invited         1             10.0  Small Business   \n",
       "1   2  34.0     Self Enquiry         3              NaN  Small Business   \n",
       "2   3  45.0  Company Invited         1              NaN        Salaried   \n",
       "3   4  29.0  Company Invited         1              7.0  Small Business   \n",
       "4   5  42.0     Self Enquiry         3              6.0        Salaried   \n",
       "\n",
       "   Gender  NumberOfPersonVisiting  NumberOfFollowups ProductPitched  \\\n",
       "0    Male                       3                4.0          Basic   \n",
       "1  Female                       2                4.0         Deluxe   \n",
       "2    Male                       2                3.0         Deluxe   \n",
       "3    Male                       3                5.0          Basic   \n",
       "4    Male                       2                3.0         Deluxe   \n",
       "\n",
       "   PreferredPropertyStar MaritalStatus  NumberOfTrips  Passport  \\\n",
       "0                    3.0       Married            3.0         0   \n",
       "1                    4.0        Single            1.0         1   \n",
       "2                    4.0       Married            2.0         0   \n",
       "3                    4.0       Married            3.0         0   \n",
       "4                    3.0      Divorced            2.0         0   \n",
       "\n",
       "   PitchSatisfactionScore  OwnCar  NumberOfChildrenVisiting Designation  \\\n",
       "0                       1       0                       1.0   Executive   \n",
       "1                       5       1                       0.0     Manager   \n",
       "2                       4       1                       0.0     Manager   \n",
       "3                       4       0                       1.0   Executive   \n",
       "4                       3       1                       0.0     Manager   \n",
       "\n",
       "   MonthlyIncome  ProdTaken  \n",
       "0        20384.0          0  \n",
       "1        19599.0          1  \n",
       "2            NaN          0  \n",
       "3        21274.0          1  \n",
       "4        19907.0          0  "
      ]
     },
     "execution_count": 4,
     "metadata": {},
     "output_type": "execute_result"
    }
   ],
   "source": [
    "train.head()"
   ]
  },
  {
   "cell_type": "code",
   "execution_count": 5,
   "id": "054e7f36",
   "metadata": {
    "scrolled": true
   },
   "outputs": [
    {
     "data": {
      "text/html": [
       "<div>\n",
       "<style scoped>\n",
       "    .dataframe tbody tr th:only-of-type {\n",
       "        vertical-align: middle;\n",
       "    }\n",
       "\n",
       "    .dataframe tbody tr th {\n",
       "        vertical-align: top;\n",
       "    }\n",
       "\n",
       "    .dataframe thead th {\n",
       "        text-align: right;\n",
       "    }\n",
       "</style>\n",
       "<table border=\"1\" class=\"dataframe\">\n",
       "  <thead>\n",
       "    <tr style=\"text-align: right;\">\n",
       "      <th></th>\n",
       "      <th>id</th>\n",
       "      <th>Age</th>\n",
       "      <th>CityTier</th>\n",
       "      <th>DurationOfPitch</th>\n",
       "      <th>NumberOfPersonVisiting</th>\n",
       "      <th>NumberOfFollowups</th>\n",
       "      <th>PreferredPropertyStar</th>\n",
       "      <th>NumberOfTrips</th>\n",
       "      <th>Passport</th>\n",
       "      <th>PitchSatisfactionScore</th>\n",
       "      <th>OwnCar</th>\n",
       "      <th>NumberOfChildrenVisiting</th>\n",
       "      <th>MonthlyIncome</th>\n",
       "      <th>ProdTaken</th>\n",
       "    </tr>\n",
       "  </thead>\n",
       "  <tbody>\n",
       "    <tr>\n",
       "      <th>id</th>\n",
       "      <td>1.000000</td>\n",
       "      <td>0.006332</td>\n",
       "      <td>-0.022072</td>\n",
       "      <td>0.002178</td>\n",
       "      <td>0.036337</td>\n",
       "      <td>-0.010110</td>\n",
       "      <td>-0.011251</td>\n",
       "      <td>0.041546</td>\n",
       "      <td>0.009294</td>\n",
       "      <td>-0.040459</td>\n",
       "      <td>-0.013982</td>\n",
       "      <td>0.028112</td>\n",
       "      <td>0.032920</td>\n",
       "      <td>-0.048933</td>\n",
       "    </tr>\n",
       "    <tr>\n",
       "      <th>Age</th>\n",
       "      <td>0.006332</td>\n",
       "      <td>1.000000</td>\n",
       "      <td>0.007875</td>\n",
       "      <td>0.025779</td>\n",
       "      <td>0.010795</td>\n",
       "      <td>0.009834</td>\n",
       "      <td>-0.026789</td>\n",
       "      <td>0.178143</td>\n",
       "      <td>0.030162</td>\n",
       "      <td>0.032860</td>\n",
       "      <td>0.060298</td>\n",
       "      <td>0.039495</td>\n",
       "      <td>0.440733</td>\n",
       "      <td>-0.135832</td>\n",
       "    </tr>\n",
       "    <tr>\n",
       "      <th>CityTier</th>\n",
       "      <td>-0.022072</td>\n",
       "      <td>0.007875</td>\n",
       "      <td>1.000000</td>\n",
       "      <td>0.056010</td>\n",
       "      <td>0.018071</td>\n",
       "      <td>0.023532</td>\n",
       "      <td>-0.011882</td>\n",
       "      <td>-0.020887</td>\n",
       "      <td>0.013665</td>\n",
       "      <td>-0.028168</td>\n",
       "      <td>0.014177</td>\n",
       "      <td>0.025359</td>\n",
       "      <td>0.057705</td>\n",
       "      <td>0.085583</td>\n",
       "    </tr>\n",
       "    <tr>\n",
       "      <th>DurationOfPitch</th>\n",
       "      <td>0.002178</td>\n",
       "      <td>0.025779</td>\n",
       "      <td>0.056010</td>\n",
       "      <td>1.000000</td>\n",
       "      <td>0.096268</td>\n",
       "      <td>0.039485</td>\n",
       "      <td>-0.004448</td>\n",
       "      <td>0.022236</td>\n",
       "      <td>0.043478</td>\n",
       "      <td>0.011926</td>\n",
       "      <td>-0.015087</td>\n",
       "      <td>0.047770</td>\n",
       "      <td>0.016011</td>\n",
       "      <td>0.072899</td>\n",
       "    </tr>\n",
       "    <tr>\n",
       "      <th>NumberOfPersonVisiting</th>\n",
       "      <td>0.036337</td>\n",
       "      <td>0.010795</td>\n",
       "      <td>0.018071</td>\n",
       "      <td>0.096268</td>\n",
       "      <td>1.000000</td>\n",
       "      <td>0.333738</td>\n",
       "      <td>0.017057</td>\n",
       "      <td>0.214895</td>\n",
       "      <td>0.023638</td>\n",
       "      <td>-0.012981</td>\n",
       "      <td>0.018545</td>\n",
       "      <td>0.610193</td>\n",
       "      <td>0.168701</td>\n",
       "      <td>0.006483</td>\n",
       "    </tr>\n",
       "    <tr>\n",
       "      <th>NumberOfFollowups</th>\n",
       "      <td>-0.010110</td>\n",
       "      <td>0.009834</td>\n",
       "      <td>0.023532</td>\n",
       "      <td>0.039485</td>\n",
       "      <td>0.333738</td>\n",
       "      <td>1.000000</td>\n",
       "      <td>-0.049151</td>\n",
       "      <td>0.135183</td>\n",
       "      <td>-0.005332</td>\n",
       "      <td>-0.007195</td>\n",
       "      <td>0.051920</td>\n",
       "      <td>0.293942</td>\n",
       "      <td>0.194668</td>\n",
       "      <td>0.105038</td>\n",
       "    </tr>\n",
       "    <tr>\n",
       "      <th>PreferredPropertyStar</th>\n",
       "      <td>-0.011251</td>\n",
       "      <td>-0.026789</td>\n",
       "      <td>-0.011882</td>\n",
       "      <td>-0.004448</td>\n",
       "      <td>0.017057</td>\n",
       "      <td>-0.049151</td>\n",
       "      <td>1.000000</td>\n",
       "      <td>0.035064</td>\n",
       "      <td>0.014701</td>\n",
       "      <td>-0.019620</td>\n",
       "      <td>0.031355</td>\n",
       "      <td>0.027038</td>\n",
       "      <td>-0.024338</td>\n",
       "      <td>0.114923</td>\n",
       "    </tr>\n",
       "    <tr>\n",
       "      <th>NumberOfTrips</th>\n",
       "      <td>0.041546</td>\n",
       "      <td>0.178143</td>\n",
       "      <td>-0.020887</td>\n",
       "      <td>0.022236</td>\n",
       "      <td>0.214895</td>\n",
       "      <td>0.135183</td>\n",
       "      <td>0.035064</td>\n",
       "      <td>1.000000</td>\n",
       "      <td>0.004418</td>\n",
       "      <td>0.034816</td>\n",
       "      <td>0.005982</td>\n",
       "      <td>0.189517</td>\n",
       "      <td>0.137093</td>\n",
       "      <td>0.044922</td>\n",
       "    </tr>\n",
       "    <tr>\n",
       "      <th>Passport</th>\n",
       "      <td>0.009294</td>\n",
       "      <td>0.030162</td>\n",
       "      <td>0.013665</td>\n",
       "      <td>0.043478</td>\n",
       "      <td>0.023638</td>\n",
       "      <td>-0.005332</td>\n",
       "      <td>0.014701</td>\n",
       "      <td>0.004418</td>\n",
       "      <td>1.000000</td>\n",
       "      <td>0.018526</td>\n",
       "      <td>-0.045133</td>\n",
       "      <td>0.030512</td>\n",
       "      <td>0.017044</td>\n",
       "      <td>0.293726</td>\n",
       "    </tr>\n",
       "    <tr>\n",
       "      <th>PitchSatisfactionScore</th>\n",
       "      <td>-0.040459</td>\n",
       "      <td>0.032860</td>\n",
       "      <td>-0.028168</td>\n",
       "      <td>0.011926</td>\n",
       "      <td>-0.012981</td>\n",
       "      <td>-0.007195</td>\n",
       "      <td>-0.019620</td>\n",
       "      <td>0.034816</td>\n",
       "      <td>0.018526</td>\n",
       "      <td>1.000000</td>\n",
       "      <td>0.073097</td>\n",
       "      <td>0.023842</td>\n",
       "      <td>-0.005497</td>\n",
       "      <td>0.067736</td>\n",
       "    </tr>\n",
       "    <tr>\n",
       "      <th>OwnCar</th>\n",
       "      <td>-0.013982</td>\n",
       "      <td>0.060298</td>\n",
       "      <td>0.014177</td>\n",
       "      <td>-0.015087</td>\n",
       "      <td>0.018545</td>\n",
       "      <td>0.051920</td>\n",
       "      <td>0.031355</td>\n",
       "      <td>0.005982</td>\n",
       "      <td>-0.045133</td>\n",
       "      <td>0.073097</td>\n",
       "      <td>1.000000</td>\n",
       "      <td>0.036416</td>\n",
       "      <td>0.109662</td>\n",
       "      <td>-0.040465</td>\n",
       "    </tr>\n",
       "    <tr>\n",
       "      <th>NumberOfChildrenVisiting</th>\n",
       "      <td>0.028112</td>\n",
       "      <td>0.039495</td>\n",
       "      <td>0.025359</td>\n",
       "      <td>0.047770</td>\n",
       "      <td>0.610193</td>\n",
       "      <td>0.293942</td>\n",
       "      <td>0.027038</td>\n",
       "      <td>0.189517</td>\n",
       "      <td>0.030512</td>\n",
       "      <td>0.023842</td>\n",
       "      <td>0.036416</td>\n",
       "      <td>1.000000</td>\n",
       "      <td>0.179255</td>\n",
       "      <td>0.006060</td>\n",
       "    </tr>\n",
       "    <tr>\n",
       "      <th>MonthlyIncome</th>\n",
       "      <td>0.032920</td>\n",
       "      <td>0.440733</td>\n",
       "      <td>0.057705</td>\n",
       "      <td>0.016011</td>\n",
       "      <td>0.168701</td>\n",
       "      <td>0.194668</td>\n",
       "      <td>-0.024338</td>\n",
       "      <td>0.137093</td>\n",
       "      <td>0.017044</td>\n",
       "      <td>-0.005497</td>\n",
       "      <td>0.109662</td>\n",
       "      <td>0.179255</td>\n",
       "      <td>1.000000</td>\n",
       "      <td>-0.140617</td>\n",
       "    </tr>\n",
       "    <tr>\n",
       "      <th>ProdTaken</th>\n",
       "      <td>-0.048933</td>\n",
       "      <td>-0.135832</td>\n",
       "      <td>0.085583</td>\n",
       "      <td>0.072899</td>\n",
       "      <td>0.006483</td>\n",
       "      <td>0.105038</td>\n",
       "      <td>0.114923</td>\n",
       "      <td>0.044922</td>\n",
       "      <td>0.293726</td>\n",
       "      <td>0.067736</td>\n",
       "      <td>-0.040465</td>\n",
       "      <td>0.006060</td>\n",
       "      <td>-0.140617</td>\n",
       "      <td>1.000000</td>\n",
       "    </tr>\n",
       "  </tbody>\n",
       "</table>\n",
       "</div>"
      ],
      "text/plain": [
       "                                id       Age  CityTier  DurationOfPitch  \\\n",
       "id                        1.000000  0.006332 -0.022072         0.002178   \n",
       "Age                       0.006332  1.000000  0.007875         0.025779   \n",
       "CityTier                 -0.022072  0.007875  1.000000         0.056010   \n",
       "DurationOfPitch           0.002178  0.025779  0.056010         1.000000   \n",
       "NumberOfPersonVisiting    0.036337  0.010795  0.018071         0.096268   \n",
       "NumberOfFollowups        -0.010110  0.009834  0.023532         0.039485   \n",
       "PreferredPropertyStar    -0.011251 -0.026789 -0.011882        -0.004448   \n",
       "NumberOfTrips             0.041546  0.178143 -0.020887         0.022236   \n",
       "Passport                  0.009294  0.030162  0.013665         0.043478   \n",
       "PitchSatisfactionScore   -0.040459  0.032860 -0.028168         0.011926   \n",
       "OwnCar                   -0.013982  0.060298  0.014177        -0.015087   \n",
       "NumberOfChildrenVisiting  0.028112  0.039495  0.025359         0.047770   \n",
       "MonthlyIncome             0.032920  0.440733  0.057705         0.016011   \n",
       "ProdTaken                -0.048933 -0.135832  0.085583         0.072899   \n",
       "\n",
       "                          NumberOfPersonVisiting  NumberOfFollowups  \\\n",
       "id                                      0.036337          -0.010110   \n",
       "Age                                     0.010795           0.009834   \n",
       "CityTier                                0.018071           0.023532   \n",
       "DurationOfPitch                         0.096268           0.039485   \n",
       "NumberOfPersonVisiting                  1.000000           0.333738   \n",
       "NumberOfFollowups                       0.333738           1.000000   \n",
       "PreferredPropertyStar                   0.017057          -0.049151   \n",
       "NumberOfTrips                           0.214895           0.135183   \n",
       "Passport                                0.023638          -0.005332   \n",
       "PitchSatisfactionScore                 -0.012981          -0.007195   \n",
       "OwnCar                                  0.018545           0.051920   \n",
       "NumberOfChildrenVisiting                0.610193           0.293942   \n",
       "MonthlyIncome                           0.168701           0.194668   \n",
       "ProdTaken                               0.006483           0.105038   \n",
       "\n",
       "                          PreferredPropertyStar  NumberOfTrips  Passport  \\\n",
       "id                                    -0.011251       0.041546  0.009294   \n",
       "Age                                   -0.026789       0.178143  0.030162   \n",
       "CityTier                              -0.011882      -0.020887  0.013665   \n",
       "DurationOfPitch                       -0.004448       0.022236  0.043478   \n",
       "NumberOfPersonVisiting                 0.017057       0.214895  0.023638   \n",
       "NumberOfFollowups                     -0.049151       0.135183 -0.005332   \n",
       "PreferredPropertyStar                  1.000000       0.035064  0.014701   \n",
       "NumberOfTrips                          0.035064       1.000000  0.004418   \n",
       "Passport                               0.014701       0.004418  1.000000   \n",
       "PitchSatisfactionScore                -0.019620       0.034816  0.018526   \n",
       "OwnCar                                 0.031355       0.005982 -0.045133   \n",
       "NumberOfChildrenVisiting               0.027038       0.189517  0.030512   \n",
       "MonthlyIncome                         -0.024338       0.137093  0.017044   \n",
       "ProdTaken                              0.114923       0.044922  0.293726   \n",
       "\n",
       "                          PitchSatisfactionScore    OwnCar  \\\n",
       "id                                     -0.040459 -0.013982   \n",
       "Age                                     0.032860  0.060298   \n",
       "CityTier                               -0.028168  0.014177   \n",
       "DurationOfPitch                         0.011926 -0.015087   \n",
       "NumberOfPersonVisiting                 -0.012981  0.018545   \n",
       "NumberOfFollowups                      -0.007195  0.051920   \n",
       "PreferredPropertyStar                  -0.019620  0.031355   \n",
       "NumberOfTrips                           0.034816  0.005982   \n",
       "Passport                                0.018526 -0.045133   \n",
       "PitchSatisfactionScore                  1.000000  0.073097   \n",
       "OwnCar                                  0.073097  1.000000   \n",
       "NumberOfChildrenVisiting                0.023842  0.036416   \n",
       "MonthlyIncome                          -0.005497  0.109662   \n",
       "ProdTaken                               0.067736 -0.040465   \n",
       "\n",
       "                          NumberOfChildrenVisiting  MonthlyIncome  ProdTaken  \n",
       "id                                        0.028112       0.032920  -0.048933  \n",
       "Age                                       0.039495       0.440733  -0.135832  \n",
       "CityTier                                  0.025359       0.057705   0.085583  \n",
       "DurationOfPitch                           0.047770       0.016011   0.072899  \n",
       "NumberOfPersonVisiting                    0.610193       0.168701   0.006483  \n",
       "NumberOfFollowups                         0.293942       0.194668   0.105038  \n",
       "PreferredPropertyStar                     0.027038      -0.024338   0.114923  \n",
       "NumberOfTrips                             0.189517       0.137093   0.044922  \n",
       "Passport                                  0.030512       0.017044   0.293726  \n",
       "PitchSatisfactionScore                    0.023842      -0.005497   0.067736  \n",
       "OwnCar                                    0.036416       0.109662  -0.040465  \n",
       "NumberOfChildrenVisiting                  1.000000       0.179255   0.006060  \n",
       "MonthlyIncome                             0.179255       1.000000  -0.140617  \n",
       "ProdTaken                                 0.006060      -0.140617   1.000000  "
      ]
     },
     "execution_count": 5,
     "metadata": {},
     "output_type": "execute_result"
    }
   ],
   "source": [
    "train.corr()"
   ]
  },
  {
   "cell_type": "markdown",
   "id": "0aef4838",
   "metadata": {},
   "source": [
    "- 전반적으로 매우 상관계수가 낮음"
   ]
  },
  {
   "cell_type": "markdown",
   "id": "666259c5",
   "metadata": {},
   "source": [
    "### 결측치 처리"
   ]
  },
  {
   "cell_type": "code",
   "execution_count": 6,
   "id": "ebce2166",
   "metadata": {
    "scrolled": true
   },
   "outputs": [
    {
     "data": {
      "text/plain": [
       "id                            0\n",
       "Age                          94\n",
       "TypeofContact                10\n",
       "CityTier                      0\n",
       "DurationOfPitch             102\n",
       "Occupation                    0\n",
       "Gender                        0\n",
       "NumberOfPersonVisiting        0\n",
       "NumberOfFollowups            13\n",
       "ProductPitched                0\n",
       "PreferredPropertyStar        10\n",
       "MaritalStatus                 0\n",
       "NumberOfTrips                57\n",
       "Passport                      0\n",
       "PitchSatisfactionScore        0\n",
       "OwnCar                        0\n",
       "NumberOfChildrenVisiting     27\n",
       "Designation                   0\n",
       "MonthlyIncome               100\n",
       "ProdTaken                     0\n",
       "dtype: int64"
      ]
     },
     "execution_count": 6,
     "metadata": {},
     "output_type": "execute_result"
    }
   ],
   "source": [
    "train.isna().sum()"
   ]
  },
  {
   "cell_type": "code",
   "execution_count": 7,
   "id": "1d8c3d0a",
   "metadata": {},
   "outputs": [
    {
     "data": {
      "text/plain": [
       "id                            0\n",
       "Age                         132\n",
       "TypeofContact                15\n",
       "CityTier                      0\n",
       "DurationOfPitch             149\n",
       "Occupation                    0\n",
       "Gender                        0\n",
       "NumberOfPersonVisiting        0\n",
       "NumberOfFollowups            32\n",
       "ProductPitched                0\n",
       "PreferredPropertyStar        16\n",
       "MaritalStatus                 0\n",
       "NumberOfTrips                83\n",
       "Passport                      0\n",
       "PitchSatisfactionScore        0\n",
       "OwnCar                        0\n",
       "NumberOfChildrenVisiting     39\n",
       "Designation                   0\n",
       "MonthlyIncome               133\n",
       "dtype: int64"
      ]
     },
     "execution_count": 7,
     "metadata": {},
     "output_type": "execute_result"
    }
   ],
   "source": [
    "test.isna().sum()"
   ]
  },
  {
   "cell_type": "markdown",
   "id": "c199b5f5",
   "metadata": {},
   "source": [
    "#### Age : 직업에 따른 직급의 나이 평균으로 채움"
   ]
  },
  {
   "cell_type": "code",
   "execution_count": 8,
   "id": "b2234713",
   "metadata": {},
   "outputs": [
    {
     "data": {
      "text/plain": [
       "count    1861.000000\n",
       "mean       37.462117\n",
       "std         9.189948\n",
       "min        18.000000\n",
       "25%        31.000000\n",
       "50%        36.000000\n",
       "75%        43.000000\n",
       "max        61.000000\n",
       "Name: Age, dtype: float64"
      ]
     },
     "execution_count": 8,
     "metadata": {},
     "output_type": "execute_result"
    }
   ],
   "source": [
    "train['Age'].describe()"
   ]
  },
  {
   "cell_type": "code",
   "execution_count": 9,
   "id": "2a2c6397",
   "metadata": {
    "scrolled": false
   },
   "outputs": [
    {
     "data": {
      "text/plain": [
       "Occupation      Designation   \n",
       "Free Lancer     Executive         37.000000\n",
       "Large Business  AVP               49.000000\n",
       "                Executive         30.765625\n",
       "                Manager           37.215686\n",
       "                Senior Manager    44.031250\n",
       "                VP                45.200000\n",
       "Salaried        AVP               45.983871\n",
       "                Executive         33.502747\n",
       "                Manager           37.750842\n",
       "                Senior Manager    40.425532\n",
       "                VP                48.019231\n",
       "Small Business  AVP               50.262295\n",
       "                Executive         32.155894\n",
       "                Manager           36.730897\n",
       "                Senior Manager    41.429688\n",
       "                VP                46.812500\n",
       "Name: Age, dtype: float64"
      ]
     },
     "execution_count": 9,
     "metadata": {},
     "output_type": "execute_result"
    }
   ],
   "source": [
    "train.groupby(['Occupation','Designation']).mean()['Age']"
   ]
  },
  {
   "cell_type": "code",
   "execution_count": 10,
   "id": "5c176f94",
   "metadata": {},
   "outputs": [
    {
     "data": {
      "text/plain": [
       "Occupation      Designation   \n",
       "Free Lancer     Executive         38.000000\n",
       "Large Business  AVP               47.818182\n",
       "                Executive         32.070175\n",
       "                Manager           37.746479\n",
       "                Senior Manager    40.865385\n",
       "                VP                48.000000\n",
       "Salaried        AVP               47.517857\n",
       "                Executive         33.770459\n",
       "                Manager           37.197425\n",
       "                Senior Manager    39.700508\n",
       "                VP                48.548387\n",
       "Small Business  AVP               48.505618\n",
       "                Executive         32.961538\n",
       "                Manager           37.716129\n",
       "                Senior Manager    40.382199\n",
       "                VP                48.444444\n",
       "Name: Age, dtype: float64"
      ]
     },
     "execution_count": 10,
     "metadata": {},
     "output_type": "execute_result"
    }
   ],
   "source": [
    "test.groupby(['Occupation','Designation']).mean()['Age']"
   ]
  },
  {
   "cell_type": "code",
   "execution_count": 11,
   "id": "b7f34d24",
   "metadata": {},
   "outputs": [
    {
     "data": {
      "text/plain": [
       "Occupation      Designation   \n",
       "Free Lancer     Executive         37.0\n",
       "Large Business  AVP               49.0\n",
       "                Executive         31.0\n",
       "                Manager           37.0\n",
       "                Senior Manager    44.0\n",
       "                VP                45.0\n",
       "Salaried        AVP               46.0\n",
       "                Executive         34.0\n",
       "                Manager           38.0\n",
       "                Senior Manager    40.0\n",
       "                VP                48.0\n",
       "Small Business  AVP               50.0\n",
       "                Executive         32.0\n",
       "                Manager           37.0\n",
       "                Senior Manager    41.0\n",
       "                VP                47.0\n",
       "Name: Age, dtype: float64"
      ]
     },
     "execution_count": 11,
     "metadata": {},
     "output_type": "execute_result"
    }
   ],
   "source": [
    "round(train.groupby(['Occupation','Designation']).mean()['Age'],0)"
   ]
  },
  {
   "cell_type": "code",
   "execution_count": 12,
   "id": "b81f7089",
   "metadata": {},
   "outputs": [
    {
     "data": {
      "text/html": [
       "<div>\n",
       "<style scoped>\n",
       "    .dataframe tbody tr th:only-of-type {\n",
       "        vertical-align: middle;\n",
       "    }\n",
       "\n",
       "    .dataframe tbody tr th {\n",
       "        vertical-align: top;\n",
       "    }\n",
       "\n",
       "    .dataframe thead th {\n",
       "        text-align: right;\n",
       "    }\n",
       "</style>\n",
       "<table border=\"1\" class=\"dataframe\">\n",
       "  <thead>\n",
       "    <tr style=\"text-align: right;\">\n",
       "      <th></th>\n",
       "      <th>id</th>\n",
       "      <th>Age</th>\n",
       "      <th>TypeofContact</th>\n",
       "      <th>CityTier</th>\n",
       "      <th>DurationOfPitch</th>\n",
       "      <th>Occupation</th>\n",
       "      <th>Gender</th>\n",
       "      <th>NumberOfPersonVisiting</th>\n",
       "      <th>NumberOfFollowups</th>\n",
       "      <th>ProductPitched</th>\n",
       "      <th>PreferredPropertyStar</th>\n",
       "      <th>MaritalStatus</th>\n",
       "      <th>NumberOfTrips</th>\n",
       "      <th>Passport</th>\n",
       "      <th>PitchSatisfactionScore</th>\n",
       "      <th>OwnCar</th>\n",
       "      <th>NumberOfChildrenVisiting</th>\n",
       "      <th>Designation</th>\n",
       "      <th>MonthlyIncome</th>\n",
       "      <th>ProdTaken</th>\n",
       "    </tr>\n",
       "  </thead>\n",
       "  <tbody>\n",
       "    <tr>\n",
       "      <th>13</th>\n",
       "      <td>14</td>\n",
       "      <td>NaN</td>\n",
       "      <td>Self Enquiry</td>\n",
       "      <td>3</td>\n",
       "      <td>6.0</td>\n",
       "      <td>Small Business</td>\n",
       "      <td>Male</td>\n",
       "      <td>2</td>\n",
       "      <td>1.0</td>\n",
       "      <td>Deluxe</td>\n",
       "      <td>5.0</td>\n",
       "      <td>Married</td>\n",
       "      <td>2.0</td>\n",
       "      <td>0</td>\n",
       "      <td>4</td>\n",
       "      <td>0</td>\n",
       "      <td>0.0</td>\n",
       "      <td>Manager</td>\n",
       "      <td>NaN</td>\n",
       "      <td>0</td>\n",
       "    </tr>\n",
       "    <tr>\n",
       "      <th>26</th>\n",
       "      <td>27</td>\n",
       "      <td>NaN</td>\n",
       "      <td>Self Enquiry</td>\n",
       "      <td>1</td>\n",
       "      <td>6.0</td>\n",
       "      <td>Small Business</td>\n",
       "      <td>Female</td>\n",
       "      <td>3</td>\n",
       "      <td>3.0</td>\n",
       "      <td>Basic</td>\n",
       "      <td>5.0</td>\n",
       "      <td>Married</td>\n",
       "      <td>2.0</td>\n",
       "      <td>0</td>\n",
       "      <td>1</td>\n",
       "      <td>1</td>\n",
       "      <td>0.0</td>\n",
       "      <td>Executive</td>\n",
       "      <td>18591.0</td>\n",
       "      <td>0</td>\n",
       "    </tr>\n",
       "    <tr>\n",
       "      <th>35</th>\n",
       "      <td>36</td>\n",
       "      <td>NaN</td>\n",
       "      <td>Self Enquiry</td>\n",
       "      <td>2</td>\n",
       "      <td>14.0</td>\n",
       "      <td>Salaried</td>\n",
       "      <td>Male</td>\n",
       "      <td>2</td>\n",
       "      <td>3.0</td>\n",
       "      <td>Deluxe</td>\n",
       "      <td>4.0</td>\n",
       "      <td>Married</td>\n",
       "      <td>3.0</td>\n",
       "      <td>0</td>\n",
       "      <td>3</td>\n",
       "      <td>1</td>\n",
       "      <td>1.0</td>\n",
       "      <td>Manager</td>\n",
       "      <td>NaN</td>\n",
       "      <td>0</td>\n",
       "    </tr>\n",
       "    <tr>\n",
       "      <th>87</th>\n",
       "      <td>88</td>\n",
       "      <td>NaN</td>\n",
       "      <td>Self Enquiry</td>\n",
       "      <td>2</td>\n",
       "      <td>8.0</td>\n",
       "      <td>Salaried</td>\n",
       "      <td>Male</td>\n",
       "      <td>3</td>\n",
       "      <td>3.0</td>\n",
       "      <td>Basic</td>\n",
       "      <td>3.0</td>\n",
       "      <td>Single</td>\n",
       "      <td>1.0</td>\n",
       "      <td>0</td>\n",
       "      <td>1</td>\n",
       "      <td>0</td>\n",
       "      <td>0.0</td>\n",
       "      <td>Executive</td>\n",
       "      <td>18539.0</td>\n",
       "      <td>0</td>\n",
       "    </tr>\n",
       "    <tr>\n",
       "      <th>121</th>\n",
       "      <td>122</td>\n",
       "      <td>NaN</td>\n",
       "      <td>Self Enquiry</td>\n",
       "      <td>1</td>\n",
       "      <td>35.0</td>\n",
       "      <td>Small Business</td>\n",
       "      <td>Male</td>\n",
       "      <td>3</td>\n",
       "      <td>3.0</td>\n",
       "      <td>Basic</td>\n",
       "      <td>5.0</td>\n",
       "      <td>Married</td>\n",
       "      <td>2.0</td>\n",
       "      <td>0</td>\n",
       "      <td>4</td>\n",
       "      <td>1</td>\n",
       "      <td>1.0</td>\n",
       "      <td>Executive</td>\n",
       "      <td>NaN</td>\n",
       "      <td>0</td>\n",
       "    </tr>\n",
       "    <tr>\n",
       "      <th>...</th>\n",
       "      <td>...</td>\n",
       "      <td>...</td>\n",
       "      <td>...</td>\n",
       "      <td>...</td>\n",
       "      <td>...</td>\n",
       "      <td>...</td>\n",
       "      <td>...</td>\n",
       "      <td>...</td>\n",
       "      <td>...</td>\n",
       "      <td>...</td>\n",
       "      <td>...</td>\n",
       "      <td>...</td>\n",
       "      <td>...</td>\n",
       "      <td>...</td>\n",
       "      <td>...</td>\n",
       "      <td>...</td>\n",
       "      <td>...</td>\n",
       "      <td>...</td>\n",
       "      <td>...</td>\n",
       "      <td>...</td>\n",
       "    </tr>\n",
       "    <tr>\n",
       "      <th>1882</th>\n",
       "      <td>1883</td>\n",
       "      <td>NaN</td>\n",
       "      <td>Self Enquiry</td>\n",
       "      <td>1</td>\n",
       "      <td>15.0</td>\n",
       "      <td>Salaried</td>\n",
       "      <td>Male</td>\n",
       "      <td>1</td>\n",
       "      <td>4.0</td>\n",
       "      <td>Basic</td>\n",
       "      <td>3.0</td>\n",
       "      <td>Single</td>\n",
       "      <td>1.0</td>\n",
       "      <td>0</td>\n",
       "      <td>2</td>\n",
       "      <td>1</td>\n",
       "      <td>0.0</td>\n",
       "      <td>Executive</td>\n",
       "      <td>NaN</td>\n",
       "      <td>0</td>\n",
       "    </tr>\n",
       "    <tr>\n",
       "      <th>1888</th>\n",
       "      <td>1889</td>\n",
       "      <td>NaN</td>\n",
       "      <td>Self Enquiry</td>\n",
       "      <td>1</td>\n",
       "      <td>12.0</td>\n",
       "      <td>Small Business</td>\n",
       "      <td>Female</td>\n",
       "      <td>3</td>\n",
       "      <td>4.0</td>\n",
       "      <td>Deluxe</td>\n",
       "      <td>3.0</td>\n",
       "      <td>Single</td>\n",
       "      <td>2.0</td>\n",
       "      <td>1</td>\n",
       "      <td>4</td>\n",
       "      <td>1</td>\n",
       "      <td>1.0</td>\n",
       "      <td>Manager</td>\n",
       "      <td>NaN</td>\n",
       "      <td>0</td>\n",
       "    </tr>\n",
       "    <tr>\n",
       "      <th>1914</th>\n",
       "      <td>1915</td>\n",
       "      <td>NaN</td>\n",
       "      <td>Self Enquiry</td>\n",
       "      <td>1</td>\n",
       "      <td>7.0</td>\n",
       "      <td>Salaried</td>\n",
       "      <td>Female</td>\n",
       "      <td>3</td>\n",
       "      <td>3.0</td>\n",
       "      <td>Basic</td>\n",
       "      <td>3.0</td>\n",
       "      <td>Married</td>\n",
       "      <td>2.0</td>\n",
       "      <td>0</td>\n",
       "      <td>1</td>\n",
       "      <td>1</td>\n",
       "      <td>2.0</td>\n",
       "      <td>Executive</td>\n",
       "      <td>NaN</td>\n",
       "      <td>0</td>\n",
       "    </tr>\n",
       "    <tr>\n",
       "      <th>1916</th>\n",
       "      <td>1917</td>\n",
       "      <td>NaN</td>\n",
       "      <td>Self Enquiry</td>\n",
       "      <td>2</td>\n",
       "      <td>26.0</td>\n",
       "      <td>Small Business</td>\n",
       "      <td>Female</td>\n",
       "      <td>3</td>\n",
       "      <td>3.0</td>\n",
       "      <td>Basic</td>\n",
       "      <td>4.0</td>\n",
       "      <td>Married</td>\n",
       "      <td>1.0</td>\n",
       "      <td>1</td>\n",
       "      <td>3</td>\n",
       "      <td>0</td>\n",
       "      <td>1.0</td>\n",
       "      <td>Executive</td>\n",
       "      <td>18669.0</td>\n",
       "      <td>1</td>\n",
       "    </tr>\n",
       "    <tr>\n",
       "      <th>1923</th>\n",
       "      <td>1924</td>\n",
       "      <td>NaN</td>\n",
       "      <td>Company Invited</td>\n",
       "      <td>3</td>\n",
       "      <td>16.0</td>\n",
       "      <td>Salaried</td>\n",
       "      <td>Male</td>\n",
       "      <td>2</td>\n",
       "      <td>3.0</td>\n",
       "      <td>Deluxe</td>\n",
       "      <td>3.0</td>\n",
       "      <td>Married</td>\n",
       "      <td>2.0</td>\n",
       "      <td>1</td>\n",
       "      <td>1</td>\n",
       "      <td>1</td>\n",
       "      <td>1.0</td>\n",
       "      <td>Manager</td>\n",
       "      <td>NaN</td>\n",
       "      <td>0</td>\n",
       "    </tr>\n",
       "  </tbody>\n",
       "</table>\n",
       "<p>94 rows × 20 columns</p>\n",
       "</div>"
      ],
      "text/plain": [
       "        id  Age    TypeofContact  CityTier  DurationOfPitch      Occupation  \\\n",
       "13      14  NaN     Self Enquiry         3              6.0  Small Business   \n",
       "26      27  NaN     Self Enquiry         1              6.0  Small Business   \n",
       "35      36  NaN     Self Enquiry         2             14.0        Salaried   \n",
       "87      88  NaN     Self Enquiry         2              8.0        Salaried   \n",
       "121    122  NaN     Self Enquiry         1             35.0  Small Business   \n",
       "...    ...  ...              ...       ...              ...             ...   \n",
       "1882  1883  NaN     Self Enquiry         1             15.0        Salaried   \n",
       "1888  1889  NaN     Self Enquiry         1             12.0  Small Business   \n",
       "1914  1915  NaN     Self Enquiry         1              7.0        Salaried   \n",
       "1916  1917  NaN     Self Enquiry         2             26.0  Small Business   \n",
       "1923  1924  NaN  Company Invited         3             16.0        Salaried   \n",
       "\n",
       "      Gender  NumberOfPersonVisiting  NumberOfFollowups ProductPitched  \\\n",
       "13      Male                       2                1.0         Deluxe   \n",
       "26    Female                       3                3.0          Basic   \n",
       "35      Male                       2                3.0         Deluxe   \n",
       "87      Male                       3                3.0          Basic   \n",
       "121     Male                       3                3.0          Basic   \n",
       "...      ...                     ...                ...            ...   \n",
       "1882    Male                       1                4.0          Basic   \n",
       "1888  Female                       3                4.0         Deluxe   \n",
       "1914  Female                       3                3.0          Basic   \n",
       "1916  Female                       3                3.0          Basic   \n",
       "1923    Male                       2                3.0         Deluxe   \n",
       "\n",
       "      PreferredPropertyStar MaritalStatus  NumberOfTrips  Passport  \\\n",
       "13                      5.0       Married            2.0         0   \n",
       "26                      5.0       Married            2.0         0   \n",
       "35                      4.0       Married            3.0         0   \n",
       "87                      3.0        Single            1.0         0   \n",
       "121                     5.0       Married            2.0         0   \n",
       "...                     ...           ...            ...       ...   \n",
       "1882                    3.0        Single            1.0         0   \n",
       "1888                    3.0        Single            2.0         1   \n",
       "1914                    3.0       Married            2.0         0   \n",
       "1916                    4.0       Married            1.0         1   \n",
       "1923                    3.0       Married            2.0         1   \n",
       "\n",
       "      PitchSatisfactionScore  OwnCar  NumberOfChildrenVisiting Designation  \\\n",
       "13                         4       0                       0.0     Manager   \n",
       "26                         1       1                       0.0   Executive   \n",
       "35                         3       1                       1.0     Manager   \n",
       "87                         1       0                       0.0   Executive   \n",
       "121                        4       1                       1.0   Executive   \n",
       "...                      ...     ...                       ...         ...   \n",
       "1882                       2       1                       0.0   Executive   \n",
       "1888                       4       1                       1.0     Manager   \n",
       "1914                       1       1                       2.0   Executive   \n",
       "1916                       3       0                       1.0   Executive   \n",
       "1923                       1       1                       1.0     Manager   \n",
       "\n",
       "      MonthlyIncome  ProdTaken  \n",
       "13              NaN          0  \n",
       "26          18591.0          0  \n",
       "35              NaN          0  \n",
       "87          18539.0          0  \n",
       "121             NaN          0  \n",
       "...             ...        ...  \n",
       "1882            NaN          0  \n",
       "1888            NaN          0  \n",
       "1914            NaN          0  \n",
       "1916        18669.0          1  \n",
       "1923            NaN          0  \n",
       "\n",
       "[94 rows x 20 columns]"
      ]
     },
     "execution_count": 12,
     "metadata": {},
     "output_type": "execute_result"
    }
   ],
   "source": [
    "train[train['Age'].isna()]"
   ]
  },
  {
   "cell_type": "code",
   "execution_count": 13,
   "id": "7142cd40",
   "metadata": {},
   "outputs": [],
   "source": [
    "def age_fillna(agefill) :\n",
    "    train['Age'] = train['Age'].fillna(agefill)"
   ]
  },
  {
   "cell_type": "code",
   "execution_count": 14,
   "id": "2fa6801e",
   "metadata": {},
   "outputs": [],
   "source": [
    "for agefill in round(train.groupby(['Occupation','Designation']).mean()['Age'],0) :\n",
    "    age_fillna(agefill)"
   ]
  },
  {
   "cell_type": "code",
   "execution_count": 15,
   "id": "613ebac8",
   "metadata": {
    "scrolled": true
   },
   "outputs": [
    {
     "data": {
      "text/plain": [
       "id                            0\n",
       "Age                           0\n",
       "TypeofContact                10\n",
       "CityTier                      0\n",
       "DurationOfPitch             102\n",
       "Occupation                    0\n",
       "Gender                        0\n",
       "NumberOfPersonVisiting        0\n",
       "NumberOfFollowups            13\n",
       "ProductPitched                0\n",
       "PreferredPropertyStar        10\n",
       "MaritalStatus                 0\n",
       "NumberOfTrips                57\n",
       "Passport                      0\n",
       "PitchSatisfactionScore        0\n",
       "OwnCar                        0\n",
       "NumberOfChildrenVisiting     27\n",
       "Designation                   0\n",
       "MonthlyIncome               100\n",
       "ProdTaken                     0\n",
       "dtype: int64"
      ]
     },
     "execution_count": 15,
     "metadata": {},
     "output_type": "execute_result"
    }
   ],
   "source": [
    "train.isna().sum()"
   ]
  },
  {
   "cell_type": "code",
   "execution_count": 16,
   "id": "6ca445f0",
   "metadata": {},
   "outputs": [],
   "source": [
    "def age_fillna(agefill) :\n",
    "    test['Age'] = test['Age'].fillna(agefill)"
   ]
  },
  {
   "cell_type": "code",
   "execution_count": 17,
   "id": "d4db736b",
   "metadata": {},
   "outputs": [],
   "source": [
    "for agefill in round(test.groupby(['Occupation','Designation']).mean()['Age'],0) :\n",
    "    age_fillna(agefill)"
   ]
  },
  {
   "cell_type": "code",
   "execution_count": 18,
   "id": "0814b7df",
   "metadata": {},
   "outputs": [
    {
     "data": {
      "text/plain": [
       "id                            0\n",
       "Age                           0\n",
       "TypeofContact                15\n",
       "CityTier                      0\n",
       "DurationOfPitch             149\n",
       "Occupation                    0\n",
       "Gender                        0\n",
       "NumberOfPersonVisiting        0\n",
       "NumberOfFollowups            32\n",
       "ProductPitched                0\n",
       "PreferredPropertyStar        16\n",
       "MaritalStatus                 0\n",
       "NumberOfTrips                83\n",
       "Passport                      0\n",
       "PitchSatisfactionScore        0\n",
       "OwnCar                        0\n",
       "NumberOfChildrenVisiting     39\n",
       "Designation                   0\n",
       "MonthlyIncome               133\n",
       "dtype: int64"
      ]
     },
     "execution_count": 18,
     "metadata": {},
     "output_type": "execute_result"
    }
   ],
   "source": [
    "test.isna().sum()"
   ]
  },
  {
   "cell_type": "code",
   "execution_count": null,
   "id": "7e3747a4",
   "metadata": {},
   "outputs": [],
   "source": []
  },
  {
   "cell_type": "markdown",
   "id": "057be2bc",
   "metadata": {},
   "source": [
    "#### DurationOfPitch"
   ]
  },
  {
   "cell_type": "markdown",
   "id": "7716b7ba",
   "metadata": {},
   "source": [
    "- DurationOfPitch와 NumberOfFollowups의 상관관계가 낮지만 프레젠테이션 기간이 길수록 만족도나 후속 조치가 많지 않을까?"
   ]
  },
  {
   "cell_type": "code",
   "execution_count": 19,
   "id": "9d79d08c",
   "metadata": {
    "scrolled": true
   },
   "outputs": [
    {
     "data": {
      "text/plain": [
       "count    1942.000000\n",
       "mean        3.718332\n",
       "std         1.004095\n",
       "min         1.000000\n",
       "25%         3.000000\n",
       "50%         4.000000\n",
       "75%         4.000000\n",
       "max         6.000000\n",
       "Name: NumberOfFollowups, dtype: float64"
      ]
     },
     "execution_count": 19,
     "metadata": {},
     "output_type": "execute_result"
    }
   ],
   "source": [
    "train['NumberOfFollowups'].describe()"
   ]
  },
  {
   "cell_type": "code",
   "execution_count": 20,
   "id": "c046775d",
   "metadata": {},
   "outputs": [
    {
     "data": {
      "text/plain": [
       "DurationOfPitch  NumberOfFollowups\n",
       "5.0              3.0                  0.000000\n",
       "                 4.0                  0.000000\n",
       "6.0              1.0                  0.000000\n",
       "                 2.0                  0.000000\n",
       "                 3.0                  0.105263\n",
       "                                        ...   \n",
       "35.0             5.0                  0.100000\n",
       "                 6.0                  0.000000\n",
       "36.0             4.0                  0.125000\n",
       "                 5.0                  0.400000\n",
       "                 6.0                  0.000000\n",
       "Name: ProdTaken, Length: 162, dtype: float64"
      ]
     },
     "execution_count": 20,
     "metadata": {},
     "output_type": "execute_result"
    }
   ],
   "source": [
    "train.groupby(['DurationOfPitch','NumberOfFollowups']).mean()['ProdTaken']"
   ]
  },
  {
   "cell_type": "code",
   "execution_count": 21,
   "id": "5cba704a",
   "metadata": {},
   "outputs": [
    {
     "data": {
      "text/plain": [
       "NumberOfFollowups\n",
       "1.0    15.957746\n",
       "2.0    14.897727\n",
       "3.0    14.948718\n",
       "4.0    15.665839\n",
       "5.0    16.083851\n",
       "6.0    16.617021\n",
       "Name: DurationOfPitch, dtype: float64"
      ]
     },
     "execution_count": 21,
     "metadata": {},
     "output_type": "execute_result"
    }
   ],
   "source": [
    "train.groupby(['NumberOfFollowups']).mean()['DurationOfPitch']"
   ]
  },
  {
   "cell_type": "code",
   "execution_count": 22,
   "id": "15a2fbca",
   "metadata": {},
   "outputs": [
    {
     "data": {
      "text/plain": [
       "PitchSatisfactionScore\n",
       "1    15.408602\n",
       "2    14.328947\n",
       "3    16.448015\n",
       "4    14.859944\n",
       "5    15.697548\n",
       "Name: DurationOfPitch, dtype: float64"
      ]
     },
     "execution_count": 22,
     "metadata": {},
     "output_type": "execute_result"
    }
   ],
   "source": [
    "train.groupby(['PitchSatisfactionScore']).mean()['DurationOfPitch']"
   ]
  },
  {
   "cell_type": "code",
   "execution_count": 23,
   "id": "0ec28acb",
   "metadata": {},
   "outputs": [
    {
     "data": {
      "image/png": "[encoded data removed]",
      "text/plain": [
       "<Figure size 432x288 with 1 Axes>"
      ]
     },
     "metadata": {
      "needs_background": "light"
     },
     "output_type": "display_data"
    }
   ],
   "source": [
    "sns.barplot(x='NumberOfFollowups', y = 'DurationOfPitch', hue = 'ProdTaken', data=train)\n",
    "plt.show()"
   ]
  },
  {
   "cell_type": "code",
   "execution_count": 24,
   "id": "a637d3e1",
   "metadata": {
    "scrolled": true
   },
   "outputs": [
    {
     "data": {
      "image/png": "[encoded data removed]",
      "text/plain": [
       "<Figure size 432x288 with 1 Axes>"
      ]
     },
     "metadata": {
      "needs_background": "light"
     },
     "output_type": "display_data"
    }
   ],
   "source": [
    "sns.barplot(x='NumberOfFollowups', y = 'PitchSatisfactionScore', hue = 'ProdTaken', data=train)\n",
    "plt.show()"
   ]
  },
  {
   "cell_type": "code",
   "execution_count": 25,
   "id": "a80075c3",
   "metadata": {},
   "outputs": [],
   "source": [
    "def pitch_fill(d_o_p):\n",
    "    train['DurationOfPitch'] = train['DurationOfPitch'].fillna(d_o_p)"
   ]
  },
  {
   "cell_type": "code",
   "execution_count": 26,
   "id": "c9f5fe0a",
   "metadata": {},
   "outputs": [],
   "source": [
    "for d_o_p in round(train.groupby(['NumberOfFollowups']).mean()['DurationOfPitch'],1) :\n",
    "    pitch_fill(d_o_p)"
   ]
  },
  {
   "cell_type": "code",
   "execution_count": 27,
   "id": "56fabb3a",
   "metadata": {
    "scrolled": true
   },
   "outputs": [
    {
     "data": {
      "text/plain": [
       "id                            0\n",
       "Age                           0\n",
       "TypeofContact                10\n",
       "CityTier                      0\n",
       "DurationOfPitch               0\n",
       "Occupation                    0\n",
       "Gender                        0\n",
       "NumberOfPersonVisiting        0\n",
       "NumberOfFollowups            13\n",
       "ProductPitched                0\n",
       "PreferredPropertyStar        10\n",
       "MaritalStatus                 0\n",
       "NumberOfTrips                57\n",
       "Passport                      0\n",
       "PitchSatisfactionScore        0\n",
       "OwnCar                        0\n",
       "NumberOfChildrenVisiting     27\n",
       "Designation                   0\n",
       "MonthlyIncome               100\n",
       "ProdTaken                     0\n",
       "dtype: int64"
      ]
     },
     "execution_count": 27,
     "metadata": {},
     "output_type": "execute_result"
    }
   ],
   "source": [
    "train.isna().sum()"
   ]
  },
  {
   "cell_type": "code",
   "execution_count": 28,
   "id": "a8c4b0dd",
   "metadata": {},
   "outputs": [],
   "source": [
    "def pitch_fill(d_o_p):\n",
    "    test['DurationOfPitch'] = test['DurationOfPitch'].fillna(d_o_p)"
   ]
  },
  {
   "cell_type": "code",
   "execution_count": 29,
   "id": "be000bda",
   "metadata": {},
   "outputs": [],
   "source": [
    "for d_o_p in round(test.groupby(['NumberOfFollowups']).mean()['DurationOfPitch'],1) :\n",
    "    pitch_fill(d_o_p)"
   ]
  },
  {
   "cell_type": "code",
   "execution_count": 30,
   "id": "bc57e275",
   "metadata": {},
   "outputs": [
    {
     "data": {
      "text/plain": [
       "id                            0\n",
       "Age                           0\n",
       "TypeofContact                15\n",
       "CityTier                      0\n",
       "DurationOfPitch               0\n",
       "Occupation                    0\n",
       "Gender                        0\n",
       "NumberOfPersonVisiting        0\n",
       "NumberOfFollowups            32\n",
       "ProductPitched                0\n",
       "PreferredPropertyStar        16\n",
       "MaritalStatus                 0\n",
       "NumberOfTrips                83\n",
       "Passport                      0\n",
       "PitchSatisfactionScore        0\n",
       "OwnCar                        0\n",
       "NumberOfChildrenVisiting     39\n",
       "Designation                   0\n",
       "MonthlyIncome               133\n",
       "dtype: int64"
      ]
     },
     "execution_count": 30,
     "metadata": {},
     "output_type": "execute_result"
    }
   ],
   "source": [
    "test.isna().sum()"
   ]
  },
  {
   "cell_type": "markdown",
   "id": "b19929d2",
   "metadata": {},
   "source": [
    "#### MonthlyIncome"
   ]
  },
  {
   "cell_type": "markdown",
   "id": "ade4a30f",
   "metadata": {},
   "source": [
    "- 직업과 직급에 따라 월 급여 알아보기"
   ]
  },
  {
   "cell_type": "code",
   "execution_count": 31,
   "id": "16e8b17d",
   "metadata": {},
   "outputs": [
    {
     "data": {
      "text/plain": [
       "Occupation      Designation   \n",
       "Free Lancer     Executive         17090.000000\n",
       "Large Business  AVP               30991.714286\n",
       "                Executive         19926.492537\n",
       "                Manager           21835.770833\n",
       "                Senior Manager    27773.093750\n",
       "                VP                36643.600000\n",
       "Salaried        AVP               32554.822581\n",
       "                Executive         20366.131720\n",
       "                Manager           22741.711340\n",
       "                Senior Manager    26635.510638\n",
       "                VP                35994.211538\n",
       "Small Business  AVP               31868.131148\n",
       "                Executive         19814.381481\n",
       "                Manager           22615.487719\n",
       "                Senior Manager    26539.542636\n",
       "                VP                35341.968750\n",
       "Name: MonthlyIncome, dtype: float64"
      ]
     },
     "execution_count": 31,
     "metadata": {},
     "output_type": "execute_result"
    }
   ],
   "source": [
    "train.groupby(['Occupation','Designation']).mean()['MonthlyIncome']"
   ]
  },
  {
   "cell_type": "markdown",
   "id": "dde55750",
   "metadata": {},
   "source": [
    "- 직업과 직급에 따라 월급이 증가"
   ]
  },
  {
   "cell_type": "code",
   "execution_count": 32,
   "id": "2ce7d09c",
   "metadata": {},
   "outputs": [],
   "source": [
    "def income_fillna(incomefill) :\n",
    "    train['MonthlyIncome'] = train['MonthlyIncome'].fillna(incomefill)"
   ]
  },
  {
   "cell_type": "code",
   "execution_count": 33,
   "id": "f4b5ed71",
   "metadata": {},
   "outputs": [
    {
     "data": {
      "text/plain": [
       "Occupation      Designation   \n",
       "Free Lancer     Executive         17090.0\n",
       "Large Business  AVP               30991.7\n",
       "                Executive         19926.5\n",
       "                Manager           21835.8\n",
       "                Senior Manager    27773.1\n",
       "                VP                36643.6\n",
       "Salaried        AVP               32554.8\n",
       "                Executive         20366.1\n",
       "                Manager           22741.7\n",
       "                Senior Manager    26635.5\n",
       "                VP                35994.2\n",
       "Small Business  AVP               31868.1\n",
       "                Executive         19814.4\n",
       "                Manager           22615.5\n",
       "                Senior Manager    26539.5\n",
       "                VP                35342.0\n",
       "Name: MonthlyIncome, dtype: float64"
      ]
     },
     "execution_count": 33,
     "metadata": {},
     "output_type": "execute_result"
    }
   ],
   "source": [
    "round(train.groupby(['Occupation','Designation']).mean()['MonthlyIncome'],1)"
   ]
  },
  {
   "cell_type": "code",
   "execution_count": 34,
   "id": "b9f03271",
   "metadata": {},
   "outputs": [],
   "source": [
    "for incomefill in round(train.groupby(['Occupation','Designation']).mean()['MonthlyIncome'],1) :\n",
    "    income_fillna(incomefill)"
   ]
  },
  {
   "cell_type": "code",
   "execution_count": 35,
   "id": "b97d15cf",
   "metadata": {
    "scrolled": true
   },
   "outputs": [
    {
     "data": {
      "text/plain": [
       "id                           0\n",
       "Age                          0\n",
       "TypeofContact               10\n",
       "CityTier                     0\n",
       "DurationOfPitch              0\n",
       "Occupation                   0\n",
       "Gender                       0\n",
       "NumberOfPersonVisiting       0\n",
       "NumberOfFollowups           13\n",
       "ProductPitched               0\n",
       "PreferredPropertyStar       10\n",
       "MaritalStatus                0\n",
       "NumberOfTrips               57\n",
       "Passport                     0\n",
       "PitchSatisfactionScore       0\n",
       "OwnCar                       0\n",
       "NumberOfChildrenVisiting    27\n",
       "Designation                  0\n",
       "MonthlyIncome                0\n",
       "ProdTaken                    0\n",
       "dtype: int64"
      ]
     },
     "execution_count": 35,
     "metadata": {},
     "output_type": "execute_result"
    }
   ],
   "source": [
    "train.isna().sum()"
   ]
  },
  {
   "cell_type": "code",
   "execution_count": 36,
   "id": "ff925270",
   "metadata": {},
   "outputs": [],
   "source": [
    "def income_fillna(incomefill) :\n",
    "    test['MonthlyIncome'] = test['MonthlyIncome'].fillna(incomefill)"
   ]
  },
  {
   "cell_type": "code",
   "execution_count": 37,
   "id": "38847a48",
   "metadata": {},
   "outputs": [],
   "source": [
    "for incomefill in round(test.groupby(['Occupation','Designation']).mean()['MonthlyIncome'],1) :\n",
    "    income_fillna(incomefill)"
   ]
  },
  {
   "cell_type": "code",
   "execution_count": 38,
   "id": "ddb9fe19",
   "metadata": {},
   "outputs": [
    {
     "data": {
      "text/plain": [
       "id                           0\n",
       "Age                          0\n",
       "TypeofContact               15\n",
       "CityTier                     0\n",
       "DurationOfPitch              0\n",
       "Occupation                   0\n",
       "Gender                       0\n",
       "NumberOfPersonVisiting       0\n",
       "NumberOfFollowups           32\n",
       "ProductPitched               0\n",
       "PreferredPropertyStar       16\n",
       "MaritalStatus                0\n",
       "NumberOfTrips               83\n",
       "Passport                     0\n",
       "PitchSatisfactionScore       0\n",
       "OwnCar                       0\n",
       "NumberOfChildrenVisiting    39\n",
       "Designation                  0\n",
       "MonthlyIncome                0\n",
       "dtype: int64"
      ]
     },
     "execution_count": 38,
     "metadata": {},
     "output_type": "execute_result"
    }
   ],
   "source": [
    "test.isna().sum()"
   ]
  },
  {
   "cell_type": "markdown",
   "id": "8e4aa8ab",
   "metadata": {},
   "source": [
    "- 패키지 신청을 하지 않은 사람이 월 급여가 더 높다"
   ]
  },
  {
   "cell_type": "markdown",
   "id": "6621401e",
   "metadata": {},
   "source": [
    "#### NumberOfChildrenVisiting"
   ]
  },
  {
   "cell_type": "markdown",
   "id": "90afce65",
   "metadata": {},
   "source": [
    "- 결혼여부, 도시등급에 따른 함께 여행하는 어린이 수"
   ]
  },
  {
   "cell_type": "code",
   "execution_count": 39,
   "id": "02921493",
   "metadata": {},
   "outputs": [
    {
     "data": {
      "text/plain": [
       "array([ 1.,  0.,  2.,  3., nan])"
      ]
     },
     "execution_count": 39,
     "metadata": {},
     "output_type": "execute_result"
    }
   ],
   "source": [
    "train['NumberOfChildrenVisiting'].unique()"
   ]
  },
  {
   "cell_type": "code",
   "execution_count": 40,
   "id": "b398006c",
   "metadata": {},
   "outputs": [
    {
     "data": {
      "text/plain": [
       "count    1928.000000\n",
       "mean        1.213174\n",
       "std         0.859450\n",
       "min         0.000000\n",
       "25%         1.000000\n",
       "50%         1.000000\n",
       "75%         2.000000\n",
       "max         3.000000\n",
       "Name: NumberOfChildrenVisiting, dtype: float64"
      ]
     },
     "execution_count": 40,
     "metadata": {},
     "output_type": "execute_result"
    }
   ],
   "source": [
    "train['NumberOfChildrenVisiting'].describe()"
   ]
  },
  {
   "cell_type": "code",
   "execution_count": 41,
   "id": "e8b29502",
   "metadata": {},
   "outputs": [
    {
     "data": {
      "text/plain": [
       "MaritalStatus\n",
       "Divorced     1.182561\n",
       "Married      1.233227\n",
       "Single       0.991176\n",
       "Unmarried    1.453901\n",
       "Name: NumberOfChildrenVisiting, dtype: float64"
      ]
     },
     "execution_count": 41,
     "metadata": {},
     "output_type": "execute_result"
    }
   ],
   "source": [
    "train.groupby(['MaritalStatus']).mean()['NumberOfChildrenVisiting']"
   ]
  },
  {
   "cell_type": "code",
   "execution_count": 42,
   "id": "ee160282",
   "metadata": {
    "scrolled": true
   },
   "outputs": [
    {
     "data": {
      "text/plain": [
       "CityTier  MaritalStatus\n",
       "1         Divorced         1.271930\n",
       "          Married          1.191523\n",
       "          Single           0.969957\n",
       "          Unmarried        1.400000\n",
       "2         Divorced         0.928571\n",
       "          Married          1.526316\n",
       "          Single           0.888889\n",
       "          Unmarried        1.428571\n",
       "3         Divorced         1.048000\n",
       "          Married          1.273469\n",
       "          Single           1.051020\n",
       "          Unmarried        1.542857\n",
       "Name: NumberOfChildrenVisiting, dtype: float64"
      ]
     },
     "execution_count": 42,
     "metadata": {},
     "output_type": "execute_result"
    }
   ],
   "source": [
    "train.groupby(['CityTier','MaritalStatus']).mean()['NumberOfChildrenVisiting']"
   ]
  },
  {
   "cell_type": "markdown",
   "id": "b4586d5a",
   "metadata": {},
   "source": [
    "- 연봉이 높을수록 아이가 많을까?"
   ]
  },
  {
   "cell_type": "code",
   "execution_count": 43,
   "id": "2066fd32",
   "metadata": {
    "scrolled": true
   },
   "outputs": [
    {
     "data": {
      "text/plain": [
       "MaritalStatus  NumberOfChildrenVisiting\n",
       "Divorced       0.0                         22212.636364\n",
       "               1.0                         24862.730263\n",
       "               2.0                         24114.323232\n",
       "               3.0                         25678.785714\n",
       "Married        0.0                         20592.359375\n",
       "               1.0                         23121.406948\n",
       "               2.0                         24669.119134\n",
       "               3.0                         25061.776119\n",
       "Single         0.0                         19745.803738\n",
       "               1.0                         21571.535211\n",
       "               2.0                         22549.923077\n",
       "               3.0                         25568.230769\n",
       "Unmarried      0.0                         24299.965517\n",
       "               1.0                         23727.303279\n",
       "               2.0                         23675.266667\n",
       "               3.0                         23447.038462\n",
       "Name: MonthlyIncome, dtype: float64"
      ]
     },
     "execution_count": 43,
     "metadata": {},
     "output_type": "execute_result"
    }
   ],
   "source": [
    "train.groupby(['MaritalStatus','NumberOfChildrenVisiting']).mean()['MonthlyIncome']"
   ]
  },
  {
   "cell_type": "markdown",
   "id": "33b2b12f",
   "metadata": {},
   "source": [
    "- 결혼을 하지 않은 사람을 제외하고 연봉이 높을수록 아이가 많다"
   ]
  },
  {
   "cell_type": "code",
   "execution_count": 44,
   "id": "34ecd64e",
   "metadata": {},
   "outputs": [
    {
     "data": {
      "image/png": "[encoded data removed]",
      "text/plain": [
       "<Figure size 432x288 with 1 Axes>"
      ]
     },
     "metadata": {
      "needs_background": "light"
     },
     "output_type": "display_data"
    }
   ],
   "source": [
    "sns.barplot(x='MaritalStatus', y='NumberOfChildrenVisiting', data=train)\n",
    "plt.show()"
   ]
  },
  {
   "cell_type": "code",
   "execution_count": 45,
   "id": "53f8d807",
   "metadata": {},
   "outputs": [
    {
     "data": {
      "text/html": [
       "<div>\n",
       "<style scoped>\n",
       "    .dataframe tbody tr th:only-of-type {\n",
       "        vertical-align: middle;\n",
       "    }\n",
       "\n",
       "    .dataframe tbody tr th {\n",
       "        vertical-align: top;\n",
       "    }\n",
       "\n",
       "    .dataframe thead th {\n",
       "        text-align: right;\n",
       "    }\n",
       "</style>\n",
       "<table border=\"1\" class=\"dataframe\">\n",
       "  <thead>\n",
       "    <tr style=\"text-align: right;\">\n",
       "      <th></th>\n",
       "      <th>MaritalStatus</th>\n",
       "      <th>MonthlyIncome</th>\n",
       "    </tr>\n",
       "  </thead>\n",
       "  <tbody>\n",
       "    <tr>\n",
       "      <th>28</th>\n",
       "      <td>Single</td>\n",
       "      <td>35513.0</td>\n",
       "    </tr>\n",
       "    <tr>\n",
       "      <th>89</th>\n",
       "      <td>Single</td>\n",
       "      <td>35382.0</td>\n",
       "    </tr>\n",
       "    <tr>\n",
       "      <th>142</th>\n",
       "      <td>Divorced</td>\n",
       "      <td>34845.0</td>\n",
       "    </tr>\n",
       "    <tr>\n",
       "      <th>230</th>\n",
       "      <td>Single</td>\n",
       "      <td>34926.0</td>\n",
       "    </tr>\n",
       "    <tr>\n",
       "      <th>421</th>\n",
       "      <td>Single</td>\n",
       "      <td>35434.0</td>\n",
       "    </tr>\n",
       "    <tr>\n",
       "      <th>580</th>\n",
       "      <td>Single</td>\n",
       "      <td>35276.0</td>\n",
       "    </tr>\n",
       "    <tr>\n",
       "      <th>611</th>\n",
       "      <td>Divorced</td>\n",
       "      <td>35233.0</td>\n",
       "    </tr>\n",
       "    <tr>\n",
       "      <th>751</th>\n",
       "      <td>Single</td>\n",
       "      <td>34670.0</td>\n",
       "    </tr>\n",
       "    <tr>\n",
       "      <th>768</th>\n",
       "      <td>Married</td>\n",
       "      <td>34636.0</td>\n",
       "    </tr>\n",
       "    <tr>\n",
       "      <th>806</th>\n",
       "      <td>Divorced</td>\n",
       "      <td>34742.0</td>\n",
       "    </tr>\n",
       "    <tr>\n",
       "      <th>935</th>\n",
       "      <td>Divorced</td>\n",
       "      <td>35558.0</td>\n",
       "    </tr>\n",
       "    <tr>\n",
       "      <th>1203</th>\n",
       "      <td>Married</td>\n",
       "      <td>34845.0</td>\n",
       "    </tr>\n",
       "    <tr>\n",
       "      <th>1277</th>\n",
       "      <td>Married</td>\n",
       "      <td>34847.0</td>\n",
       "    </tr>\n",
       "    <tr>\n",
       "      <th>1336</th>\n",
       "      <td>Married</td>\n",
       "      <td>34665.0</td>\n",
       "    </tr>\n",
       "    <tr>\n",
       "      <th>1426</th>\n",
       "      <td>Married</td>\n",
       "      <td>35305.0</td>\n",
       "    </tr>\n",
       "    <tr>\n",
       "      <th>1449</th>\n",
       "      <td>Divorced</td>\n",
       "      <td>35006.0</td>\n",
       "    </tr>\n",
       "    <tr>\n",
       "      <th>1550</th>\n",
       "      <td>Married</td>\n",
       "      <td>35273.0</td>\n",
       "    </tr>\n",
       "    <tr>\n",
       "      <th>1561</th>\n",
       "      <td>Married</td>\n",
       "      <td>34943.0</td>\n",
       "    </tr>\n",
       "    <tr>\n",
       "      <th>1578</th>\n",
       "      <td>Single</td>\n",
       "      <td>34926.0</td>\n",
       "    </tr>\n",
       "    <tr>\n",
       "      <th>1588</th>\n",
       "      <td>Single</td>\n",
       "      <td>34693.0</td>\n",
       "    </tr>\n",
       "    <tr>\n",
       "      <th>1643</th>\n",
       "      <td>Married</td>\n",
       "      <td>34740.0</td>\n",
       "    </tr>\n",
       "    <tr>\n",
       "      <th>1676</th>\n",
       "      <td>Divorced</td>\n",
       "      <td>34999.0</td>\n",
       "    </tr>\n",
       "    <tr>\n",
       "      <th>1719</th>\n",
       "      <td>Single</td>\n",
       "      <td>34717.0</td>\n",
       "    </tr>\n",
       "    <tr>\n",
       "      <th>1739</th>\n",
       "      <td>Married</td>\n",
       "      <td>34658.0</td>\n",
       "    </tr>\n",
       "    <tr>\n",
       "      <th>1823</th>\n",
       "      <td>Married</td>\n",
       "      <td>34859.0</td>\n",
       "    </tr>\n",
       "    <tr>\n",
       "      <th>1830</th>\n",
       "      <td>Divorced</td>\n",
       "      <td>34985.0</td>\n",
       "    </tr>\n",
       "    <tr>\n",
       "      <th>1926</th>\n",
       "      <td>Divorced</td>\n",
       "      <td>35534.0</td>\n",
       "    </tr>\n",
       "  </tbody>\n",
       "</table>\n",
       "</div>"
      ],
      "text/plain": [
       "     MaritalStatus  MonthlyIncome\n",
       "28          Single        35513.0\n",
       "89          Single        35382.0\n",
       "142       Divorced        34845.0\n",
       "230         Single        34926.0\n",
       "421         Single        35434.0\n",
       "580         Single        35276.0\n",
       "611       Divorced        35233.0\n",
       "751         Single        34670.0\n",
       "768        Married        34636.0\n",
       "806       Divorced        34742.0\n",
       "935       Divorced        35558.0\n",
       "1203       Married        34845.0\n",
       "1277       Married        34847.0\n",
       "1336       Married        34665.0\n",
       "1426       Married        35305.0\n",
       "1449      Divorced        35006.0\n",
       "1550       Married        35273.0\n",
       "1561       Married        34943.0\n",
       "1578        Single        34926.0\n",
       "1588        Single        34693.0\n",
       "1643       Married        34740.0\n",
       "1676      Divorced        34999.0\n",
       "1719        Single        34717.0\n",
       "1739       Married        34658.0\n",
       "1823       Married        34859.0\n",
       "1830      Divorced        34985.0\n",
       "1926      Divorced        35534.0"
      ]
     },
     "execution_count": 45,
     "metadata": {},
     "output_type": "execute_result"
    }
   ],
   "source": [
    "train[['MaritalStatus','MonthlyIncome']][train['NumberOfChildrenVisiting'].isnull()]"
   ]
  },
  {
   "cell_type": "code",
   "execution_count": null,
   "id": "343e0f01",
   "metadata": {},
   "outputs": [],
   "source": []
  },
  {
   "cell_type": "code",
   "execution_count": null,
   "id": "da216f34",
   "metadata": {},
   "outputs": [],
   "source": []
  },
  {
   "cell_type": "markdown",
   "id": "d21441fb",
   "metadata": {},
   "source": [
    "- 도시 등급에 따른 결혼여부"
   ]
  },
  {
   "cell_type": "code",
   "execution_count": 46,
   "id": "fc986962",
   "metadata": {},
   "outputs": [
    {
     "data": {
      "text/html": [
       "<div>\n",
       "<style scoped>\n",
       "    .dataframe tbody tr th:only-of-type {\n",
       "        vertical-align: middle;\n",
       "    }\n",
       "\n",
       "    .dataframe tbody tr th {\n",
       "        vertical-align: top;\n",
       "    }\n",
       "\n",
       "    .dataframe thead th {\n",
       "        text-align: right;\n",
       "    }\n",
       "</style>\n",
       "<table border=\"1\" class=\"dataframe\">\n",
       "  <thead>\n",
       "    <tr style=\"text-align: right;\">\n",
       "      <th></th>\n",
       "      <th></th>\n",
       "      <th>id</th>\n",
       "      <th>Age</th>\n",
       "      <th>TypeofContact</th>\n",
       "      <th>DurationOfPitch</th>\n",
       "      <th>Occupation</th>\n",
       "      <th>Gender</th>\n",
       "      <th>NumberOfPersonVisiting</th>\n",
       "      <th>NumberOfFollowups</th>\n",
       "      <th>ProductPitched</th>\n",
       "      <th>PreferredPropertyStar</th>\n",
       "      <th>NumberOfTrips</th>\n",
       "      <th>Passport</th>\n",
       "      <th>PitchSatisfactionScore</th>\n",
       "      <th>OwnCar</th>\n",
       "      <th>NumberOfChildrenVisiting</th>\n",
       "      <th>Designation</th>\n",
       "      <th>MonthlyIncome</th>\n",
       "      <th>ProdTaken</th>\n",
       "    </tr>\n",
       "    <tr>\n",
       "      <th>MaritalStatus</th>\n",
       "      <th>CityTier</th>\n",
       "      <th></th>\n",
       "      <th></th>\n",
       "      <th></th>\n",
       "      <th></th>\n",
       "      <th></th>\n",
       "      <th></th>\n",
       "      <th></th>\n",
       "      <th></th>\n",
       "      <th></th>\n",
       "      <th></th>\n",
       "      <th></th>\n",
       "      <th></th>\n",
       "      <th></th>\n",
       "      <th></th>\n",
       "      <th></th>\n",
       "      <th></th>\n",
       "      <th></th>\n",
       "      <th></th>\n",
       "    </tr>\n",
       "  </thead>\n",
       "  <tbody>\n",
       "    <tr>\n",
       "      <th rowspan=\"3\" valign=\"top\">Divorced</th>\n",
       "      <th>1</th>\n",
       "      <td>232</td>\n",
       "      <td>232</td>\n",
       "      <td>231</td>\n",
       "      <td>232</td>\n",
       "      <td>232</td>\n",
       "      <td>232</td>\n",
       "      <td>232</td>\n",
       "      <td>230</td>\n",
       "      <td>232</td>\n",
       "      <td>230</td>\n",
       "      <td>222</td>\n",
       "      <td>232</td>\n",
       "      <td>232</td>\n",
       "      <td>232</td>\n",
       "      <td>228</td>\n",
       "      <td>232</td>\n",
       "      <td>232</td>\n",
       "      <td>232</td>\n",
       "    </tr>\n",
       "    <tr>\n",
       "      <th>2</th>\n",
       "      <td>14</td>\n",
       "      <td>14</td>\n",
       "      <td>14</td>\n",
       "      <td>14</td>\n",
       "      <td>14</td>\n",
       "      <td>14</td>\n",
       "      <td>14</td>\n",
       "      <td>14</td>\n",
       "      <td>14</td>\n",
       "      <td>14</td>\n",
       "      <td>12</td>\n",
       "      <td>14</td>\n",
       "      <td>14</td>\n",
       "      <td>14</td>\n",
       "      <td>14</td>\n",
       "      <td>14</td>\n",
       "      <td>14</td>\n",
       "      <td>14</td>\n",
       "    </tr>\n",
       "    <tr>\n",
       "      <th>3</th>\n",
       "      <td>129</td>\n",
       "      <td>129</td>\n",
       "      <td>128</td>\n",
       "      <td>129</td>\n",
       "      <td>129</td>\n",
       "      <td>129</td>\n",
       "      <td>129</td>\n",
       "      <td>129</td>\n",
       "      <td>129</td>\n",
       "      <td>129</td>\n",
       "      <td>125</td>\n",
       "      <td>129</td>\n",
       "      <td>129</td>\n",
       "      <td>129</td>\n",
       "      <td>125</td>\n",
       "      <td>129</td>\n",
       "      <td>129</td>\n",
       "      <td>129</td>\n",
       "    </tr>\n",
       "    <tr>\n",
       "      <th rowspan=\"3\" valign=\"top\">Married</th>\n",
       "      <th>1</th>\n",
       "      <td>642</td>\n",
       "      <td>642</td>\n",
       "      <td>638</td>\n",
       "      <td>642</td>\n",
       "      <td>642</td>\n",
       "      <td>642</td>\n",
       "      <td>642</td>\n",
       "      <td>639</td>\n",
       "      <td>642</td>\n",
       "      <td>639</td>\n",
       "      <td>617</td>\n",
       "      <td>642</td>\n",
       "      <td>642</td>\n",
       "      <td>642</td>\n",
       "      <td>637</td>\n",
       "      <td>642</td>\n",
       "      <td>642</td>\n",
       "      <td>642</td>\n",
       "    </tr>\n",
       "    <tr>\n",
       "      <th>2</th>\n",
       "      <td>59</td>\n",
       "      <td>59</td>\n",
       "      <td>59</td>\n",
       "      <td>59</td>\n",
       "      <td>59</td>\n",
       "      <td>59</td>\n",
       "      <td>59</td>\n",
       "      <td>58</td>\n",
       "      <td>59</td>\n",
       "      <td>57</td>\n",
       "      <td>55</td>\n",
       "      <td>59</td>\n",
       "      <td>59</td>\n",
       "      <td>59</td>\n",
       "      <td>57</td>\n",
       "      <td>59</td>\n",
       "      <td>59</td>\n",
       "      <td>59</td>\n",
       "    </tr>\n",
       "    <tr>\n",
       "      <th>3</th>\n",
       "      <td>248</td>\n",
       "      <td>248</td>\n",
       "      <td>247</td>\n",
       "      <td>248</td>\n",
       "      <td>248</td>\n",
       "      <td>248</td>\n",
       "      <td>248</td>\n",
       "      <td>247</td>\n",
       "      <td>248</td>\n",
       "      <td>247</td>\n",
       "      <td>245</td>\n",
       "      <td>248</td>\n",
       "      <td>248</td>\n",
       "      <td>248</td>\n",
       "      <td>245</td>\n",
       "      <td>248</td>\n",
       "      <td>248</td>\n",
       "      <td>248</td>\n",
       "    </tr>\n",
       "    <tr>\n",
       "      <th rowspan=\"3\" valign=\"top\">Single</th>\n",
       "      <th>1</th>\n",
       "      <td>239</td>\n",
       "      <td>239</td>\n",
       "      <td>236</td>\n",
       "      <td>239</td>\n",
       "      <td>239</td>\n",
       "      <td>239</td>\n",
       "      <td>239</td>\n",
       "      <td>236</td>\n",
       "      <td>239</td>\n",
       "      <td>238</td>\n",
       "      <td>236</td>\n",
       "      <td>239</td>\n",
       "      <td>239</td>\n",
       "      <td>239</td>\n",
       "      <td>233</td>\n",
       "      <td>239</td>\n",
       "      <td>239</td>\n",
       "      <td>239</td>\n",
       "    </tr>\n",
       "    <tr>\n",
       "      <th>2</th>\n",
       "      <td>10</td>\n",
       "      <td>10</td>\n",
       "      <td>10</td>\n",
       "      <td>10</td>\n",
       "      <td>10</td>\n",
       "      <td>10</td>\n",
       "      <td>10</td>\n",
       "      <td>10</td>\n",
       "      <td>10</td>\n",
       "      <td>10</td>\n",
       "      <td>9</td>\n",
       "      <td>10</td>\n",
       "      <td>10</td>\n",
       "      <td>10</td>\n",
       "      <td>9</td>\n",
       "      <td>10</td>\n",
       "      <td>10</td>\n",
       "      <td>10</td>\n",
       "    </tr>\n",
       "    <tr>\n",
       "      <th>3</th>\n",
       "      <td>100</td>\n",
       "      <td>100</td>\n",
       "      <td>100</td>\n",
       "      <td>100</td>\n",
       "      <td>100</td>\n",
       "      <td>100</td>\n",
       "      <td>100</td>\n",
       "      <td>97</td>\n",
       "      <td>100</td>\n",
       "      <td>99</td>\n",
       "      <td>95</td>\n",
       "      <td>100</td>\n",
       "      <td>100</td>\n",
       "      <td>100</td>\n",
       "      <td>98</td>\n",
       "      <td>100</td>\n",
       "      <td>100</td>\n",
       "      <td>100</td>\n",
       "    </tr>\n",
       "    <tr>\n",
       "      <th rowspan=\"3\" valign=\"top\">Unmarried</th>\n",
       "      <th>1</th>\n",
       "      <td>170</td>\n",
       "      <td>170</td>\n",
       "      <td>170</td>\n",
       "      <td>170</td>\n",
       "      <td>170</td>\n",
       "      <td>170</td>\n",
       "      <td>170</td>\n",
       "      <td>170</td>\n",
       "      <td>170</td>\n",
       "      <td>170</td>\n",
       "      <td>170</td>\n",
       "      <td>170</td>\n",
       "      <td>170</td>\n",
       "      <td>170</td>\n",
       "      <td>170</td>\n",
       "      <td>170</td>\n",
       "      <td>170</td>\n",
       "      <td>170</td>\n",
       "    </tr>\n",
       "    <tr>\n",
       "      <th>2</th>\n",
       "      <td>7</td>\n",
       "      <td>7</td>\n",
       "      <td>7</td>\n",
       "      <td>7</td>\n",
       "      <td>7</td>\n",
       "      <td>7</td>\n",
       "      <td>7</td>\n",
       "      <td>7</td>\n",
       "      <td>7</td>\n",
       "      <td>7</td>\n",
       "      <td>7</td>\n",
       "      <td>7</td>\n",
       "      <td>7</td>\n",
       "      <td>7</td>\n",
       "      <td>7</td>\n",
       "      <td>7</td>\n",
       "      <td>7</td>\n",
       "      <td>7</td>\n",
       "    </tr>\n",
       "    <tr>\n",
       "      <th>3</th>\n",
       "      <td>105</td>\n",
       "      <td>105</td>\n",
       "      <td>105</td>\n",
       "      <td>105</td>\n",
       "      <td>105</td>\n",
       "      <td>105</td>\n",
       "      <td>105</td>\n",
       "      <td>105</td>\n",
       "      <td>105</td>\n",
       "      <td>105</td>\n",
       "      <td>105</td>\n",
       "      <td>105</td>\n",
       "      <td>105</td>\n",
       "      <td>105</td>\n",
       "      <td>105</td>\n",
       "      <td>105</td>\n",
       "      <td>105</td>\n",
       "      <td>105</td>\n",
       "    </tr>\n",
       "  </tbody>\n",
       "</table>\n",
       "</div>"
      ],
      "text/plain": [
       "                         id  Age  TypeofContact  DurationOfPitch  Occupation  \\\n",
       "MaritalStatus CityTier                                                         \n",
       "Divorced      1         232  232            231              232         232   \n",
       "              2          14   14             14               14          14   \n",
       "              3         129  129            128              129         129   \n",
       "Married       1         642  642            638              642         642   \n",
       "              2          59   59             59               59          59   \n",
       "              3         248  248            247              248         248   \n",
       "Single        1         239  239            236              239         239   \n",
       "              2          10   10             10               10          10   \n",
       "              3         100  100            100              100         100   \n",
       "Unmarried     1         170  170            170              170         170   \n",
       "              2           7    7              7                7           7   \n",
       "              3         105  105            105              105         105   \n",
       "\n",
       "                        Gender  NumberOfPersonVisiting  NumberOfFollowups  \\\n",
       "MaritalStatus CityTier                                                      \n",
       "Divorced      1            232                     232                230   \n",
       "              2             14                      14                 14   \n",
       "              3            129                     129                129   \n",
       "Married       1            642                     642                639   \n",
       "              2             59                      59                 58   \n",
       "              3            248                     248                247   \n",
       "Single        1            239                     239                236   \n",
       "              2             10                      10                 10   \n",
       "              3            100                     100                 97   \n",
       "Unmarried     1            170                     170                170   \n",
       "              2              7                       7                  7   \n",
       "              3            105                     105                105   \n",
       "\n",
       "                        ProductPitched  PreferredPropertyStar  NumberOfTrips  \\\n",
       "MaritalStatus CityTier                                                         \n",
       "Divorced      1                    232                    230            222   \n",
       "              2                     14                     14             12   \n",
       "              3                    129                    129            125   \n",
       "Married       1                    642                    639            617   \n",
       "              2                     59                     57             55   \n",
       "              3                    248                    247            245   \n",
       "Single        1                    239                    238            236   \n",
       "              2                     10                     10              9   \n",
       "              3                    100                     99             95   \n",
       "Unmarried     1                    170                    170            170   \n",
       "              2                      7                      7              7   \n",
       "              3                    105                    105            105   \n",
       "\n",
       "                        Passport  PitchSatisfactionScore  OwnCar  \\\n",
       "MaritalStatus CityTier                                             \n",
       "Divorced      1              232                     232     232   \n",
       "              2               14                      14      14   \n",
       "              3              129                     129     129   \n",
       "Married       1              642                     642     642   \n",
       "              2               59                      59      59   \n",
       "              3              248                     248     248   \n",
       "Single        1              239                     239     239   \n",
       "              2               10                      10      10   \n",
       "              3              100                     100     100   \n",
       "Unmarried     1              170                     170     170   \n",
       "              2                7                       7       7   \n",
       "              3              105                     105     105   \n",
       "\n",
       "                        NumberOfChildrenVisiting  Designation  MonthlyIncome  \\\n",
       "MaritalStatus CityTier                                                         \n",
       "Divorced      1                              228          232            232   \n",
       "              2                               14           14             14   \n",
       "              3                              125          129            129   \n",
       "Married       1                              637          642            642   \n",
       "              2                               57           59             59   \n",
       "              3                              245          248            248   \n",
       "Single        1                              233          239            239   \n",
       "              2                                9           10             10   \n",
       "              3                               98          100            100   \n",
       "Unmarried     1                              170          170            170   \n",
       "              2                                7            7              7   \n",
       "              3                              105          105            105   \n",
       "\n",
       "                        ProdTaken  \n",
       "MaritalStatus CityTier             \n",
       "Divorced      1               232  \n",
       "              2                14  \n",
       "              3               129  \n",
       "Married       1               642  \n",
       "              2                59  \n",
       "              3               248  \n",
       "Single        1               239  \n",
       "              2                10  \n",
       "              3               100  \n",
       "Unmarried     1               170  \n",
       "              2                 7  \n",
       "              3               105  "
      ]
     },
     "execution_count": 46,
     "metadata": {},
     "output_type": "execute_result"
    }
   ],
   "source": [
    "train.groupby(['MaritalStatus','CityTier']).count()"
   ]
  },
  {
   "cell_type": "code",
   "execution_count": 47,
   "id": "e51d4aaa",
   "metadata": {},
   "outputs": [
    {
     "data": {
      "text/plain": [
       "id                           0\n",
       "Age                          0\n",
       "TypeofContact               10\n",
       "CityTier                     0\n",
       "DurationOfPitch              0\n",
       "Occupation                   0\n",
       "Gender                       0\n",
       "NumberOfPersonVisiting       0\n",
       "NumberOfFollowups           13\n",
       "ProductPitched               0\n",
       "PreferredPropertyStar       10\n",
       "MaritalStatus                0\n",
       "NumberOfTrips               57\n",
       "Passport                     0\n",
       "PitchSatisfactionScore       0\n",
       "OwnCar                       0\n",
       "NumberOfChildrenVisiting    27\n",
       "Designation                  0\n",
       "MonthlyIncome                0\n",
       "ProdTaken                    0\n",
       "dtype: int64"
      ]
     },
     "execution_count": 47,
     "metadata": {},
     "output_type": "execute_result"
    }
   ],
   "source": [
    "train.isna().sum()"
   ]
  },
  {
   "cell_type": "code",
   "execution_count": 48,
   "id": "b23ccbe2",
   "metadata": {},
   "outputs": [
    {
     "data": {
      "text/plain": [
       "ProdTaken\n",
       "0    1564\n",
       "1     381\n",
       "Name: TypeofContact, dtype: int64"
      ]
     },
     "execution_count": 48,
     "metadata": {},
     "output_type": "execute_result"
    }
   ],
   "source": [
    "train.groupby('ProdTaken').count()['TypeofContact']"
   ]
  },
  {
   "cell_type": "code",
   "execution_count": 49,
   "id": "d69cf25f",
   "metadata": {},
   "outputs": [
    {
     "data": {
      "text/plain": [
       "0    1572\n",
       "1     383\n",
       "Name: ProdTaken, dtype: int64"
      ]
     },
     "execution_count": 49,
     "metadata": {},
     "output_type": "execute_result"
    }
   ],
   "source": [
    "train['ProdTaken'].value_counts()"
   ]
  },
  {
   "cell_type": "code",
   "execution_count": null,
   "id": "559e7c56",
   "metadata": {},
   "outputs": [],
   "source": []
  },
  {
   "cell_type": "code",
   "execution_count": null,
   "id": "79dea091",
   "metadata": {},
   "outputs": [],
   "source": []
  },
  {
   "cell_type": "code",
   "execution_count": null,
   "id": "614d9f60",
   "metadata": {},
   "outputs": [],
   "source": []
  },
  {
   "cell_type": "code",
   "execution_count": null,
   "id": "13b0e8ad",
   "metadata": {},
   "outputs": [],
   "source": []
  },
  {
   "cell_type": "code",
   "execution_count": null,
   "id": "7f7caf8c",
   "metadata": {},
   "outputs": [],
   "source": []
  },
  {
   "cell_type": "markdown",
   "id": "92796f0c",
   "metadata": {},
   "source": [
    "### 시각화"
   ]
  },
  {
   "cell_type": "markdown",
   "id": "9e7d8e44",
   "metadata": {},
   "source": [
    "- 패키지를 신청할수록 급여가 높을까?"
   ]
  },
  {
   "cell_type": "code",
   "execution_count": 50,
   "id": "2428a0cb",
   "metadata": {
    "scrolled": true
   },
   "outputs": [
    {
     "data": {
      "image/png": "[encoded data removed]",
      "text/plain": [
       "<Figure size 432x288 with 1 Axes>"
      ]
     },
     "metadata": {
      "needs_background": "light"
     },
     "output_type": "display_data"
    }
   ],
   "source": [
    "sns.barplot(x='ProdTaken', y='MonthlyIncome', data=train)\n",
    "plt.show()"
   ]
  },
  {
   "cell_type": "markdown",
   "id": "32e182eb",
   "metadata": {},
   "source": [
    "- 여권이 있을수록 여행 횟수가 높을까?"
   ]
  },
  {
   "cell_type": "code",
   "execution_count": 51,
   "id": "3ce5ab6a",
   "metadata": {},
   "outputs": [
    {
     "data": {
      "image/png": "[encoded data removed]",
      "text/plain": [
       "<Figure size 432x288 with 1 Axes>"
      ]
     },
     "metadata": {
      "needs_background": "light"
     },
     "output_type": "display_data"
    }
   ],
   "source": [
    "sns.barplot(x='Passport', y='NumberOfTrips', data=train)\n",
    "plt.show()"
   ]
  },
  {
   "cell_type": "code",
   "execution_count": 52,
   "id": "d2d54cb0",
   "metadata": {
    "scrolled": true
   },
   "outputs": [
    {
     "data": {
      "image/png": "[encoded data removed]",
      "text/plain": [
       "<Figure size 432x288 with 1 Axes>"
      ]
     },
     "metadata": {
      "needs_background": "light"
     },
     "output_type": "display_data"
    }
   ],
   "source": [
    "sns.barplot(x='Passport', y='NumberOfTrips', hue = 'ProdTaken',data=train)\n",
    "plt.show()"
   ]
  },
  {
   "cell_type": "markdown",
   "id": "ff8d1735",
   "metadata": {},
   "source": [
    "- 같이가는 아이가 많을수록 패키지 신청을 많이 할까?"
   ]
  },
  {
   "cell_type": "code",
   "execution_count": 53,
   "id": "ed060ce1",
   "metadata": {},
   "outputs": [
    {
     "data": {
      "image/png": "[encoded data removed]",
      "text/plain": [
       "<Figure size 432x288 with 1 Axes>"
      ]
     },
     "metadata": {
      "needs_background": "light"
     },
     "output_type": "display_data"
    }
   ],
   "source": [
    "sns.barplot(x='ProdTaken', y = 'NumberOfChildrenVisiting', data=train)\n",
    "plt.show()"
   ]
  },
  {
   "cell_type": "code",
   "execution_count": 54,
   "id": "35124517",
   "metadata": {},
   "outputs": [
    {
     "data": {
      "image/png": "[encoded data removed]",
      "text/plain": [
       "<Figure size 432x288 with 1 Axes>"
      ]
     },
     "metadata": {
      "needs_background": "light"
     },
     "output_type": "display_data"
    }
   ],
   "source": [
    "sns.barplot(x='ProdTaken', y = 'NumberOfPersonVisiting', data=train)\n",
    "plt.show()"
   ]
  },
  {
   "cell_type": "code",
   "execution_count": 55,
   "id": "013b8cc0",
   "metadata": {
    "scrolled": true
   },
   "outputs": [
    {
     "data": {
      "image/png": "[encoded data removed]",
      "text/plain": [
       "<Figure size 432x288 with 1 Axes>"
      ]
     },
     "metadata": {
      "needs_background": "light"
     },
     "output_type": "display_data"
    }
   ],
   "source": [
    "sns.countplot(x='PreferredPropertyStar', hue='ProdTaken', data=train)\n",
    "plt.show()"
   ]
  },
  {
   "cell_type": "markdown",
   "id": "9ade696b",
   "metadata": {},
   "source": [
    "#### PreferredPropertyStar"
   ]
  },
  {
   "cell_type": "code",
   "execution_count": 56,
   "id": "98193289",
   "metadata": {},
   "outputs": [
    {
     "data": {
      "text/plain": [
       "id                           0\n",
       "Age                          0\n",
       "TypeofContact               10\n",
       "CityTier                     0\n",
       "DurationOfPitch              0\n",
       "Occupation                   0\n",
       "Gender                       0\n",
       "NumberOfPersonVisiting       0\n",
       "NumberOfFollowups           13\n",
       "ProductPitched               0\n",
       "PreferredPropertyStar       10\n",
       "MaritalStatus                0\n",
       "NumberOfTrips               57\n",
       "Passport                     0\n",
       "PitchSatisfactionScore       0\n",
       "OwnCar                       0\n",
       "NumberOfChildrenVisiting    27\n",
       "Designation                  0\n",
       "MonthlyIncome                0\n",
       "ProdTaken                    0\n",
       "dtype: int64"
      ]
     },
     "execution_count": 56,
     "metadata": {},
     "output_type": "execute_result"
    }
   ],
   "source": [
    "train.isna().sum()"
   ]
  },
  {
   "cell_type": "code",
   "execution_count": 57,
   "id": "9c3e5d6b",
   "metadata": {
    "scrolled": true
   },
   "outputs": [
    {
     "data": {
      "image/png": "[encoded data removed]",
      "text/plain": [
       "<Figure size 432x288 with 1 Axes>"
      ]
     },
     "metadata": {
      "needs_background": "light"
     },
     "output_type": "display_data"
    }
   ],
   "source": [
    "sns.countplot(x='CityTier', hue='ProdTaken', data=train)\n",
    "plt.show()"
   ]
  },
  {
   "cell_type": "code",
   "execution_count": 58,
   "id": "436622a8",
   "metadata": {},
   "outputs": [
    {
     "data": {
      "image/png": "[encoded data removed]",
      "text/plain": [
       "<Figure size 432x288 with 1 Axes>"
      ]
     },
     "metadata": {
      "needs_background": "light"
     },
     "output_type": "display_data"
    }
   ],
   "source": [
    "sns.countplot(x='TypeofContact', hue='ProdTaken', data=train)\n",
    "plt.show()"
   ]
  },
  {
   "cell_type": "code",
   "execution_count": 59,
   "id": "230a25e3",
   "metadata": {
    "scrolled": true
   },
   "outputs": [
    {
     "data": {
      "image/png": "[encoded data removed]",
      "text/plain": [
       "<Figure size 432x288 with 1 Axes>"
      ]
     },
     "metadata": {
      "needs_background": "light"
     },
     "output_type": "display_data"
    }
   ],
   "source": [
    "sns.countplot(x='Designation', hue='ProdTaken', data=train)\n",
    "plt.show()"
   ]
  },
  {
   "cell_type": "markdown",
   "id": "85a0e20f",
   "metadata": {},
   "source": [
    "#### TypeofContact"
   ]
  },
  {
   "cell_type": "code",
   "execution_count": 60,
   "id": "770eff21",
   "metadata": {
    "scrolled": true
   },
   "outputs": [
    {
     "data": {
      "text/plain": [
       "id                           0\n",
       "Age                          0\n",
       "TypeofContact                0\n",
       "CityTier                     0\n",
       "DurationOfPitch              0\n",
       "Occupation                   0\n",
       "Gender                       0\n",
       "NumberOfPersonVisiting       0\n",
       "NumberOfFollowups           13\n",
       "ProductPitched               0\n",
       "PreferredPropertyStar       10\n",
       "MaritalStatus                0\n",
       "NumberOfTrips               57\n",
       "Passport                     0\n",
       "PitchSatisfactionScore       0\n",
       "OwnCar                       0\n",
       "NumberOfChildrenVisiting    27\n",
       "Designation                  0\n",
       "MonthlyIncome                0\n",
       "ProdTaken                    0\n",
       "dtype: int64"
      ]
     },
     "execution_count": 60,
     "metadata": {},
     "output_type": "execute_result"
    }
   ],
   "source": [
    "train['TypeofContact'] = train['TypeofContact'].fillna('Self Enquiry')\n",
    "train.isna().sum()"
   ]
  },
  {
   "cell_type": "code",
   "execution_count": 61,
   "id": "f827ce89",
   "metadata": {},
   "outputs": [],
   "source": [
    "test['TypeofContact'] = test['TypeofContact'].fillna('Self Enquiry')"
   ]
  },
  {
   "cell_type": "markdown",
   "id": "da08e27e",
   "metadata": {},
   "source": [
    "#### NumberOfFollowups"
   ]
  },
  {
   "cell_type": "code",
   "execution_count": 62,
   "id": "2fe384fb",
   "metadata": {
    "scrolled": true
   },
   "outputs": [
    {
     "data": {
      "text/plain": [
       "id                           0\n",
       "Age                          0\n",
       "TypeofContact                0\n",
       "CityTier                     0\n",
       "DurationOfPitch              0\n",
       "Occupation                   0\n",
       "Gender                       0\n",
       "NumberOfPersonVisiting       0\n",
       "NumberOfFollowups            0\n",
       "ProductPitched               0\n",
       "PreferredPropertyStar       10\n",
       "MaritalStatus                0\n",
       "NumberOfTrips               57\n",
       "Passport                     0\n",
       "PitchSatisfactionScore       0\n",
       "OwnCar                       0\n",
       "NumberOfChildrenVisiting    27\n",
       "Designation                  0\n",
       "MonthlyIncome                0\n",
       "ProdTaken                    0\n",
       "dtype: int64"
      ]
     },
     "execution_count": 62,
     "metadata": {},
     "output_type": "execute_result"
    }
   ],
   "source": [
    "train['NumberOfFollowups'] = train['NumberOfFollowups'].fillna(3)\n",
    "train.isna().sum()"
   ]
  },
  {
   "cell_type": "code",
   "execution_count": 63,
   "id": "534f907b",
   "metadata": {},
   "outputs": [],
   "source": [
    "test['NumberOfFollowups'] = test['NumberOfFollowups'].fillna(3)"
   ]
  },
  {
   "cell_type": "markdown",
   "id": "699c8eab",
   "metadata": {},
   "source": [
    "#### PreferredPropertyStar"
   ]
  },
  {
   "cell_type": "code",
   "execution_count": 64,
   "id": "4f6d3b42",
   "metadata": {
    "scrolled": true
   },
   "outputs": [
    {
     "data": {
      "text/plain": [
       "id                           0\n",
       "Age                          0\n",
       "TypeofContact                0\n",
       "CityTier                     0\n",
       "DurationOfPitch              0\n",
       "Occupation                   0\n",
       "Gender                       0\n",
       "NumberOfPersonVisiting       0\n",
       "NumberOfFollowups            0\n",
       "ProductPitched               0\n",
       "PreferredPropertyStar        0\n",
       "MaritalStatus                0\n",
       "NumberOfTrips               57\n",
       "Passport                     0\n",
       "PitchSatisfactionScore       0\n",
       "OwnCar                       0\n",
       "NumberOfChildrenVisiting    27\n",
       "Designation                  0\n",
       "MonthlyIncome                0\n",
       "ProdTaken                    0\n",
       "dtype: int64"
      ]
     },
     "execution_count": 64,
     "metadata": {},
     "output_type": "execute_result"
    }
   ],
   "source": [
    "train['PreferredPropertyStar'] = train['PreferredPropertyStar'].fillna(3)\n",
    "train.isna().sum()"
   ]
  },
  {
   "cell_type": "code",
   "execution_count": 65,
   "id": "ee93fa72",
   "metadata": {},
   "outputs": [],
   "source": [
    "test['PreferredPropertyStar'] = test['PreferredPropertyStar'].fillna(3)"
   ]
  },
  {
   "cell_type": "markdown",
   "id": "e31d32f9",
   "metadata": {},
   "source": [
    "#### NumberOfTrips"
   ]
  },
  {
   "cell_type": "code",
   "execution_count": 66,
   "id": "63b77416",
   "metadata": {
    "scrolled": true
   },
   "outputs": [
    {
     "data": {
      "text/plain": [
       "id                           0\n",
       "Age                          0\n",
       "TypeofContact                0\n",
       "CityTier                     0\n",
       "DurationOfPitch              0\n",
       "Occupation                   0\n",
       "Gender                       0\n",
       "NumberOfPersonVisiting       0\n",
       "NumberOfFollowups            0\n",
       "ProductPitched               0\n",
       "PreferredPropertyStar        0\n",
       "MaritalStatus                0\n",
       "NumberOfTrips                0\n",
       "Passport                     0\n",
       "PitchSatisfactionScore       0\n",
       "OwnCar                       0\n",
       "NumberOfChildrenVisiting    27\n",
       "Designation                  0\n",
       "MonthlyIncome                0\n",
       "ProdTaken                    0\n",
       "dtype: int64"
      ]
     },
     "execution_count": 66,
     "metadata": {},
     "output_type": "execute_result"
    }
   ],
   "source": [
    "train['NumberOfTrips'] = train['NumberOfTrips'].fillna(3)\n",
    "train.isna().sum()"
   ]
  },
  {
   "cell_type": "code",
   "execution_count": 67,
   "id": "1a5f9f60",
   "metadata": {},
   "outputs": [],
   "source": [
    "test['NumberOfTrips'] = test['NumberOfTrips'].fillna(3)"
   ]
  },
  {
   "cell_type": "markdown",
   "id": "5ca48041",
   "metadata": {},
   "source": [
    "#### NumberOfChildrenVisiting"
   ]
  },
  {
   "cell_type": "code",
   "execution_count": 68,
   "id": "ad43b9ca",
   "metadata": {
    "scrolled": true
   },
   "outputs": [
    {
     "data": {
      "text/plain": [
       "id                          0\n",
       "Age                         0\n",
       "TypeofContact               0\n",
       "CityTier                    0\n",
       "DurationOfPitch             0\n",
       "Occupation                  0\n",
       "Gender                      0\n",
       "NumberOfPersonVisiting      0\n",
       "NumberOfFollowups           0\n",
       "ProductPitched              0\n",
       "PreferredPropertyStar       0\n",
       "MaritalStatus               0\n",
       "NumberOfTrips               0\n",
       "Passport                    0\n",
       "PitchSatisfactionScore      0\n",
       "OwnCar                      0\n",
       "NumberOfChildrenVisiting    0\n",
       "Designation                 0\n",
       "MonthlyIncome               0\n",
       "ProdTaken                   0\n",
       "dtype: int64"
      ]
     },
     "execution_count": 68,
     "metadata": {},
     "output_type": "execute_result"
    }
   ],
   "source": [
    "train['NumberOfChildrenVisiting'] = train['NumberOfChildrenVisiting'].fillna(1)\n",
    "train.isna().sum()"
   ]
  },
  {
   "cell_type": "code",
   "execution_count": 69,
   "id": "e6700632",
   "metadata": {},
   "outputs": [],
   "source": [
    "test['NumberOfChildrenVisiting'] = test['NumberOfChildrenVisiting'].fillna(1)"
   ]
  },
  {
   "cell_type": "code",
   "execution_count": 70,
   "id": "6a5ee393",
   "metadata": {},
   "outputs": [
    {
     "data": {
      "text/plain": [
       "id                          0\n",
       "Age                         0\n",
       "TypeofContact               0\n",
       "CityTier                    0\n",
       "DurationOfPitch             0\n",
       "Occupation                  0\n",
       "Gender                      0\n",
       "NumberOfPersonVisiting      0\n",
       "NumberOfFollowups           0\n",
       "ProductPitched              0\n",
       "PreferredPropertyStar       0\n",
       "MaritalStatus               0\n",
       "NumberOfTrips               0\n",
       "Passport                    0\n",
       "PitchSatisfactionScore      0\n",
       "OwnCar                      0\n",
       "NumberOfChildrenVisiting    0\n",
       "Designation                 0\n",
       "MonthlyIncome               0\n",
       "dtype: int64"
      ]
     },
     "execution_count": 70,
     "metadata": {},
     "output_type": "execute_result"
    }
   ],
   "source": [
    "test.isna().sum()"
   ]
  },
  {
   "cell_type": "markdown",
   "id": "c7387ab3",
   "metadata": {},
   "source": [
    "### 변수만들기"
   ]
  },
  {
   "cell_type": "code",
   "execution_count": 71,
   "id": "1b17e0f4",
   "metadata": {
    "scrolled": true
   },
   "outputs": [
    {
     "name": "stdout",
     "output_type": "stream",
     "text": [
      "<class 'pandas.core.frame.DataFrame'>\n",
      "RangeIndex: 1955 entries, 0 to 1954\n",
      "Data columns (total 21 columns):\n",
      " #   Column                    Non-Null Count  Dtype  \n",
      "---  ------                    --------------  -----  \n",
      " 0   id                        1955 non-null   int64  \n",
      " 1   Age                       1955 non-null   float64\n",
      " 2   TypeofContact             1955 non-null   object \n",
      " 3   CityTier                  1955 non-null   int64  \n",
      " 4   DurationOfPitch           1955 non-null   float64\n",
      " 5   Occupation                1955 non-null   object \n",
      " 6   Gender                    1955 non-null   object \n",
      " 7   NumberOfPersonVisiting    1955 non-null   int64  \n",
      " 8   NumberOfFollowups         1955 non-null   float64\n",
      " 9   ProductPitched            1955 non-null   object \n",
      " 10  PreferredPropertyStar     1955 non-null   float64\n",
      " 11  MaritalStatus             1955 non-null   object \n",
      " 12  NumberOfTrips             1955 non-null   float64\n",
      " 13  Passport                  1955 non-null   int64  \n",
      " 14  PitchSatisfactionScore    1955 non-null   int64  \n",
      " 15  OwnCar                    1955 non-null   int64  \n",
      " 16  NumberOfChildrenVisiting  1955 non-null   float64\n",
      " 17  Designation               1955 non-null   object \n",
      " 18  MonthlyIncome             1955 non-null   float64\n",
      " 19  AgeGp                     1955 non-null   object \n",
      " 20  ProdTaken                 1955 non-null   int64  \n",
      "dtypes: float64(7), int64(7), object(7)\n",
      "memory usage: 320.9+ KB\n"
     ]
    }
   ],
   "source": [
    "train.insert(19,'AgeGp',np.where(train['Age']<20, 'children', np.where(train['Age']<30, 'adult', np.where(train['Age']<40, 'old', 'elder'))))\n",
    "train.info()"
   ]
  },
  {
   "cell_type": "code",
   "execution_count": 72,
   "id": "c5128935",
   "metadata": {},
   "outputs": [
    {
     "name": "stdout",
     "output_type": "stream",
     "text": [
      "<class 'pandas.core.frame.DataFrame'>\n",
      "RangeIndex: 2933 entries, 0 to 2932\n",
      "Data columns (total 20 columns):\n",
      " #   Column                    Non-Null Count  Dtype  \n",
      "---  ------                    --------------  -----  \n",
      " 0   id                        2933 non-null   int64  \n",
      " 1   Age                       2933 non-null   float64\n",
      " 2   TypeofContact             2933 non-null   object \n",
      " 3   CityTier                  2933 non-null   int64  \n",
      " 4   DurationOfPitch           2933 non-null   float64\n",
      " 5   Occupation                2933 non-null   object \n",
      " 6   Gender                    2933 non-null   object \n",
      " 7   NumberOfPersonVisiting    2933 non-null   int64  \n",
      " 8   NumberOfFollowups         2933 non-null   float64\n",
      " 9   ProductPitched            2933 non-null   object \n",
      " 10  PreferredPropertyStar     2933 non-null   float64\n",
      " 11  MaritalStatus             2933 non-null   object \n",
      " 12  NumberOfTrips             2933 non-null   float64\n",
      " 13  Passport                  2933 non-null   int64  \n",
      " 14  PitchSatisfactionScore    2933 non-null   int64  \n",
      " 15  OwnCar                    2933 non-null   int64  \n",
      " 16  NumberOfChildrenVisiting  2933 non-null   float64\n",
      " 17  Designation               2933 non-null   object \n",
      " 18  MonthlyIncome             2933 non-null   float64\n",
      " 19  AgeGp                     2933 non-null   object \n",
      "dtypes: float64(7), int64(6), object(7)\n",
      "memory usage: 458.4+ KB\n"
     ]
    }
   ],
   "source": [
    "test['AgeGp'] = np.where(test['Age']<20, 'children', np.where(test['Age']<30, 'adult', np.where(test['Age']<40, 'old', 'elder')))\n",
    "test.info()"
   ]
  },
  {
   "cell_type": "code",
   "execution_count": 73,
   "id": "194ed0ba",
   "metadata": {
    "scrolled": true
   },
   "outputs": [
    {
     "data": {
      "image/png": "[encoded data removed]",
      "text/plain": [
       "<Figure size 432x288 with 1 Axes>"
      ]
     },
     "metadata": {
      "needs_background": "light"
     },
     "output_type": "display_data"
    }
   ],
   "source": [
    "sns.countplot(x='AgeGp', hue='ProdTaken', data=train)\n",
    "plt.show()"
   ]
  },
  {
   "cell_type": "code",
   "execution_count": 74,
   "id": "c89659c7",
   "metadata": {},
   "outputs": [
    {
     "name": "stdout",
     "output_type": "stream",
     "text": [
      "<class 'pandas.core.frame.DataFrame'>\n",
      "RangeIndex: 1955 entries, 0 to 1954\n",
      "Data columns (total 22 columns):\n",
      " #   Column                    Non-Null Count  Dtype  \n",
      "---  ------                    --------------  -----  \n",
      " 0   id                        1955 non-null   int64  \n",
      " 1   Age                       1955 non-null   float64\n",
      " 2   TypeofContact             1955 non-null   object \n",
      " 3   CityTier                  1955 non-null   int64  \n",
      " 4   DurationOfPitch           1955 non-null   float64\n",
      " 5   Occupation                1955 non-null   object \n",
      " 6   Gender                    1955 non-null   object \n",
      " 7   NumberOfPersonVisiting    1955 non-null   int64  \n",
      " 8   NumberOfFollowups         1955 non-null   float64\n",
      " 9   ProductPitched            1955 non-null   object \n",
      " 10  PreferredPropertyStar     1955 non-null   float64\n",
      " 11  MaritalStatus             1955 non-null   object \n",
      " 12  NumberOfTrips             1955 non-null   float64\n",
      " 13  Passport                  1955 non-null   int64  \n",
      " 14  PitchSatisfactionScore    1955 non-null   int64  \n",
      " 15  OwnCar                    1955 non-null   int64  \n",
      " 16  NumberOfChildrenVisiting  1955 non-null   float64\n",
      " 17  Designation               1955 non-null   object \n",
      " 18  MonthlyIncome             1955 non-null   float64\n",
      " 19  AgeGp                     1955 non-null   object \n",
      " 20  family                    1955 non-null   object \n",
      " 21  ProdTaken                 1955 non-null   int64  \n",
      "dtypes: float64(7), int64(7), object(8)\n",
      "memory usage: 336.1+ KB\n"
     ]
    }
   ],
   "source": [
    "train.insert(20,'family',np.where(train['NumberOfChildrenVisiting']<=1, 'small', 'big'))\n",
    "train.info()"
   ]
  },
  {
   "cell_type": "code",
   "execution_count": 75,
   "id": "63858071",
   "metadata": {},
   "outputs": [
    {
     "data": {
      "text/plain": [
       "small    1966\n",
       "big       967\n",
       "Name: family, dtype: int64"
      ]
     },
     "execution_count": 75,
     "metadata": {},
     "output_type": "execute_result"
    }
   ],
   "source": [
    "test['family'] = np.where(test['NumberOfChildrenVisiting']<=1, 'small', 'big')\n",
    "test['family'].value_counts()"
   ]
  },
  {
   "cell_type": "code",
   "execution_count": 76,
   "id": "00b95578",
   "metadata": {},
   "outputs": [
    {
     "data": {
      "image/png": "[encoded data removed]",
      "text/plain": [
       "<Figure size 432x288 with 1 Axes>"
      ]
     },
     "metadata": {
      "needs_background": "light"
     },
     "output_type": "display_data"
    }
   ],
   "source": [
    "sns.countplot(x='family', hue='ProdTaken', data=train)\n",
    "plt.show()"
   ]
  },
  {
   "cell_type": "code",
   "execution_count": 77,
   "id": "5476bf2d",
   "metadata": {},
   "outputs": [
    {
     "data": {
      "image/png": "[encoded data removed]",
      "text/plain": [
       "<Figure size 432x288 with 1 Axes>"
      ]
     },
     "metadata": {
      "needs_background": "light"
     },
     "output_type": "display_data"
    }
   ],
   "source": [
    "sns.countplot(x='MaritalStatus', hue='ProdTaken', data=train)\n",
    "plt.show()"
   ]
  },
  {
   "cell_type": "code",
   "execution_count": null,
   "id": "19b21b0b",
   "metadata": {},
   "outputs": [],
   "source": []
  },
  {
   "cell_type": "code",
   "execution_count": null,
   "id": "256ad8c9",
   "metadata": {},
   "outputs": [],
   "source": []
  },
  {
   "cell_type": "code",
   "execution_count": null,
   "id": "6f148869",
   "metadata": {},
   "outputs": [],
   "source": []
  },
  {
   "cell_type": "code",
   "execution_count": null,
   "id": "e92294a9",
   "metadata": {},
   "outputs": [],
   "source": []
  },
  {
   "cell_type": "code",
   "execution_count": null,
   "id": "dcb1b801",
   "metadata": {},
   "outputs": [],
   "source": []
  },
  {
   "cell_type": "code",
   "execution_count": null,
   "id": "c5114d32",
   "metadata": {},
   "outputs": [],
   "source": []
  },
  {
   "cell_type": "code",
   "execution_count": null,
   "id": "ef5227e3",
   "metadata": {},
   "outputs": [],
   "source": []
  },
  {
   "cell_type": "code",
   "execution_count": null,
   "id": "920210bc",
   "metadata": {},
   "outputs": [],
   "source": []
  },
  {
   "cell_type": "code",
   "execution_count": null,
   "id": "db5db1a8",
   "metadata": {},
   "outputs": [],
   "source": []
  },
  {
   "cell_type": "code",
   "execution_count": null,
   "id": "ed085d9c",
   "metadata": {},
   "outputs": [],
   "source": []
  },
  {
   "cell_type": "code",
   "execution_count": null,
   "id": "2312266c",
   "metadata": {},
   "outputs": [],
   "source": []
  },
  {
   "cell_type": "code",
   "execution_count": null,
   "id": "260df323",
   "metadata": {},
   "outputs": [],
   "source": []
  },
  {
   "cell_type": "code",
   "execution_count": null,
   "id": "5c9865ca",
   "metadata": {},
   "outputs": [],
   "source": []
  },
  {
   "cell_type": "code",
   "execution_count": null,
   "id": "191ea9b5",
   "metadata": {},
   "outputs": [],
   "source": []
  },
  {
   "cell_type": "code",
   "execution_count": null,
   "id": "62d2c000",
   "metadata": {},
   "outputs": [],
   "source": []
  },
  {
   "cell_type": "markdown",
   "id": "e9d5511d",
   "metadata": {},
   "source": [
    "#### 변수 타입 변경"
   ]
  },
  {
   "cell_type": "code",
   "execution_count": 78,
   "id": "bc62b1b0",
   "metadata": {
    "scrolled": false
   },
   "outputs": [
    {
     "name": "stdout",
     "output_type": "stream",
     "text": [
      "<class 'pandas.core.frame.DataFrame'>\n",
      "RangeIndex: 1955 entries, 0 to 1954\n",
      "Data columns (total 22 columns):\n",
      " #   Column                    Non-Null Count  Dtype  \n",
      "---  ------                    --------------  -----  \n",
      " 0   id                        1955 non-null   int64  \n",
      " 1   Age                       1955 non-null   float64\n",
      " 2   TypeofContact             1955 non-null   object \n",
      " 3   CityTier                  1955 non-null   int64  \n",
      " 4   DurationOfPitch           1955 non-null   float64\n",
      " 5   Occupation                1955 non-null   object \n",
      " 6   Gender                    1955 non-null   object \n",
      " 7   NumberOfPersonVisiting    1955 non-null   int64  \n",
      " 8   NumberOfFollowups         1955 non-null   float64\n",
      " 9   ProductPitched            1955 non-null   object \n",
      " 10  PreferredPropertyStar     1955 non-null   float64\n",
      " 11  MaritalStatus             1955 non-null   object \n",
      " 12  NumberOfTrips             1955 non-null   float64\n",
      " 13  Passport                  1955 non-null   int64  \n",
      " 14  PitchSatisfactionScore    1955 non-null   int64  \n",
      " 15  OwnCar                    1955 non-null   int64  \n",
      " 16  NumberOfChildrenVisiting  1955 non-null   float64\n",
      " 17  Designation               1955 non-null   object \n",
      " 18  MonthlyIncome             1955 non-null   float64\n",
      " 19  AgeGp                     1955 non-null   object \n",
      " 20  family                    1955 non-null   object \n",
      " 21  ProdTaken                 1955 non-null   int64  \n",
      "dtypes: float64(7), int64(7), object(8)\n",
      "memory usage: 336.1+ KB\n"
     ]
    }
   ],
   "source": [
    "train.info()"
   ]
  },
  {
   "cell_type": "code",
   "execution_count": 79,
   "id": "8c8d15ee",
   "metadata": {
    "scrolled": true
   },
   "outputs": [
    {
     "name": "stdout",
     "output_type": "stream",
     "text": [
      "object 칼럼은 다음과 같습니다 :  ['TypeofContact', 'Occupation', 'Gender', 'ProductPitched', 'MaritalStatus', 'Designation', 'AgeGp', 'family']\n"
     ]
    },
    {
     "data": {
      "text/html": [
       "<div>\n",
       "<style scoped>\n",
       "    .dataframe tbody tr th:only-of-type {\n",
       "        vertical-align: middle;\n",
       "    }\n",
       "\n",
       "    .dataframe tbody tr th {\n",
       "        vertical-align: top;\n",
       "    }\n",
       "\n",
       "    .dataframe thead th {\n",
       "        text-align: right;\n",
       "    }\n",
       "</style>\n",
       "<table border=\"1\" class=\"dataframe\">\n",
       "  <thead>\n",
       "    <tr style=\"text-align: right;\">\n",
       "      <th></th>\n",
       "      <th>TypeofContact</th>\n",
       "      <th>Occupation</th>\n",
       "      <th>Gender</th>\n",
       "      <th>ProductPitched</th>\n",
       "      <th>MaritalStatus</th>\n",
       "      <th>Designation</th>\n",
       "      <th>AgeGp</th>\n",
       "      <th>family</th>\n",
       "    </tr>\n",
       "  </thead>\n",
       "  <tbody>\n",
       "    <tr>\n",
       "      <th>0</th>\n",
       "      <td>Company Invited</td>\n",
       "      <td>Small Business</td>\n",
       "      <td>Male</td>\n",
       "      <td>Basic</td>\n",
       "      <td>Married</td>\n",
       "      <td>Executive</td>\n",
       "      <td>adult</td>\n",
       "      <td>small</td>\n",
       "    </tr>\n",
       "    <tr>\n",
       "      <th>1</th>\n",
       "      <td>Self Enquiry</td>\n",
       "      <td>Small Business</td>\n",
       "      <td>Female</td>\n",
       "      <td>Deluxe</td>\n",
       "      <td>Single</td>\n",
       "      <td>Manager</td>\n",
       "      <td>old</td>\n",
       "      <td>small</td>\n",
       "    </tr>\n",
       "    <tr>\n",
       "      <th>2</th>\n",
       "      <td>Company Invited</td>\n",
       "      <td>Salaried</td>\n",
       "      <td>Male</td>\n",
       "      <td>Deluxe</td>\n",
       "      <td>Married</td>\n",
       "      <td>Manager</td>\n",
       "      <td>elder</td>\n",
       "      <td>small</td>\n",
       "    </tr>\n",
       "    <tr>\n",
       "      <th>3</th>\n",
       "      <td>Company Invited</td>\n",
       "      <td>Small Business</td>\n",
       "      <td>Male</td>\n",
       "      <td>Basic</td>\n",
       "      <td>Married</td>\n",
       "      <td>Executive</td>\n",
       "      <td>adult</td>\n",
       "      <td>small</td>\n",
       "    </tr>\n",
       "    <tr>\n",
       "      <th>4</th>\n",
       "      <td>Self Enquiry</td>\n",
       "      <td>Salaried</td>\n",
       "      <td>Male</td>\n",
       "      <td>Deluxe</td>\n",
       "      <td>Divorced</td>\n",
       "      <td>Manager</td>\n",
       "      <td>elder</td>\n",
       "      <td>small</td>\n",
       "    </tr>\n",
       "    <tr>\n",
       "      <th>...</th>\n",
       "      <td>...</td>\n",
       "      <td>...</td>\n",
       "      <td>...</td>\n",
       "      <td>...</td>\n",
       "      <td>...</td>\n",
       "      <td>...</td>\n",
       "      <td>...</td>\n",
       "      <td>...</td>\n",
       "    </tr>\n",
       "    <tr>\n",
       "      <th>1950</th>\n",
       "      <td>Self Enquiry</td>\n",
       "      <td>Small Business</td>\n",
       "      <td>Male</td>\n",
       "      <td>Basic</td>\n",
       "      <td>Single</td>\n",
       "      <td>Executive</td>\n",
       "      <td>adult</td>\n",
       "      <td>big</td>\n",
       "    </tr>\n",
       "    <tr>\n",
       "      <th>1951</th>\n",
       "      <td>Self Enquiry</td>\n",
       "      <td>Salaried</td>\n",
       "      <td>Female</td>\n",
       "      <td>Super Deluxe</td>\n",
       "      <td>Divorced</td>\n",
       "      <td>AVP</td>\n",
       "      <td>elder</td>\n",
       "      <td>small</td>\n",
       "    </tr>\n",
       "    <tr>\n",
       "      <th>1952</th>\n",
       "      <td>Company Invited</td>\n",
       "      <td>Small Business</td>\n",
       "      <td>Female</td>\n",
       "      <td>Basic</td>\n",
       "      <td>Divorced</td>\n",
       "      <td>Executive</td>\n",
       "      <td>old</td>\n",
       "      <td>big</td>\n",
       "    </tr>\n",
       "    <tr>\n",
       "      <th>1953</th>\n",
       "      <td>Self Enquiry</td>\n",
       "      <td>Small Business</td>\n",
       "      <td>Female</td>\n",
       "      <td>Deluxe</td>\n",
       "      <td>Married</td>\n",
       "      <td>Manager</td>\n",
       "      <td>adult</td>\n",
       "      <td>big</td>\n",
       "    </tr>\n",
       "    <tr>\n",
       "      <th>1954</th>\n",
       "      <td>Company Invited</td>\n",
       "      <td>Salaried</td>\n",
       "      <td>Male</td>\n",
       "      <td>Basic</td>\n",
       "      <td>Divorced</td>\n",
       "      <td>Executive</td>\n",
       "      <td>adult</td>\n",
       "      <td>small</td>\n",
       "    </tr>\n",
       "  </tbody>\n",
       "</table>\n",
       "<p>1955 rows × 8 columns</p>\n",
       "</div>"
      ],
      "text/plain": [
       "        TypeofContact      Occupation  Gender ProductPitched MaritalStatus  \\\n",
       "0     Company Invited  Small Business    Male          Basic       Married   \n",
       "1        Self Enquiry  Small Business  Female         Deluxe        Single   \n",
       "2     Company Invited        Salaried    Male         Deluxe       Married   \n",
       "3     Company Invited  Small Business    Male          Basic       Married   \n",
       "4        Self Enquiry        Salaried    Male         Deluxe      Divorced   \n",
       "...               ...             ...     ...            ...           ...   \n",
       "1950     Self Enquiry  Small Business    Male          Basic        Single   \n",
       "1951     Self Enquiry        Salaried  Female   Super Deluxe      Divorced   \n",
       "1952  Company Invited  Small Business  Female          Basic      Divorced   \n",
       "1953     Self Enquiry  Small Business  Female         Deluxe       Married   \n",
       "1954  Company Invited        Salaried    Male          Basic      Divorced   \n",
       "\n",
       "     Designation  AgeGp family  \n",
       "0      Executive  adult  small  \n",
       "1        Manager    old  small  \n",
       "2        Manager  elder  small  \n",
       "3      Executive  adult  small  \n",
       "4        Manager  elder  small  \n",
       "...          ...    ...    ...  \n",
       "1950   Executive  adult    big  \n",
       "1951         AVP  elder  small  \n",
       "1952   Executive    old    big  \n",
       "1953     Manager  adult    big  \n",
       "1954   Executive  adult  small  \n",
       "\n",
       "[1955 rows x 8 columns]"
      ]
     },
     "execution_count": 79,
     "metadata": {},
     "output_type": "execute_result"
    }
   ],
   "source": [
    "object_columns = train.columns[train.dtypes == 'object']\n",
    "print('object 칼럼은 다음과 같습니다 : ', list(object_columns))\n",
    "\n",
    "# 해당 칼럼만 보아서 봅시다\n",
    "train[object_columns]"
   ]
  },
  {
   "cell_type": "code",
   "execution_count": 80,
   "id": "332429ef",
   "metadata": {},
   "outputs": [],
   "source": [
    "train_enc = train.copy()"
   ]
  },
  {
   "cell_type": "code",
   "execution_count": 81,
   "id": "809ca457",
   "metadata": {
    "scrolled": false
   },
   "outputs": [
    {
     "name": "stdout",
     "output_type": "stream",
     "text": [
      "<class 'pandas.core.frame.DataFrame'>\n",
      "RangeIndex: 1955 entries, 0 to 1954\n",
      "Data columns (total 22 columns):\n",
      " #   Column                    Non-Null Count  Dtype  \n",
      "---  ------                    --------------  -----  \n",
      " 0   id                        1955 non-null   int64  \n",
      " 1   Age                       1955 non-null   float64\n",
      " 2   TypeofContact             1955 non-null   int32  \n",
      " 3   CityTier                  1955 non-null   int64  \n",
      " 4   DurationOfPitch           1955 non-null   float64\n",
      " 5   Occupation                1955 non-null   int32  \n",
      " 6   Gender                    1955 non-null   int32  \n",
      " 7   NumberOfPersonVisiting    1955 non-null   int64  \n",
      " 8   NumberOfFollowups         1955 non-null   float64\n",
      " 9   ProductPitched            1955 non-null   int32  \n",
      " 10  PreferredPropertyStar     1955 non-null   float64\n",
      " 11  MaritalStatus             1955 non-null   int32  \n",
      " 12  NumberOfTrips             1955 non-null   float64\n",
      " 13  Passport                  1955 non-null   int64  \n",
      " 14  PitchSatisfactionScore    1955 non-null   int64  \n",
      " 15  OwnCar                    1955 non-null   int64  \n",
      " 16  NumberOfChildrenVisiting  1955 non-null   float64\n",
      " 17  Designation               1955 non-null   int32  \n",
      " 18  MonthlyIncome             1955 non-null   float64\n",
      " 19  AgeGp                     1955 non-null   int32  \n",
      " 20  family                    1955 non-null   int32  \n",
      " 21  ProdTaken                 1955 non-null   int64  \n",
      "dtypes: float64(7), int32(8), int64(7)\n",
      "memory usage: 275.0 KB\n"
     ]
    }
   ],
   "source": [
    "from sklearn.preprocessing import LabelEncoder\n",
    "\n",
    "# 모든 문자형 변수에 대해 encoder를 적용합니다.\n",
    "for o_col in object_columns:\n",
    "    encoder = LabelEncoder()\n",
    "    encoder.fit(train[o_col])\n",
    "    train[o_col] = encoder.transform(train[o_col])\n",
    "\n",
    "# 결과를 확인합니다.\n",
    "train.info()"
   ]
  },
  {
   "cell_type": "code",
   "execution_count": 82,
   "id": "a6b57b5e",
   "metadata": {},
   "outputs": [
    {
     "data": {
      "text/html": [
       "<div>\n",
       "<style scoped>\n",
       "    .dataframe tbody tr th:only-of-type {\n",
       "        vertical-align: middle;\n",
       "    }\n",
       "\n",
       "    .dataframe tbody tr th {\n",
       "        vertical-align: top;\n",
       "    }\n",
       "\n",
       "    .dataframe thead th {\n",
       "        text-align: right;\n",
       "    }\n",
       "</style>\n",
       "<table border=\"1\" class=\"dataframe\">\n",
       "  <thead>\n",
       "    <tr style=\"text-align: right;\">\n",
       "      <th></th>\n",
       "      <th>id</th>\n",
       "      <th>Age</th>\n",
       "      <th>TypeofContact</th>\n",
       "      <th>CityTier</th>\n",
       "      <th>DurationOfPitch</th>\n",
       "      <th>Occupation</th>\n",
       "      <th>Gender</th>\n",
       "      <th>NumberOfPersonVisiting</th>\n",
       "      <th>NumberOfFollowups</th>\n",
       "      <th>ProductPitched</th>\n",
       "      <th>...</th>\n",
       "      <th>MaritalStatus</th>\n",
       "      <th>NumberOfTrips</th>\n",
       "      <th>Passport</th>\n",
       "      <th>PitchSatisfactionScore</th>\n",
       "      <th>OwnCar</th>\n",
       "      <th>NumberOfChildrenVisiting</th>\n",
       "      <th>Designation</th>\n",
       "      <th>MonthlyIncome</th>\n",
       "      <th>AgeGp</th>\n",
       "      <th>family</th>\n",
       "    </tr>\n",
       "  </thead>\n",
       "  <tbody>\n",
       "    <tr>\n",
       "      <th>0</th>\n",
       "      <td>1</td>\n",
       "      <td>32.0</td>\n",
       "      <td>0</td>\n",
       "      <td>3</td>\n",
       "      <td>14.7</td>\n",
       "      <td>3</td>\n",
       "      <td>2</td>\n",
       "      <td>2</td>\n",
       "      <td>5.0</td>\n",
       "      <td>1</td>\n",
       "      <td>...</td>\n",
       "      <td>1</td>\n",
       "      <td>1.0</td>\n",
       "      <td>0</td>\n",
       "      <td>2</td>\n",
       "      <td>0</td>\n",
       "      <td>1.0</td>\n",
       "      <td>2</td>\n",
       "      <td>19668.0</td>\n",
       "      <td>3</td>\n",
       "      <td>1</td>\n",
       "    </tr>\n",
       "    <tr>\n",
       "      <th>1</th>\n",
       "      <td>2</td>\n",
       "      <td>46.0</td>\n",
       "      <td>1</td>\n",
       "      <td>2</td>\n",
       "      <td>11.0</td>\n",
       "      <td>3</td>\n",
       "      <td>2</td>\n",
       "      <td>3</td>\n",
       "      <td>3.0</td>\n",
       "      <td>1</td>\n",
       "      <td>...</td>\n",
       "      <td>1</td>\n",
       "      <td>1.0</td>\n",
       "      <td>1</td>\n",
       "      <td>5</td>\n",
       "      <td>0</td>\n",
       "      <td>1.0</td>\n",
       "      <td>2</td>\n",
       "      <td>20021.0</td>\n",
       "      <td>2</td>\n",
       "      <td>1</td>\n",
       "    </tr>\n",
       "    <tr>\n",
       "      <th>2</th>\n",
       "      <td>3</td>\n",
       "      <td>37.0</td>\n",
       "      <td>1</td>\n",
       "      <td>3</td>\n",
       "      <td>22.0</td>\n",
       "      <td>3</td>\n",
       "      <td>2</td>\n",
       "      <td>3</td>\n",
       "      <td>4.0</td>\n",
       "      <td>1</td>\n",
       "      <td>...</td>\n",
       "      <td>1</td>\n",
       "      <td>5.0</td>\n",
       "      <td>0</td>\n",
       "      <td>5</td>\n",
       "      <td>1</td>\n",
       "      <td>0.0</td>\n",
       "      <td>2</td>\n",
       "      <td>21334.0</td>\n",
       "      <td>3</td>\n",
       "      <td>1</td>\n",
       "    </tr>\n",
       "    <tr>\n",
       "      <th>3</th>\n",
       "      <td>4</td>\n",
       "      <td>43.0</td>\n",
       "      <td>1</td>\n",
       "      <td>1</td>\n",
       "      <td>36.0</td>\n",
       "      <td>3</td>\n",
       "      <td>2</td>\n",
       "      <td>3</td>\n",
       "      <td>6.0</td>\n",
       "      <td>1</td>\n",
       "      <td>...</td>\n",
       "      <td>3</td>\n",
       "      <td>6.0</td>\n",
       "      <td>0</td>\n",
       "      <td>3</td>\n",
       "      <td>1</td>\n",
       "      <td>2.0</td>\n",
       "      <td>2</td>\n",
       "      <td>22950.0</td>\n",
       "      <td>2</td>\n",
       "      <td>0</td>\n",
       "    </tr>\n",
       "    <tr>\n",
       "      <th>4</th>\n",
       "      <td>5</td>\n",
       "      <td>25.0</td>\n",
       "      <td>1</td>\n",
       "      <td>3</td>\n",
       "      <td>7.0</td>\n",
       "      <td>1</td>\n",
       "      <td>1</td>\n",
       "      <td>4</td>\n",
       "      <td>4.0</td>\n",
       "      <td>0</td>\n",
       "      <td>...</td>\n",
       "      <td>3</td>\n",
       "      <td>3.0</td>\n",
       "      <td>1</td>\n",
       "      <td>4</td>\n",
       "      <td>1</td>\n",
       "      <td>3.0</td>\n",
       "      <td>1</td>\n",
       "      <td>21880.0</td>\n",
       "      <td>0</td>\n",
       "      <td>0</td>\n",
       "    </tr>\n",
       "    <tr>\n",
       "      <th>...</th>\n",
       "      <td>...</td>\n",
       "      <td>...</td>\n",
       "      <td>...</td>\n",
       "      <td>...</td>\n",
       "      <td>...</td>\n",
       "      <td>...</td>\n",
       "      <td>...</td>\n",
       "      <td>...</td>\n",
       "      <td>...</td>\n",
       "      <td>...</td>\n",
       "      <td>...</td>\n",
       "      <td>...</td>\n",
       "      <td>...</td>\n",
       "      <td>...</td>\n",
       "      <td>...</td>\n",
       "      <td>...</td>\n",
       "      <td>...</td>\n",
       "      <td>...</td>\n",
       "      <td>...</td>\n",
       "      <td>...</td>\n",
       "      <td>...</td>\n",
       "    </tr>\n",
       "    <tr>\n",
       "      <th>2928</th>\n",
       "      <td>2929</td>\n",
       "      <td>54.0</td>\n",
       "      <td>1</td>\n",
       "      <td>1</td>\n",
       "      <td>6.0</td>\n",
       "      <td>3</td>\n",
       "      <td>1</td>\n",
       "      <td>2</td>\n",
       "      <td>3.0</td>\n",
       "      <td>4</td>\n",
       "      <td>...</td>\n",
       "      <td>2</td>\n",
       "      <td>7.0</td>\n",
       "      <td>0</td>\n",
       "      <td>4</td>\n",
       "      <td>1</td>\n",
       "      <td>1.0</td>\n",
       "      <td>0</td>\n",
       "      <td>32328.0</td>\n",
       "      <td>2</td>\n",
       "      <td>1</td>\n",
       "    </tr>\n",
       "    <tr>\n",
       "      <th>2929</th>\n",
       "      <td>2930</td>\n",
       "      <td>33.0</td>\n",
       "      <td>1</td>\n",
       "      <td>1</td>\n",
       "      <td>9.0</td>\n",
       "      <td>3</td>\n",
       "      <td>0</td>\n",
       "      <td>4</td>\n",
       "      <td>2.0</td>\n",
       "      <td>1</td>\n",
       "      <td>...</td>\n",
       "      <td>3</td>\n",
       "      <td>2.0</td>\n",
       "      <td>0</td>\n",
       "      <td>3</td>\n",
       "      <td>0</td>\n",
       "      <td>1.0</td>\n",
       "      <td>2</td>\n",
       "      <td>23733.0</td>\n",
       "      <td>3</td>\n",
       "      <td>1</td>\n",
       "    </tr>\n",
       "    <tr>\n",
       "      <th>2930</th>\n",
       "      <td>2931</td>\n",
       "      <td>33.0</td>\n",
       "      <td>0</td>\n",
       "      <td>1</td>\n",
       "      <td>31.0</td>\n",
       "      <td>2</td>\n",
       "      <td>2</td>\n",
       "      <td>4</td>\n",
       "      <td>4.0</td>\n",
       "      <td>1</td>\n",
       "      <td>...</td>\n",
       "      <td>0</td>\n",
       "      <td>3.0</td>\n",
       "      <td>0</td>\n",
       "      <td>4</td>\n",
       "      <td>1</td>\n",
       "      <td>1.0</td>\n",
       "      <td>2</td>\n",
       "      <td>23987.0</td>\n",
       "      <td>3</td>\n",
       "      <td>1</td>\n",
       "    </tr>\n",
       "    <tr>\n",
       "      <th>2931</th>\n",
       "      <td>2932</td>\n",
       "      <td>26.0</td>\n",
       "      <td>1</td>\n",
       "      <td>1</td>\n",
       "      <td>9.0</td>\n",
       "      <td>3</td>\n",
       "      <td>2</td>\n",
       "      <td>4</td>\n",
       "      <td>2.0</td>\n",
       "      <td>0</td>\n",
       "      <td>...</td>\n",
       "      <td>3</td>\n",
       "      <td>2.0</td>\n",
       "      <td>0</td>\n",
       "      <td>2</td>\n",
       "      <td>1</td>\n",
       "      <td>3.0</td>\n",
       "      <td>1</td>\n",
       "      <td>22102.0</td>\n",
       "      <td>0</td>\n",
       "      <td>0</td>\n",
       "    </tr>\n",
       "    <tr>\n",
       "      <th>2932</th>\n",
       "      <td>2933</td>\n",
       "      <td>31.0</td>\n",
       "      <td>1</td>\n",
       "      <td>1</td>\n",
       "      <td>9.0</td>\n",
       "      <td>2</td>\n",
       "      <td>2</td>\n",
       "      <td>3</td>\n",
       "      <td>5.0</td>\n",
       "      <td>1</td>\n",
       "      <td>...</td>\n",
       "      <td>0</td>\n",
       "      <td>3.0</td>\n",
       "      <td>0</td>\n",
       "      <td>4</td>\n",
       "      <td>1</td>\n",
       "      <td>1.0</td>\n",
       "      <td>2</td>\n",
       "      <td>22830.0</td>\n",
       "      <td>3</td>\n",
       "      <td>1</td>\n",
       "    </tr>\n",
       "  </tbody>\n",
       "</table>\n",
       "<p>2933 rows × 21 columns</p>\n",
       "</div>"
      ],
      "text/plain": [
       "        id   Age  TypeofContact  CityTier  DurationOfPitch  Occupation  \\\n",
       "0        1  32.0              0         3             14.7           3   \n",
       "1        2  46.0              1         2             11.0           3   \n",
       "2        3  37.0              1         3             22.0           3   \n",
       "3        4  43.0              1         1             36.0           3   \n",
       "4        5  25.0              1         3              7.0           1   \n",
       "...    ...   ...            ...       ...              ...         ...   \n",
       "2928  2929  54.0              1         1              6.0           3   \n",
       "2929  2930  33.0              1         1              9.0           3   \n",
       "2930  2931  33.0              0         1             31.0           2   \n",
       "2931  2932  26.0              1         1              9.0           3   \n",
       "2932  2933  31.0              1         1              9.0           2   \n",
       "\n",
       "      Gender  NumberOfPersonVisiting  NumberOfFollowups  ProductPitched  ...  \\\n",
       "0          2                       2                5.0               1  ...   \n",
       "1          2                       3                3.0               1  ...   \n",
       "2          2                       3                4.0               1  ...   \n",
       "3          2                       3                6.0               1  ...   \n",
       "4          1                       4                4.0               0  ...   \n",
       "...      ...                     ...                ...             ...  ...   \n",
       "2928       1                       2                3.0               4  ...   \n",
       "2929       0                       4                2.0               1  ...   \n",
       "2930       2                       4                4.0               1  ...   \n",
       "2931       2                       4                2.0               0  ...   \n",
       "2932       2                       3                5.0               1  ...   \n",
       "\n",
       "      MaritalStatus  NumberOfTrips  Passport  PitchSatisfactionScore  OwnCar  \\\n",
       "0                 1            1.0         0                       2       0   \n",
       "1                 1            1.0         1                       5       0   \n",
       "2                 1            5.0         0                       5       1   \n",
       "3                 3            6.0         0                       3       1   \n",
       "4                 3            3.0         1                       4       1   \n",
       "...             ...            ...       ...                     ...     ...   \n",
       "2928              2            7.0         0                       4       1   \n",
       "2929              3            2.0         0                       3       0   \n",
       "2930              0            3.0         0                       4       1   \n",
       "2931              3            2.0         0                       2       1   \n",
       "2932              0            3.0         0                       4       1   \n",
       "\n",
       "      NumberOfChildrenVisiting  Designation  MonthlyIncome  AgeGp  family  \n",
       "0                          1.0            2        19668.0      3       1  \n",
       "1                          1.0            2        20021.0      2       1  \n",
       "2                          0.0            2        21334.0      3       1  \n",
       "3                          2.0            2        22950.0      2       0  \n",
       "4                          3.0            1        21880.0      0       0  \n",
       "...                        ...          ...            ...    ...     ...  \n",
       "2928                       1.0            0        32328.0      2       1  \n",
       "2929                       1.0            2        23733.0      3       1  \n",
       "2930                       1.0            2        23987.0      3       1  \n",
       "2931                       3.0            1        22102.0      0       0  \n",
       "2932                       1.0            2        22830.0      3       1  \n",
       "\n",
       "[2933 rows x 21 columns]"
      ]
     },
     "execution_count": 82,
     "metadata": {},
     "output_type": "execute_result"
    }
   ],
   "source": [
    "# 모든 문자형 변수에 대해 encoder를 적용합니다.\n",
    "for o_col in object_columns:\n",
    "    encoder = LabelEncoder()\n",
    "    encoder.fit(train_enc[o_col])\n",
    "    test[o_col] = encoder.transform(test[o_col])\n",
    "test"
   ]
  },
  {
   "cell_type": "code",
   "execution_count": 83,
   "id": "06025f76",
   "metadata": {},
   "outputs": [
    {
     "name": "stdout",
     "output_type": "stream",
     "text": [
      "<class 'pandas.core.frame.DataFrame'>\n",
      "RangeIndex: 2933 entries, 0 to 2932\n",
      "Data columns (total 21 columns):\n",
      " #   Column                    Non-Null Count  Dtype  \n",
      "---  ------                    --------------  -----  \n",
      " 0   id                        2933 non-null   int64  \n",
      " 1   Age                       2933 non-null   float64\n",
      " 2   TypeofContact             2933 non-null   int32  \n",
      " 3   CityTier                  2933 non-null   int64  \n",
      " 4   DurationOfPitch           2933 non-null   float64\n",
      " 5   Occupation                2933 non-null   int32  \n",
      " 6   Gender                    2933 non-null   int32  \n",
      " 7   NumberOfPersonVisiting    2933 non-null   int64  \n",
      " 8   NumberOfFollowups         2933 non-null   float64\n",
      " 9   ProductPitched            2933 non-null   int32  \n",
      " 10  PreferredPropertyStar     2933 non-null   float64\n",
      " 11  MaritalStatus             2933 non-null   int32  \n",
      " 12  NumberOfTrips             2933 non-null   float64\n",
      " 13  Passport                  2933 non-null   int64  \n",
      " 14  PitchSatisfactionScore    2933 non-null   int64  \n",
      " 15  OwnCar                    2933 non-null   int64  \n",
      " 16  NumberOfChildrenVisiting  2933 non-null   float64\n",
      " 17  Designation               2933 non-null   int32  \n",
      " 18  MonthlyIncome             2933 non-null   float64\n",
      " 19  AgeGp                     2933 non-null   int32  \n",
      " 20  family                    2933 non-null   int32  \n",
      "dtypes: float64(7), int32(8), int64(6)\n",
      "memory usage: 389.7 KB\n"
     ]
    }
   ],
   "source": [
    "test.info()"
   ]
  },
  {
   "cell_type": "code",
   "execution_count": 84,
   "id": "5265c50a",
   "metadata": {},
   "outputs": [
    {
     "data": {
      "text/html": [
       "<div>\n",
       "<style scoped>\n",
       "    .dataframe tbody tr th:only-of-type {\n",
       "        vertical-align: middle;\n",
       "    }\n",
       "\n",
       "    .dataframe tbody tr th {\n",
       "        vertical-align: top;\n",
       "    }\n",
       "\n",
       "    .dataframe thead th {\n",
       "        text-align: right;\n",
       "    }\n",
       "</style>\n",
       "<table border=\"1\" class=\"dataframe\">\n",
       "  <thead>\n",
       "    <tr style=\"text-align: right;\">\n",
       "      <th></th>\n",
       "      <th>id</th>\n",
       "      <th>Age</th>\n",
       "      <th>TypeofContact</th>\n",
       "      <th>CityTier</th>\n",
       "      <th>DurationOfPitch</th>\n",
       "      <th>Occupation</th>\n",
       "      <th>Gender</th>\n",
       "      <th>NumberOfPersonVisiting</th>\n",
       "      <th>NumberOfFollowups</th>\n",
       "      <th>ProductPitched</th>\n",
       "      <th>...</th>\n",
       "      <th>NumberOfTrips</th>\n",
       "      <th>Passport</th>\n",
       "      <th>PitchSatisfactionScore</th>\n",
       "      <th>OwnCar</th>\n",
       "      <th>NumberOfChildrenVisiting</th>\n",
       "      <th>Designation</th>\n",
       "      <th>MonthlyIncome</th>\n",
       "      <th>AgeGp</th>\n",
       "      <th>family</th>\n",
       "      <th>ProdTaken</th>\n",
       "    </tr>\n",
       "  </thead>\n",
       "  <tbody>\n",
       "    <tr>\n",
       "      <th>0</th>\n",
       "      <td>1</td>\n",
       "      <td>0.232558</td>\n",
       "      <td>0</td>\n",
       "      <td>1</td>\n",
       "      <td>0.161290</td>\n",
       "      <td>3</td>\n",
       "      <td>2</td>\n",
       "      <td>3</td>\n",
       "      <td>4.0</td>\n",
       "      <td>0</td>\n",
       "      <td>...</td>\n",
       "      <td>3.0</td>\n",
       "      <td>0</td>\n",
       "      <td>1</td>\n",
       "      <td>0</td>\n",
       "      <td>1.0</td>\n",
       "      <td>1</td>\n",
       "      <td>0.198448</td>\n",
       "      <td>0</td>\n",
       "      <td>1</td>\n",
       "      <td>0</td>\n",
       "    </tr>\n",
       "    <tr>\n",
       "      <th>1</th>\n",
       "      <td>2</td>\n",
       "      <td>0.372093</td>\n",
       "      <td>1</td>\n",
       "      <td>3</td>\n",
       "      <td>0.354839</td>\n",
       "      <td>3</td>\n",
       "      <td>1</td>\n",
       "      <td>2</td>\n",
       "      <td>4.0</td>\n",
       "      <td>1</td>\n",
       "      <td>...</td>\n",
       "      <td>1.0</td>\n",
       "      <td>1</td>\n",
       "      <td>5</td>\n",
       "      <td>1</td>\n",
       "      <td>0.0</td>\n",
       "      <td>2</td>\n",
       "      <td>0.190411</td>\n",
       "      <td>3</td>\n",
       "      <td>1</td>\n",
       "      <td>1</td>\n",
       "    </tr>\n",
       "    <tr>\n",
       "      <th>2</th>\n",
       "      <td>3</td>\n",
       "      <td>0.627907</td>\n",
       "      <td>0</td>\n",
       "      <td>1</td>\n",
       "      <td>0.354839</td>\n",
       "      <td>2</td>\n",
       "      <td>2</td>\n",
       "      <td>2</td>\n",
       "      <td>3.0</td>\n",
       "      <td>1</td>\n",
       "      <td>...</td>\n",
       "      <td>2.0</td>\n",
       "      <td>0</td>\n",
       "      <td>4</td>\n",
       "      <td>1</td>\n",
       "      <td>0.0</td>\n",
       "      <td>2</td>\n",
       "      <td>0.164725</td>\n",
       "      <td>2</td>\n",
       "      <td>1</td>\n",
       "      <td>0</td>\n",
       "    </tr>\n",
       "    <tr>\n",
       "      <th>3</th>\n",
       "      <td>4</td>\n",
       "      <td>0.255814</td>\n",
       "      <td>0</td>\n",
       "      <td>1</td>\n",
       "      <td>0.064516</td>\n",
       "      <td>3</td>\n",
       "      <td>2</td>\n",
       "      <td>3</td>\n",
       "      <td>5.0</td>\n",
       "      <td>0</td>\n",
       "      <td>...</td>\n",
       "      <td>3.0</td>\n",
       "      <td>0</td>\n",
       "      <td>4</td>\n",
       "      <td>0</td>\n",
       "      <td>1.0</td>\n",
       "      <td>1</td>\n",
       "      <td>0.207560</td>\n",
       "      <td>0</td>\n",
       "      <td>1</td>\n",
       "      <td>1</td>\n",
       "    </tr>\n",
       "    <tr>\n",
       "      <th>4</th>\n",
       "      <td>5</td>\n",
       "      <td>0.558140</td>\n",
       "      <td>1</td>\n",
       "      <td>3</td>\n",
       "      <td>0.032258</td>\n",
       "      <td>2</td>\n",
       "      <td>2</td>\n",
       "      <td>2</td>\n",
       "      <td>3.0</td>\n",
       "      <td>1</td>\n",
       "      <td>...</td>\n",
       "      <td>2.0</td>\n",
       "      <td>0</td>\n",
       "      <td>3</td>\n",
       "      <td>1</td>\n",
       "      <td>0.0</td>\n",
       "      <td>2</td>\n",
       "      <td>0.193565</td>\n",
       "      <td>2</td>\n",
       "      <td>1</td>\n",
       "      <td>0</td>\n",
       "    </tr>\n",
       "    <tr>\n",
       "      <th>...</th>\n",
       "      <td>...</td>\n",
       "      <td>...</td>\n",
       "      <td>...</td>\n",
       "      <td>...</td>\n",
       "      <td>...</td>\n",
       "      <td>...</td>\n",
       "      <td>...</td>\n",
       "      <td>...</td>\n",
       "      <td>...</td>\n",
       "      <td>...</td>\n",
       "      <td>...</td>\n",
       "      <td>...</td>\n",
       "      <td>...</td>\n",
       "      <td>...</td>\n",
       "      <td>...</td>\n",
       "      <td>...</td>\n",
       "      <td>...</td>\n",
       "      <td>...</td>\n",
       "      <td>...</td>\n",
       "      <td>...</td>\n",
       "      <td>...</td>\n",
       "    </tr>\n",
       "    <tr>\n",
       "      <th>1950</th>\n",
       "      <td>1951</td>\n",
       "      <td>0.232558</td>\n",
       "      <td>1</td>\n",
       "      <td>1</td>\n",
       "      <td>0.161290</td>\n",
       "      <td>3</td>\n",
       "      <td>2</td>\n",
       "      <td>3</td>\n",
       "      <td>5.0</td>\n",
       "      <td>0</td>\n",
       "      <td>...</td>\n",
       "      <td>2.0</td>\n",
       "      <td>0</td>\n",
       "      <td>1</td>\n",
       "      <td>1</td>\n",
       "      <td>2.0</td>\n",
       "      <td>1</td>\n",
       "      <td>0.201919</td>\n",
       "      <td>0</td>\n",
       "      <td>0</td>\n",
       "      <td>0</td>\n",
       "    </tr>\n",
       "    <tr>\n",
       "      <th>1951</th>\n",
       "      <td>1952</td>\n",
       "      <td>0.534884</td>\n",
       "      <td>1</td>\n",
       "      <td>3</td>\n",
       "      <td>0.096774</td>\n",
       "      <td>2</td>\n",
       "      <td>1</td>\n",
       "      <td>3</td>\n",
       "      <td>3.0</td>\n",
       "      <td>4</td>\n",
       "      <td>...</td>\n",
       "      <td>1.0</td>\n",
       "      <td>0</td>\n",
       "      <td>5</td>\n",
       "      <td>1</td>\n",
       "      <td>1.0</td>\n",
       "      <td>0</td>\n",
       "      <td>0.313223</td>\n",
       "      <td>2</td>\n",
       "      <td>1</td>\n",
       "      <td>0</td>\n",
       "    </tr>\n",
       "    <tr>\n",
       "      <th>1952</th>\n",
       "      <td>1953</td>\n",
       "      <td>0.465116</td>\n",
       "      <td>0</td>\n",
       "      <td>3</td>\n",
       "      <td>0.741935</td>\n",
       "      <td>3</td>\n",
       "      <td>1</td>\n",
       "      <td>3</td>\n",
       "      <td>4.0</td>\n",
       "      <td>0</td>\n",
       "      <td>...</td>\n",
       "      <td>7.0</td>\n",
       "      <td>0</td>\n",
       "      <td>2</td>\n",
       "      <td>1</td>\n",
       "      <td>2.0</td>\n",
       "      <td>1</td>\n",
       "      <td>0.211419</td>\n",
       "      <td>3</td>\n",
       "      <td>0</td>\n",
       "      <td>0</td>\n",
       "    </tr>\n",
       "    <tr>\n",
       "      <th>1953</th>\n",
       "      <td>1954</td>\n",
       "      <td>0.232558</td>\n",
       "      <td>1</td>\n",
       "      <td>3</td>\n",
       "      <td>0.806452</td>\n",
       "      <td>3</td>\n",
       "      <td>1</td>\n",
       "      <td>3</td>\n",
       "      <td>5.0</td>\n",
       "      <td>1</td>\n",
       "      <td>...</td>\n",
       "      <td>3.0</td>\n",
       "      <td>0</td>\n",
       "      <td>1</td>\n",
       "      <td>1</td>\n",
       "      <td>2.0</td>\n",
       "      <td>2</td>\n",
       "      <td>0.217224</td>\n",
       "      <td>0</td>\n",
       "      <td>0</td>\n",
       "      <td>0</td>\n",
       "    </tr>\n",
       "    <tr>\n",
       "      <th>1954</th>\n",
       "      <td>1955</td>\n",
       "      <td>0.093023</td>\n",
       "      <td>0</td>\n",
       "      <td>1</td>\n",
       "      <td>0.129032</td>\n",
       "      <td>2</td>\n",
       "      <td>2</td>\n",
       "      <td>2</td>\n",
       "      <td>4.0</td>\n",
       "      <td>0</td>\n",
       "      <td>...</td>\n",
       "      <td>1.0</td>\n",
       "      <td>1</td>\n",
       "      <td>3</td>\n",
       "      <td>0</td>\n",
       "      <td>0.0</td>\n",
       "      <td>1</td>\n",
       "      <td>0.172536</td>\n",
       "      <td>0</td>\n",
       "      <td>1</td>\n",
       "      <td>1</td>\n",
       "    </tr>\n",
       "  </tbody>\n",
       "</table>\n",
       "<p>1955 rows × 22 columns</p>\n",
       "</div>"
      ],
      "text/plain": [
       "        id       Age  TypeofContact  CityTier  DurationOfPitch  Occupation  \\\n",
       "0        1  0.232558              0         1         0.161290           3   \n",
       "1        2  0.372093              1         3         0.354839           3   \n",
       "2        3  0.627907              0         1         0.354839           2   \n",
       "3        4  0.255814              0         1         0.064516           3   \n",
       "4        5  0.558140              1         3         0.032258           2   \n",
       "...    ...       ...            ...       ...              ...         ...   \n",
       "1950  1951  0.232558              1         1         0.161290           3   \n",
       "1951  1952  0.534884              1         3         0.096774           2   \n",
       "1952  1953  0.465116              0         3         0.741935           3   \n",
       "1953  1954  0.232558              1         3         0.806452           3   \n",
       "1954  1955  0.093023              0         1         0.129032           2   \n",
       "\n",
       "      Gender  NumberOfPersonVisiting  NumberOfFollowups  ProductPitched  ...  \\\n",
       "0          2                       3                4.0               0  ...   \n",
       "1          1                       2                4.0               1  ...   \n",
       "2          2                       2                3.0               1  ...   \n",
       "3          2                       3                5.0               0  ...   \n",
       "4          2                       2                3.0               1  ...   \n",
       "...      ...                     ...                ...             ...  ...   \n",
       "1950       2                       3                5.0               0  ...   \n",
       "1951       1                       3                3.0               4  ...   \n",
       "1952       1                       3                4.0               0  ...   \n",
       "1953       1                       3                5.0               1  ...   \n",
       "1954       2                       2                4.0               0  ...   \n",
       "\n",
       "      NumberOfTrips  Passport  PitchSatisfactionScore  OwnCar  \\\n",
       "0               3.0         0                       1       0   \n",
       "1               1.0         1                       5       1   \n",
       "2               2.0         0                       4       1   \n",
       "3               3.0         0                       4       0   \n",
       "4               2.0         0                       3       1   \n",
       "...             ...       ...                     ...     ...   \n",
       "1950            2.0         0                       1       1   \n",
       "1951            1.0         0                       5       1   \n",
       "1952            7.0         0                       2       1   \n",
       "1953            3.0         0                       1       1   \n",
       "1954            1.0         1                       3       0   \n",
       "\n",
       "      NumberOfChildrenVisiting  Designation  MonthlyIncome  AgeGp  family  \\\n",
       "0                          1.0            1       0.198448      0       1   \n",
       "1                          0.0            2       0.190411      3       1   \n",
       "2                          0.0            2       0.164725      2       1   \n",
       "3                          1.0            1       0.207560      0       1   \n",
       "4                          0.0            2       0.193565      2       1   \n",
       "...                        ...          ...            ...    ...     ...   \n",
       "1950                       2.0            1       0.201919      0       0   \n",
       "1951                       1.0            0       0.313223      2       1   \n",
       "1952                       2.0            1       0.211419      3       0   \n",
       "1953                       2.0            2       0.217224      0       0   \n",
       "1954                       0.0            1       0.172536      0       1   \n",
       "\n",
       "      ProdTaken  \n",
       "0             0  \n",
       "1             1  \n",
       "2             0  \n",
       "3             1  \n",
       "4             0  \n",
       "...         ...  \n",
       "1950          0  \n",
       "1951          0  \n",
       "1952          0  \n",
       "1953          0  \n",
       "1954          1  \n",
       "\n",
       "[1955 rows x 22 columns]"
      ]
     },
     "execution_count": 84,
     "metadata": {},
     "output_type": "execute_result"
    }
   ],
   "source": [
    "# MinMaxScaler를 준비해줍니다.\n",
    "from sklearn.preprocessing import MinMaxScaler\n",
    "scaler = MinMaxScaler()\n",
    "\n",
    "# MinMaxScaler는 학습하는 과정을 필요로 합니다.\n",
    "scaler.fit(train[['Age', 'DurationOfPitch', 'MonthlyIncome']])\n",
    "\n",
    "# 학습된 scaler를 사용하여 변환해줍니다.\n",
    "train[['Age', 'DurationOfPitch', 'MonthlyIncome']] = scaler.transform(train[['Age', 'DurationOfPitch', 'MonthlyIncome']])\n",
    "\n",
    "# 결과를 확인합니다.\n",
    "train"
   ]
  },
  {
   "cell_type": "code",
   "execution_count": 85,
   "id": "7af0535b",
   "metadata": {},
   "outputs": [
    {
     "data": {
      "text/html": [
       "<div>\n",
       "<style scoped>\n",
       "    .dataframe tbody tr th:only-of-type {\n",
       "        vertical-align: middle;\n",
       "    }\n",
       "\n",
       "    .dataframe tbody tr th {\n",
       "        vertical-align: top;\n",
       "    }\n",
       "\n",
       "    .dataframe thead th {\n",
       "        text-align: right;\n",
       "    }\n",
       "</style>\n",
       "<table border=\"1\" class=\"dataframe\">\n",
       "  <thead>\n",
       "    <tr style=\"text-align: right;\">\n",
       "      <th></th>\n",
       "      <th>id</th>\n",
       "      <th>Age</th>\n",
       "      <th>TypeofContact</th>\n",
       "      <th>CityTier</th>\n",
       "      <th>DurationOfPitch</th>\n",
       "      <th>Occupation</th>\n",
       "      <th>Gender</th>\n",
       "      <th>NumberOfPersonVisiting</th>\n",
       "      <th>NumberOfFollowups</th>\n",
       "      <th>ProductPitched</th>\n",
       "      <th>...</th>\n",
       "      <th>MaritalStatus</th>\n",
       "      <th>NumberOfTrips</th>\n",
       "      <th>Passport</th>\n",
       "      <th>PitchSatisfactionScore</th>\n",
       "      <th>OwnCar</th>\n",
       "      <th>NumberOfChildrenVisiting</th>\n",
       "      <th>Designation</th>\n",
       "      <th>MonthlyIncome</th>\n",
       "      <th>AgeGp</th>\n",
       "      <th>family</th>\n",
       "    </tr>\n",
       "  </thead>\n",
       "  <tbody>\n",
       "    <tr>\n",
       "      <th>0</th>\n",
       "      <td>1</td>\n",
       "      <td>0.325581</td>\n",
       "      <td>0</td>\n",
       "      <td>3</td>\n",
       "      <td>0.312903</td>\n",
       "      <td>3</td>\n",
       "      <td>2</td>\n",
       "      <td>2</td>\n",
       "      <td>5.0</td>\n",
       "      <td>1</td>\n",
       "      <td>...</td>\n",
       "      <td>1</td>\n",
       "      <td>1.0</td>\n",
       "      <td>0</td>\n",
       "      <td>2</td>\n",
       "      <td>0</td>\n",
       "      <td>1.0</td>\n",
       "      <td>2</td>\n",
       "      <td>0.191118</td>\n",
       "      <td>3</td>\n",
       "      <td>1</td>\n",
       "    </tr>\n",
       "    <tr>\n",
       "      <th>1</th>\n",
       "      <td>2</td>\n",
       "      <td>0.651163</td>\n",
       "      <td>1</td>\n",
       "      <td>2</td>\n",
       "      <td>0.193548</td>\n",
       "      <td>3</td>\n",
       "      <td>2</td>\n",
       "      <td>3</td>\n",
       "      <td>3.0</td>\n",
       "      <td>1</td>\n",
       "      <td>...</td>\n",
       "      <td>1</td>\n",
       "      <td>1.0</td>\n",
       "      <td>1</td>\n",
       "      <td>5</td>\n",
       "      <td>0</td>\n",
       "      <td>1.0</td>\n",
       "      <td>2</td>\n",
       "      <td>0.194732</td>\n",
       "      <td>2</td>\n",
       "      <td>1</td>\n",
       "    </tr>\n",
       "    <tr>\n",
       "      <th>2</th>\n",
       "      <td>3</td>\n",
       "      <td>0.441860</td>\n",
       "      <td>1</td>\n",
       "      <td>3</td>\n",
       "      <td>0.548387</td>\n",
       "      <td>3</td>\n",
       "      <td>2</td>\n",
       "      <td>3</td>\n",
       "      <td>4.0</td>\n",
       "      <td>1</td>\n",
       "      <td>...</td>\n",
       "      <td>1</td>\n",
       "      <td>5.0</td>\n",
       "      <td>0</td>\n",
       "      <td>5</td>\n",
       "      <td>1</td>\n",
       "      <td>0.0</td>\n",
       "      <td>2</td>\n",
       "      <td>0.208174</td>\n",
       "      <td>3</td>\n",
       "      <td>1</td>\n",
       "    </tr>\n",
       "    <tr>\n",
       "      <th>3</th>\n",
       "      <td>4</td>\n",
       "      <td>0.581395</td>\n",
       "      <td>1</td>\n",
       "      <td>1</td>\n",
       "      <td>1.000000</td>\n",
       "      <td>3</td>\n",
       "      <td>2</td>\n",
       "      <td>3</td>\n",
       "      <td>6.0</td>\n",
       "      <td>1</td>\n",
       "      <td>...</td>\n",
       "      <td>3</td>\n",
       "      <td>6.0</td>\n",
       "      <td>0</td>\n",
       "      <td>3</td>\n",
       "      <td>1</td>\n",
       "      <td>2.0</td>\n",
       "      <td>2</td>\n",
       "      <td>0.224718</td>\n",
       "      <td>2</td>\n",
       "      <td>0</td>\n",
       "    </tr>\n",
       "    <tr>\n",
       "      <th>4</th>\n",
       "      <td>5</td>\n",
       "      <td>0.162791</td>\n",
       "      <td>1</td>\n",
       "      <td>3</td>\n",
       "      <td>0.064516</td>\n",
       "      <td>1</td>\n",
       "      <td>1</td>\n",
       "      <td>4</td>\n",
       "      <td>4.0</td>\n",
       "      <td>0</td>\n",
       "      <td>...</td>\n",
       "      <td>3</td>\n",
       "      <td>3.0</td>\n",
       "      <td>1</td>\n",
       "      <td>4</td>\n",
       "      <td>1</td>\n",
       "      <td>3.0</td>\n",
       "      <td>1</td>\n",
       "      <td>0.213764</td>\n",
       "      <td>0</td>\n",
       "      <td>0</td>\n",
       "    </tr>\n",
       "    <tr>\n",
       "      <th>...</th>\n",
       "      <td>...</td>\n",
       "      <td>...</td>\n",
       "      <td>...</td>\n",
       "      <td>...</td>\n",
       "      <td>...</td>\n",
       "      <td>...</td>\n",
       "      <td>...</td>\n",
       "      <td>...</td>\n",
       "      <td>...</td>\n",
       "      <td>...</td>\n",
       "      <td>...</td>\n",
       "      <td>...</td>\n",
       "      <td>...</td>\n",
       "      <td>...</td>\n",
       "      <td>...</td>\n",
       "      <td>...</td>\n",
       "      <td>...</td>\n",
       "      <td>...</td>\n",
       "      <td>...</td>\n",
       "      <td>...</td>\n",
       "      <td>...</td>\n",
       "    </tr>\n",
       "    <tr>\n",
       "      <th>2928</th>\n",
       "      <td>2929</td>\n",
       "      <td>0.837209</td>\n",
       "      <td>1</td>\n",
       "      <td>1</td>\n",
       "      <td>0.032258</td>\n",
       "      <td>3</td>\n",
       "      <td>1</td>\n",
       "      <td>2</td>\n",
       "      <td>3.0</td>\n",
       "      <td>4</td>\n",
       "      <td>...</td>\n",
       "      <td>2</td>\n",
       "      <td>7.0</td>\n",
       "      <td>0</td>\n",
       "      <td>4</td>\n",
       "      <td>1</td>\n",
       "      <td>1.0</td>\n",
       "      <td>0</td>\n",
       "      <td>0.320727</td>\n",
       "      <td>2</td>\n",
       "      <td>1</td>\n",
       "    </tr>\n",
       "    <tr>\n",
       "      <th>2929</th>\n",
       "      <td>2930</td>\n",
       "      <td>0.348837</td>\n",
       "      <td>1</td>\n",
       "      <td>1</td>\n",
       "      <td>0.129032</td>\n",
       "      <td>3</td>\n",
       "      <td>0</td>\n",
       "      <td>4</td>\n",
       "      <td>2.0</td>\n",
       "      <td>1</td>\n",
       "      <td>...</td>\n",
       "      <td>3</td>\n",
       "      <td>2.0</td>\n",
       "      <td>0</td>\n",
       "      <td>3</td>\n",
       "      <td>0</td>\n",
       "      <td>1.0</td>\n",
       "      <td>2</td>\n",
       "      <td>0.232734</td>\n",
       "      <td>3</td>\n",
       "      <td>1</td>\n",
       "    </tr>\n",
       "    <tr>\n",
       "      <th>2930</th>\n",
       "      <td>2931</td>\n",
       "      <td>0.348837</td>\n",
       "      <td>0</td>\n",
       "      <td>1</td>\n",
       "      <td>0.838710</td>\n",
       "      <td>2</td>\n",
       "      <td>2</td>\n",
       "      <td>4</td>\n",
       "      <td>4.0</td>\n",
       "      <td>1</td>\n",
       "      <td>...</td>\n",
       "      <td>0</td>\n",
       "      <td>3.0</td>\n",
       "      <td>0</td>\n",
       "      <td>4</td>\n",
       "      <td>1</td>\n",
       "      <td>1.0</td>\n",
       "      <td>2</td>\n",
       "      <td>0.235334</td>\n",
       "      <td>3</td>\n",
       "      <td>1</td>\n",
       "    </tr>\n",
       "    <tr>\n",
       "      <th>2931</th>\n",
       "      <td>2932</td>\n",
       "      <td>0.186047</td>\n",
       "      <td>1</td>\n",
       "      <td>1</td>\n",
       "      <td>0.129032</td>\n",
       "      <td>3</td>\n",
       "      <td>2</td>\n",
       "      <td>4</td>\n",
       "      <td>2.0</td>\n",
       "      <td>0</td>\n",
       "      <td>...</td>\n",
       "      <td>3</td>\n",
       "      <td>2.0</td>\n",
       "      <td>0</td>\n",
       "      <td>2</td>\n",
       "      <td>1</td>\n",
       "      <td>3.0</td>\n",
       "      <td>1</td>\n",
       "      <td>0.216036</td>\n",
       "      <td>0</td>\n",
       "      <td>0</td>\n",
       "    </tr>\n",
       "    <tr>\n",
       "      <th>2932</th>\n",
       "      <td>2933</td>\n",
       "      <td>0.302326</td>\n",
       "      <td>1</td>\n",
       "      <td>1</td>\n",
       "      <td>0.129032</td>\n",
       "      <td>2</td>\n",
       "      <td>2</td>\n",
       "      <td>3</td>\n",
       "      <td>5.0</td>\n",
       "      <td>1</td>\n",
       "      <td>...</td>\n",
       "      <td>0</td>\n",
       "      <td>3.0</td>\n",
       "      <td>0</td>\n",
       "      <td>4</td>\n",
       "      <td>1</td>\n",
       "      <td>1.0</td>\n",
       "      <td>2</td>\n",
       "      <td>0.223489</td>\n",
       "      <td>3</td>\n",
       "      <td>1</td>\n",
       "    </tr>\n",
       "  </tbody>\n",
       "</table>\n",
       "<p>2933 rows × 21 columns</p>\n",
       "</div>"
      ],
      "text/plain": [
       "        id       Age  TypeofContact  CityTier  DurationOfPitch  Occupation  \\\n",
       "0        1  0.325581              0         3         0.312903           3   \n",
       "1        2  0.651163              1         2         0.193548           3   \n",
       "2        3  0.441860              1         3         0.548387           3   \n",
       "3        4  0.581395              1         1         1.000000           3   \n",
       "4        5  0.162791              1         3         0.064516           1   \n",
       "...    ...       ...            ...       ...              ...         ...   \n",
       "2928  2929  0.837209              1         1         0.032258           3   \n",
       "2929  2930  0.348837              1         1         0.129032           3   \n",
       "2930  2931  0.348837              0         1         0.838710           2   \n",
       "2931  2932  0.186047              1         1         0.129032           3   \n",
       "2932  2933  0.302326              1         1         0.129032           2   \n",
       "\n",
       "      Gender  NumberOfPersonVisiting  NumberOfFollowups  ProductPitched  ...  \\\n",
       "0          2                       2                5.0               1  ...   \n",
       "1          2                       3                3.0               1  ...   \n",
       "2          2                       3                4.0               1  ...   \n",
       "3          2                       3                6.0               1  ...   \n",
       "4          1                       4                4.0               0  ...   \n",
       "...      ...                     ...                ...             ...  ...   \n",
       "2928       1                       2                3.0               4  ...   \n",
       "2929       0                       4                2.0               1  ...   \n",
       "2930       2                       4                4.0               1  ...   \n",
       "2931       2                       4                2.0               0  ...   \n",
       "2932       2                       3                5.0               1  ...   \n",
       "\n",
       "      MaritalStatus  NumberOfTrips  Passport  PitchSatisfactionScore  OwnCar  \\\n",
       "0                 1            1.0         0                       2       0   \n",
       "1                 1            1.0         1                       5       0   \n",
       "2                 1            5.0         0                       5       1   \n",
       "3                 3            6.0         0                       3       1   \n",
       "4                 3            3.0         1                       4       1   \n",
       "...             ...            ...       ...                     ...     ...   \n",
       "2928              2            7.0         0                       4       1   \n",
       "2929              3            2.0         0                       3       0   \n",
       "2930              0            3.0         0                       4       1   \n",
       "2931              3            2.0         0                       2       1   \n",
       "2932              0            3.0         0                       4       1   \n",
       "\n",
       "      NumberOfChildrenVisiting  Designation  MonthlyIncome  AgeGp  family  \n",
       "0                          1.0            2       0.191118      3       1  \n",
       "1                          1.0            2       0.194732      2       1  \n",
       "2                          0.0            2       0.208174      3       1  \n",
       "3                          2.0            2       0.224718      2       0  \n",
       "4                          3.0            1       0.213764      0       0  \n",
       "...                        ...          ...            ...    ...     ...  \n",
       "2928                       1.0            0       0.320727      2       1  \n",
       "2929                       1.0            2       0.232734      3       1  \n",
       "2930                       1.0            2       0.235334      3       1  \n",
       "2931                       3.0            1       0.216036      0       0  \n",
       "2932                       1.0            2       0.223489      3       1  \n",
       "\n",
       "[2933 rows x 21 columns]"
      ]
     },
     "execution_count": 85,
     "metadata": {},
     "output_type": "execute_result"
    }
   ],
   "source": [
    "# 학습된 scaler를 사용하여 변환해줍니다.\n",
    "test[['Age', 'DurationOfPitch', 'MonthlyIncome']] = scaler.transform(test[['Age', 'DurationOfPitch', 'MonthlyIncome']])\n",
    "\n",
    "test"
   ]
  },
  {
   "cell_type": "markdown",
   "id": "6961fcea",
   "metadata": {},
   "source": [
    "### 분석"
   ]
  },
  {
   "cell_type": "code",
   "execution_count": 86,
   "id": "381eec61",
   "metadata": {},
   "outputs": [
    {
     "name": "stdout",
     "output_type": "stream",
     "text": [
      "<class 'pandas.core.frame.DataFrame'>\n",
      "RangeIndex: 1955 entries, 0 to 1954\n",
      "Data columns (total 21 columns):\n",
      " #   Column                    Non-Null Count  Dtype  \n",
      "---  ------                    --------------  -----  \n",
      " 0   id                        1955 non-null   int64  \n",
      " 1   TypeofContact             1955 non-null   int32  \n",
      " 2   CityTier                  1955 non-null   int64  \n",
      " 3   DurationOfPitch           1955 non-null   float64\n",
      " 4   Occupation                1955 non-null   int32  \n",
      " 5   Gender                    1955 non-null   int32  \n",
      " 6   NumberOfPersonVisiting    1955 non-null   int64  \n",
      " 7   NumberOfFollowups         1955 non-null   float64\n",
      " 8   ProductPitched            1955 non-null   int32  \n",
      " 9   PreferredPropertyStar     1955 non-null   float64\n",
      " 10  MaritalStatus             1955 non-null   int32  \n",
      " 11  NumberOfTrips             1955 non-null   float64\n",
      " 12  Passport                  1955 non-null   int64  \n",
      " 13  PitchSatisfactionScore    1955 non-null   int64  \n",
      " 14  OwnCar                    1955 non-null   int64  \n",
      " 15  NumberOfChildrenVisiting  1955 non-null   float64\n",
      " 16  Designation               1955 non-null   int32  \n",
      " 17  MonthlyIncome             1955 non-null   float64\n",
      " 18  AgeGp                     1955 non-null   int32  \n",
      " 19  family                    1955 non-null   int32  \n",
      " 20  ProdTaken                 1955 non-null   int64  \n",
      "dtypes: float64(6), int32(8), int64(7)\n",
      "memory usage: 259.8 KB\n"
     ]
    }
   ],
   "source": [
    "train= train.drop('Age', axis=1)\n",
    "train.info()"
   ]
  },
  {
   "cell_type": "code",
   "execution_count": 87,
   "id": "44f74cb8",
   "metadata": {},
   "outputs": [
    {
     "name": "stdout",
     "output_type": "stream",
     "text": [
      "<class 'pandas.core.frame.DataFrame'>\n",
      "RangeIndex: 1955 entries, 0 to 1954\n",
      "Data columns (total 20 columns):\n",
      " #   Column                    Non-Null Count  Dtype  \n",
      "---  ------                    --------------  -----  \n",
      " 0   id                        1955 non-null   int64  \n",
      " 1   TypeofContact             1955 non-null   int32  \n",
      " 2   CityTier                  1955 non-null   int64  \n",
      " 3   DurationOfPitch           1955 non-null   float64\n",
      " 4   Occupation                1955 non-null   int32  \n",
      " 5   Gender                    1955 non-null   int32  \n",
      " 6   NumberOfFollowups         1955 non-null   float64\n",
      " 7   ProductPitched            1955 non-null   int32  \n",
      " 8   PreferredPropertyStar     1955 non-null   float64\n",
      " 9   MaritalStatus             1955 non-null   int32  \n",
      " 10  NumberOfTrips             1955 non-null   float64\n",
      " 11  Passport                  1955 non-null   int64  \n",
      " 12  PitchSatisfactionScore    1955 non-null   int64  \n",
      " 13  OwnCar                    1955 non-null   int64  \n",
      " 14  NumberOfChildrenVisiting  1955 non-null   float64\n",
      " 15  Designation               1955 non-null   int32  \n",
      " 16  MonthlyIncome             1955 non-null   float64\n",
      " 17  AgeGp                     1955 non-null   int32  \n",
      " 18  family                    1955 non-null   int32  \n",
      " 19  ProdTaken                 1955 non-null   int64  \n",
      "dtypes: float64(6), int32(8), int64(6)\n",
      "memory usage: 244.5 KB\n"
     ]
    }
   ],
   "source": [
    "train = train.drop('NumberOfPersonVisiting', axis=1)\n",
    "train.info()"
   ]
  },
  {
   "cell_type": "code",
   "execution_count": 88,
   "id": "cd9953b0",
   "metadata": {
    "scrolled": true
   },
   "outputs": [
    {
     "name": "stdout",
     "output_type": "stream",
     "text": [
      "<class 'pandas.core.frame.DataFrame'>\n",
      "RangeIndex: 2933 entries, 0 to 2932\n",
      "Data columns (total 20 columns):\n",
      " #   Column                    Non-Null Count  Dtype  \n",
      "---  ------                    --------------  -----  \n",
      " 0   id                        2933 non-null   int64  \n",
      " 1   TypeofContact             2933 non-null   int32  \n",
      " 2   CityTier                  2933 non-null   int64  \n",
      " 3   DurationOfPitch           2933 non-null   float64\n",
      " 4   Occupation                2933 non-null   int32  \n",
      " 5   Gender                    2933 non-null   int32  \n",
      " 6   NumberOfPersonVisiting    2933 non-null   int64  \n",
      " 7   NumberOfFollowups         2933 non-null   float64\n",
      " 8   ProductPitched            2933 non-null   int32  \n",
      " 9   PreferredPropertyStar     2933 non-null   float64\n",
      " 10  MaritalStatus             2933 non-null   int32  \n",
      " 11  NumberOfTrips             2933 non-null   float64\n",
      " 12  Passport                  2933 non-null   int64  \n",
      " 13  PitchSatisfactionScore    2933 non-null   int64  \n",
      " 14  OwnCar                    2933 non-null   int64  \n",
      " 15  NumberOfChildrenVisiting  2933 non-null   float64\n",
      " 16  Designation               2933 non-null   int32  \n",
      " 17  MonthlyIncome             2933 non-null   float64\n",
      " 18  AgeGp                     2933 non-null   int32  \n",
      " 19  family                    2933 non-null   int32  \n",
      "dtypes: float64(6), int32(8), int64(6)\n",
      "memory usage: 366.8 KB\n"
     ]
    }
   ],
   "source": [
    "test = test.drop('Age', axis=1)\n",
    "test.info()"
   ]
  },
  {
   "cell_type": "code",
   "execution_count": 89,
   "id": "e18ad2e5",
   "metadata": {},
   "outputs": [
    {
     "name": "stdout",
     "output_type": "stream",
     "text": [
      "<class 'pandas.core.frame.DataFrame'>\n",
      "RangeIndex: 2933 entries, 0 to 2932\n",
      "Data columns (total 19 columns):\n",
      " #   Column                    Non-Null Count  Dtype  \n",
      "---  ------                    --------------  -----  \n",
      " 0   id                        2933 non-null   int64  \n",
      " 1   TypeofContact             2933 non-null   int32  \n",
      " 2   CityTier                  2933 non-null   int64  \n",
      " 3   DurationOfPitch           2933 non-null   float64\n",
      " 4   Occupation                2933 non-null   int32  \n",
      " 5   Gender                    2933 non-null   int32  \n",
      " 6   NumberOfFollowups         2933 non-null   float64\n",
      " 7   ProductPitched            2933 non-null   int32  \n",
      " 8   PreferredPropertyStar     2933 non-null   float64\n",
      " 9   MaritalStatus             2933 non-null   int32  \n",
      " 10  NumberOfTrips             2933 non-null   float64\n",
      " 11  Passport                  2933 non-null   int64  \n",
      " 12  PitchSatisfactionScore    2933 non-null   int64  \n",
      " 13  OwnCar                    2933 non-null   int64  \n",
      " 14  NumberOfChildrenVisiting  2933 non-null   float64\n",
      " 15  Designation               2933 non-null   int32  \n",
      " 16  MonthlyIncome             2933 non-null   float64\n",
      " 17  AgeGp                     2933 non-null   int32  \n",
      " 18  family                    2933 non-null   int32  \n",
      "dtypes: float64(6), int32(8), int64(5)\n",
      "memory usage: 343.8 KB\n"
     ]
    }
   ],
   "source": [
    "test = test.drop('NumberOfPersonVisiting', axis=1)\n",
    "test.info()"
   ]
  },
  {
   "cell_type": "code",
   "execution_count": 90,
   "id": "f158cf45",
   "metadata": {
    "scrolled": true
   },
   "outputs": [],
   "source": [
    "# 분석할 의미가 없는 칼럼을 제거합니다.\n",
    "train.drop('id', axis=1, inplace = True)\n",
    "test.drop('id', axis=1, inplace = True)"
   ]
  },
  {
   "cell_type": "code",
   "execution_count": 91,
   "id": "ade97dfe",
   "metadata": {},
   "outputs": [
    {
     "data": {
      "text/plain": [
       "(1955, 19)"
      ]
     },
     "execution_count": 91,
     "metadata": {},
     "output_type": "execute_result"
    }
   ],
   "source": [
    "train.shape"
   ]
  },
  {
   "cell_type": "code",
   "execution_count": 92,
   "id": "22ab18aa",
   "metadata": {},
   "outputs": [
    {
     "data": {
      "text/plain": [
       "(1955, 19)"
      ]
     },
     "execution_count": 92,
     "metadata": {},
     "output_type": "execute_result"
    }
   ],
   "source": [
    "train.shape"
   ]
  },
  {
   "cell_type": "code",
   "execution_count": 93,
   "id": "07e9308c",
   "metadata": {},
   "outputs": [
    {
     "data": {
      "text/plain": [
       "(2933, 18)"
      ]
     },
     "execution_count": 93,
     "metadata": {},
     "output_type": "execute_result"
    }
   ],
   "source": [
    "test.shape"
   ]
  },
  {
   "cell_type": "code",
   "execution_count": 94,
   "id": "8ff6df46",
   "metadata": {},
   "outputs": [],
   "source": [
    "feature = train.iloc[:, :-1]\n",
    "target = train['ProdTaken']"
   ]
  },
  {
   "cell_type": "code",
   "execution_count": 95,
   "id": "8427d9a5",
   "metadata": {
    "scrolled": false
   },
   "outputs": [
    {
     "name": "stdout",
     "output_type": "stream",
     "text": [
      "<class 'pandas.core.frame.DataFrame'>\n",
      "RangeIndex: 1955 entries, 0 to 1954\n",
      "Data columns (total 18 columns):\n",
      " #   Column                    Non-Null Count  Dtype  \n",
      "---  ------                    --------------  -----  \n",
      " 0   TypeofContact             1955 non-null   int32  \n",
      " 1   CityTier                  1955 non-null   int64  \n",
      " 2   DurationOfPitch           1955 non-null   float64\n",
      " 3   Occupation                1955 non-null   int32  \n",
      " 4   Gender                    1955 non-null   int32  \n",
      " 5   NumberOfFollowups         1955 non-null   float64\n",
      " 6   ProductPitched            1955 non-null   int32  \n",
      " 7   PreferredPropertyStar     1955 non-null   float64\n",
      " 8   MaritalStatus             1955 non-null   int32  \n",
      " 9   NumberOfTrips             1955 non-null   float64\n",
      " 10  Passport                  1955 non-null   int64  \n",
      " 11  PitchSatisfactionScore    1955 non-null   int64  \n",
      " 12  OwnCar                    1955 non-null   int64  \n",
      " 13  NumberOfChildrenVisiting  1955 non-null   float64\n",
      " 14  Designation               1955 non-null   int32  \n",
      " 15  MonthlyIncome             1955 non-null   float64\n",
      " 16  AgeGp                     1955 non-null   int32  \n",
      " 17  family                    1955 non-null   int32  \n",
      "dtypes: float64(6), int32(8), int64(4)\n",
      "memory usage: 214.0 KB\n"
     ]
    }
   ],
   "source": [
    "feature.info()"
   ]
  },
  {
   "cell_type": "code",
   "execution_count": 96,
   "id": "db04c2c8",
   "metadata": {},
   "outputs": [
    {
     "data": {
      "text/plain": [
       "(1955, 18)"
      ]
     },
     "execution_count": 96,
     "metadata": {},
     "output_type": "execute_result"
    }
   ],
   "source": [
    "feature.shape"
   ]
  },
  {
   "cell_type": "code",
   "execution_count": 97,
   "id": "fdcb8e65",
   "metadata": {},
   "outputs": [
    {
     "data": {
      "text/plain": [
       "(1955,)"
      ]
     },
     "execution_count": 97,
     "metadata": {},
     "output_type": "execute_result"
    }
   ],
   "source": [
    "target.shape"
   ]
  },
  {
   "cell_type": "code",
   "execution_count": 98,
   "id": "0a3fa31d",
   "metadata": {},
   "outputs": [],
   "source": [
    "from sklearn.model_selection import train_test_split \n",
    "from sklearn.ensemble import RandomForestClassifier\n",
    "from sklearn.metrics import accuracy_score"
   ]
  },
  {
   "cell_type": "code",
   "execution_count": 99,
   "id": "6a1095b1",
   "metadata": {},
   "outputs": [
    {
     "data": {
      "text/plain": [
       "0.8670756646216768"
      ]
     },
     "execution_count": 99,
     "metadata": {},
     "output_type": "execute_result"
    }
   ],
   "source": [
    "model = RandomForestClassifier()\n",
    "\n",
    "x_train, x_test, y_train, y_test = train_test_split(feature, target, random_state = 7)\n",
    "\n",
    "\n",
    "#학습 및 예측\n",
    "model.fit(x_train, y_train)\n",
    "pred = model.predict(x_test)\n",
    "\n",
    "#평가\n",
    "accuracy_score(y_test, pred)"
   ]
  },
  {
   "cell_type": "code",
   "execution_count": 100,
   "id": "5f2cb25f",
   "metadata": {},
   "outputs": [
    {
     "name": "stdout",
     "output_type": "stream",
     "text": [
      "----------------------예측된 데이터의 상위 10개의 값 확인--------------------\n",
      "\n",
      "[0 0 0 0 1 0 0 1 0 0]\n"
     ]
    }
   ],
   "source": [
    "prediction = model.predict(test)\n",
    "print('----------------------예측된 데이터의 상위 10개의 값 확인--------------------\\n')\n",
    "print(prediction[:10])"
   ]
  },
  {
   "cell_type": "code",
   "execution_count": 101,
   "id": "860efbe2",
   "metadata": {},
   "outputs": [
    {
     "data": {
      "text/html": [
       "<div>\n",
       "<style scoped>\n",
       "    .dataframe tbody tr th:only-of-type {\n",
       "        vertical-align: middle;\n",
       "    }\n",
       "\n",
       "    .dataframe tbody tr th {\n",
       "        vertical-align: top;\n",
       "    }\n",
       "\n",
       "    .dataframe thead th {\n",
       "        text-align: right;\n",
       "    }\n",
       "</style>\n",
       "<table border=\"1\" class=\"dataframe\">\n",
       "  <thead>\n",
       "    <tr style=\"text-align: right;\">\n",
       "      <th></th>\n",
       "      <th>id</th>\n",
       "      <th>ProdTaken</th>\n",
       "    </tr>\n",
       "  </thead>\n",
       "  <tbody>\n",
       "    <tr>\n",
       "      <th>0</th>\n",
       "      <td>1</td>\n",
       "      <td>0</td>\n",
       "    </tr>\n",
       "    <tr>\n",
       "      <th>1</th>\n",
       "      <td>2</td>\n",
       "      <td>0</td>\n",
       "    </tr>\n",
       "    <tr>\n",
       "      <th>2</th>\n",
       "      <td>3</td>\n",
       "      <td>0</td>\n",
       "    </tr>\n",
       "    <tr>\n",
       "      <th>3</th>\n",
       "      <td>4</td>\n",
       "      <td>0</td>\n",
       "    </tr>\n",
       "    <tr>\n",
       "      <th>4</th>\n",
       "      <td>5</td>\n",
       "      <td>1</td>\n",
       "    </tr>\n",
       "  </tbody>\n",
       "</table>\n",
       "</div>"
      ],
      "text/plain": [
       "   id  ProdTaken\n",
       "0   1          0\n",
       "1   2          0\n",
       "2   3          0\n",
       "3   4          0\n",
       "4   5          1"
      ]
     },
     "execution_count": 101,
     "metadata": {},
     "output_type": "execute_result"
    }
   ],
   "source": [
    "# 예측된 값을 정답파일과 병합\n",
    "submission = pd.read_csv(r\"C:\\Users\\82109\\OneDrive\\바탕 화면\\sample_submission.csv\")\n",
    "submission['ProdTaken'] = prediction\n",
    "\n",
    "# 정답파일 데이터프레임 확인\n",
    "submission.head()"
   ]
  },
  {
   "cell_type": "code",
   "execution_count": 102,
   "id": "7de3bd8a",
   "metadata": {},
   "outputs": [],
   "source": [
    "# submission을 csv 파일로 저장합니다.\n",
    "# index=False란 추가적인 id를 부여할 필요가 없다는 뜻입니다. \n",
    "# 정확한 채점을 위해 꼭 index=False를 넣어주세요.\n",
    "submission.to_csv(r\"C:\\Users\\82109\\OneDrive\\바탕 화면\\제출\\submission2.csv\",index = False)"
   ]
  },
  {
   "cell_type": "code",
   "execution_count": 112,
   "id": "7c76e5b1",
   "metadata": {},
   "outputs": [
    {
     "name": "stdout",
     "output_type": "stream",
     "text": [
      "변수명 : Index(['TypeofContact', 'CityTier', 'DurationOfPitch', 'Occupation', 'Gender',\n",
      "       'NumberOfFollowups', 'ProductPitched', 'PreferredPropertyStar',\n",
      "       'MaritalStatus', 'NumberOfTrips', 'Passport', 'PitchSatisfactionScore',\n",
      "       'OwnCar', 'NumberOfChildrenVisiting', 'Designation', 'MonthlyIncome',\n",
      "       'AgeGp', 'family', 'ProdTaken'],\n",
      "      dtype='object') 변수중요도 : [0.024672007963586932, 0.038004194897951336, 0.11407238948189027, 0.043741294228328134, 0.031098586985722612, 0.057023284297127795, 0.04448823012945872, 0.04780897498276225, 0.06819354602365743, 0.0755156869558449, 0.08725907068257835, 0.06923405424023936, 0.025549258910187268, 0.03659545505085168, 0.030971954989516215, 0.1484288729823009, 0.043290320773536874, 0.014052816424458986]\n"
     ]
    }
   ],
   "source": [
    "print(f'변수명 : {train.columns}', f'변수중요도 : {list(model.feature_importances_)}')"
   ]
  },
  {
   "cell_type": "code",
   "execution_count": 113,
   "id": "065a4fe5",
   "metadata": {},
   "outputs": [
    {
     "data": {
      "text/plain": [
       "[0.024672007963586932,\n",
       " 0.038004194897951336,\n",
       " 0.11407238948189027,\n",
       " 0.043741294228328134,\n",
       " 0.031098586985722612,\n",
       " 0.057023284297127795,\n",
       " 0.04448823012945872,\n",
       " 0.04780897498276225,\n",
       " 0.06819354602365743,\n",
       " 0.0755156869558449,\n",
       " 0.08725907068257835,\n",
       " 0.06923405424023936,\n",
       " 0.025549258910187268,\n",
       " 0.03659545505085168,\n",
       " 0.030971954989516215,\n",
       " 0.1484288729823009,\n",
       " 0.043290320773536874,\n",
       " 0.014052816424458986]"
      ]
     },
     "execution_count": 113,
     "metadata": {},
     "output_type": "execute_result"
    }
   ],
   "source": [
    "list(model.feature_importances_)"
   ]
  },
  {
   "cell_type": "markdown",
   "id": "2cc6c908",
   "metadata": {},
   "source": [
    "### 변수중요도"
   ]
  },
  {
   "cell_type": "markdown",
   "id": "0fb7facc",
   "metadata": {},
   "source": [
    "- CityTier : 주거 중인 도시의 등급\n",
    "- NumberOfTrips\n",
    "- Passport\n",
    "- PitchSatisfactionScore : 영업 사원의 프레젠테이션 만족도"
   ]
  },
  {
   "cell_type": "code",
   "execution_count": 5,
   "id": "90bd8de0",
   "metadata": {},
   "outputs": [
    {
     "name": "stdout",
     "output_type": "stream",
     "text": [
      "<class 'pandas.core.frame.DataFrame'>\n",
      "RangeIndex: 1955 entries, 0 to 1954\n",
      "Data columns (total 8 columns):\n",
      " #   Column                  Non-Null Count  Dtype  \n",
      "---  ------                  --------------  -----  \n",
      " 0   CityTier                1955 non-null   int64  \n",
      " 1   NumberOfTrips           1898 non-null   float64\n",
      " 2   Passport                1955 non-null   int64  \n",
      " 3   PitchSatisfactionScore  1955 non-null   int64  \n",
      " 4   Occupation              1955 non-null   object \n",
      " 5   Designation             1955 non-null   object \n",
      " 6   MonthlyIncome           1855 non-null   float64\n",
      " 7   ProdTaken               1955 non-null   int64  \n",
      "dtypes: float64(2), int64(4), object(2)\n",
      "memory usage: 122.3+ KB\n"
     ]
    }
   ],
   "source": [
    "train = train[['CityTier', 'NumberOfTrips', 'Passport', 'PitchSatisfactionScore', 'Occupation','Designation','MonthlyIncome','ProdTaken']]\n",
    "train.info()"
   ]
  },
  {
   "cell_type": "code",
   "execution_count": 6,
   "id": "4ae7aee3",
   "metadata": {},
   "outputs": [
    {
     "name": "stdout",
     "output_type": "stream",
     "text": [
      "<class 'pandas.core.frame.DataFrame'>\n",
      "RangeIndex: 2933 entries, 0 to 2932\n",
      "Data columns (total 7 columns):\n",
      " #   Column                  Non-Null Count  Dtype  \n",
      "---  ------                  --------------  -----  \n",
      " 0   CityTier                2933 non-null   int64  \n",
      " 1   NumberOfTrips           2850 non-null   float64\n",
      " 2   Passport                2933 non-null   int64  \n",
      " 3   PitchSatisfactionScore  2933 non-null   int64  \n",
      " 4   Occupation              2933 non-null   object \n",
      " 5   Designation             2933 non-null   object \n",
      " 6   MonthlyIncome           2800 non-null   float64\n",
      "dtypes: float64(2), int64(3), object(2)\n",
      "memory usage: 160.5+ KB\n"
     ]
    }
   ],
   "source": [
    "test = test[['CityTier', 'NumberOfTrips', 'Passport', 'PitchSatisfactionScore','Occupation', 'Designation','MonthlyIncome']]\n",
    "test.info()"
   ]
  },
  {
   "cell_type": "code",
   "execution_count": 7,
   "id": "2c4c90d5",
   "metadata": {},
   "outputs": [
    {
     "data": {
      "text/plain": [
       "CityTier                    0\n",
       "NumberOfTrips               0\n",
       "Passport                    0\n",
       "PitchSatisfactionScore      0\n",
       "Occupation                  0\n",
       "Designation                 0\n",
       "MonthlyIncome             100\n",
       "ProdTaken                   0\n",
       "dtype: int64"
      ]
     },
     "execution_count": 7,
     "metadata": {},
     "output_type": "execute_result"
    }
   ],
   "source": [
    "train['NumberOfTrips'] = train['NumberOfTrips'].fillna(3)\n",
    "train.isna().sum()"
   ]
  },
  {
   "cell_type": "code",
   "execution_count": 8,
   "id": "965f8a3c",
   "metadata": {},
   "outputs": [
    {
     "data": {
      "text/plain": [
       "CityTier                    0\n",
       "NumberOfTrips               0\n",
       "Passport                    0\n",
       "PitchSatisfactionScore      0\n",
       "Occupation                  0\n",
       "Designation                 0\n",
       "MonthlyIncome             133\n",
       "dtype: int64"
      ]
     },
     "execution_count": 8,
     "metadata": {},
     "output_type": "execute_result"
    }
   ],
   "source": [
    "test['NumberOfTrips'] = test['NumberOfTrips'].fillna(3)\n",
    "test.isna().sum()"
   ]
  },
  {
   "cell_type": "code",
   "execution_count": 9,
   "id": "e349d887",
   "metadata": {
    "scrolled": true
   },
   "outputs": [],
   "source": [
    "def income_fillna(incomefill) :\n",
    "    train['MonthlyIncome'] = train['MonthlyIncome'].fillna(incomefill)"
   ]
  },
  {
   "cell_type": "code",
   "execution_count": 10,
   "id": "d6945e4b",
   "metadata": {},
   "outputs": [],
   "source": [
    "for incomefill in round(train.groupby(['Occupation','Designation']).mean()['MonthlyIncome'],1) :\n",
    "    income_fillna(incomefill)"
   ]
  },
  {
   "cell_type": "code",
   "execution_count": 11,
   "id": "d038351a",
   "metadata": {},
   "outputs": [
    {
     "data": {
      "text/plain": [
       "CityTier                  0\n",
       "NumberOfTrips             0\n",
       "Passport                  0\n",
       "PitchSatisfactionScore    0\n",
       "Occupation                0\n",
       "Designation               0\n",
       "MonthlyIncome             0\n",
       "ProdTaken                 0\n",
       "dtype: int64"
      ]
     },
     "execution_count": 11,
     "metadata": {},
     "output_type": "execute_result"
    }
   ],
   "source": [
    "train.isna().sum()"
   ]
  },
  {
   "cell_type": "code",
   "execution_count": 12,
   "id": "0ce551f1",
   "metadata": {},
   "outputs": [],
   "source": [
    "def income_fillna(incomefill) :\n",
    "    test['MonthlyIncome'] = test['MonthlyIncome'].fillna(incomefill)"
   ]
  },
  {
   "cell_type": "code",
   "execution_count": 13,
   "id": "4b842ec4",
   "metadata": {},
   "outputs": [],
   "source": [
    "for incomefill in round(test.groupby(['Occupation','Designation']).mean()['MonthlyIncome'],1) :\n",
    "    income_fillna(incomefill)"
   ]
  },
  {
   "cell_type": "code",
   "execution_count": 14,
   "id": "0d6a6124",
   "metadata": {},
   "outputs": [
    {
     "data": {
      "text/plain": [
       "CityTier                  0\n",
       "NumberOfTrips             0\n",
       "Passport                  0\n",
       "PitchSatisfactionScore    0\n",
       "Occupation                0\n",
       "Designation               0\n",
       "MonthlyIncome             0\n",
       "dtype: int64"
      ]
     },
     "execution_count": 14,
     "metadata": {},
     "output_type": "execute_result"
    }
   ],
   "source": [
    "test.isna().sum()"
   ]
  },
  {
   "cell_type": "code",
   "execution_count": 15,
   "id": "c1d14dcf",
   "metadata": {},
   "outputs": [
    {
     "name": "stdout",
     "output_type": "stream",
     "text": [
      "<class 'pandas.core.frame.DataFrame'>\n",
      "RangeIndex: 1955 entries, 0 to 1954\n",
      "Data columns (total 6 columns):\n",
      " #   Column                  Non-Null Count  Dtype  \n",
      "---  ------                  --------------  -----  \n",
      " 0   CityTier                1955 non-null   int64  \n",
      " 1   NumberOfTrips           1955 non-null   float64\n",
      " 2   Passport                1955 non-null   int64  \n",
      " 3   PitchSatisfactionScore  1955 non-null   int64  \n",
      " 4   MonthlyIncome           1955 non-null   float64\n",
      " 5   ProdTaken               1955 non-null   int64  \n",
      "dtypes: float64(2), int64(4)\n",
      "memory usage: 91.8 KB\n"
     ]
    }
   ],
   "source": [
    "train.drop('Occupation', axis=1, inplace=True)\n",
    "train.drop('Designation', axis=1, inplace=True)\n",
    "train.info()"
   ]
  },
  {
   "cell_type": "code",
   "execution_count": 16,
   "id": "6cd9924c",
   "metadata": {},
   "outputs": [
    {
     "name": "stdout",
     "output_type": "stream",
     "text": [
      "<class 'pandas.core.frame.DataFrame'>\n",
      "RangeIndex: 2933 entries, 0 to 2932\n",
      "Data columns (total 5 columns):\n",
      " #   Column                  Non-Null Count  Dtype  \n",
      "---  ------                  --------------  -----  \n",
      " 0   CityTier                2933 non-null   int64  \n",
      " 1   NumberOfTrips           2933 non-null   float64\n",
      " 2   Passport                2933 non-null   int64  \n",
      " 3   PitchSatisfactionScore  2933 non-null   int64  \n",
      " 4   MonthlyIncome           2933 non-null   float64\n",
      "dtypes: float64(2), int64(3)\n",
      "memory usage: 114.7 KB\n"
     ]
    }
   ],
   "source": [
    "test.drop('Occupation', axis=1, inplace=True)\n",
    "test.drop('Designation', axis=1, inplace=True)\n",
    "test.info()"
   ]
  },
  {
   "cell_type": "code",
   "execution_count": 17,
   "id": "2ccbb3bb",
   "metadata": {},
   "outputs": [],
   "source": [
    "feature = train.iloc[:, :-1]\n",
    "target = train['ProdTaken']"
   ]
  },
  {
   "cell_type": "code",
   "execution_count": 18,
   "id": "40c55e0a",
   "metadata": {},
   "outputs": [
    {
     "name": "stdout",
     "output_type": "stream",
     "text": [
      "<class 'pandas.core.frame.DataFrame'>\n",
      "RangeIndex: 1955 entries, 0 to 1954\n",
      "Data columns (total 5 columns):\n",
      " #   Column                  Non-Null Count  Dtype  \n",
      "---  ------                  --------------  -----  \n",
      " 0   CityTier                1955 non-null   int64  \n",
      " 1   NumberOfTrips           1955 non-null   float64\n",
      " 2   Passport                1955 non-null   int64  \n",
      " 3   PitchSatisfactionScore  1955 non-null   int64  \n",
      " 4   MonthlyIncome           1955 non-null   float64\n",
      "dtypes: float64(2), int64(3)\n",
      "memory usage: 76.5 KB\n"
     ]
    }
   ],
   "source": [
    "feature.info()"
   ]
  },
  {
   "cell_type": "code",
   "execution_count": 202,
   "id": "d82e36ae",
   "metadata": {},
   "outputs": [
    {
     "data": {
      "text/plain": [
       "0.7689161554192229"
      ]
     },
     "execution_count": 202,
     "metadata": {},
     "output_type": "execute_result"
    }
   ],
   "source": [
    "model = RandomForestClassifier()\n",
    "\n",
    "x_train, x_test, y_train, y_test = train_test_split(feature, target, random_state = 7)\n",
    "\n",
    "\n",
    "#학습 및 예측\n",
    "model.fit(x_train, y_train)\n",
    "pred = model.predict(x_test)\n",
    "\n",
    "#평가\n",
    "accuracy_score(y_test, pred)"
   ]
  },
  {
   "cell_type": "code",
   "execution_count": null,
   "id": "a4383e2f",
   "metadata": {},
   "outputs": [],
   "source": []
  },
  {
   "cell_type": "code",
   "execution_count": 190,
   "id": "481d31bf",
   "metadata": {},
   "outputs": [
    {
     "name": "stdout",
     "output_type": "stream",
     "text": [
      "<class 'pandas.core.frame.DataFrame'>\n",
      "RangeIndex: 1955 entries, 0 to 1954\n",
      "Data columns (total 5 columns):\n",
      " #   Column         Non-Null Count  Dtype  \n",
      "---  ------         --------------  -----  \n",
      " 0   CityTier       1955 non-null   int64  \n",
      " 1   Occupation     1955 non-null   object \n",
      " 2   Designation    1955 non-null   object \n",
      " 3   MonthlyIncome  1855 non-null   float64\n",
      " 4   ProdTaken      1955 non-null   int64  \n",
      "dtypes: float64(1), int64(2), object(2)\n",
      "memory usage: 76.5+ KB\n"
     ]
    }
   ],
   "source": [
    "train = train[['CityTier','Occupation','Designation','MonthlyIncome','ProdTaken']]\n",
    "train.info()"
   ]
  },
  {
   "cell_type": "code",
   "execution_count": 191,
   "id": "513f99e1",
   "metadata": {},
   "outputs": [
    {
     "name": "stdout",
     "output_type": "stream",
     "text": [
      "<class 'pandas.core.frame.DataFrame'>\n",
      "RangeIndex: 2933 entries, 0 to 2932\n",
      "Data columns (total 4 columns):\n",
      " #   Column         Non-Null Count  Dtype  \n",
      "---  ------         --------------  -----  \n",
      " 0   CityTier       2933 non-null   int64  \n",
      " 1   Occupation     2933 non-null   object \n",
      " 2   Designation    2933 non-null   object \n",
      " 3   MonthlyIncome  2800 non-null   float64\n",
      "dtypes: float64(1), int64(1), object(2)\n",
      "memory usage: 91.8+ KB\n"
     ]
    }
   ],
   "source": [
    "test = test[['CityTier','Occupation','Designation','MonthlyIncome']]\n",
    "test.info()"
   ]
  },
  {
   "cell_type": "markdown",
   "id": "52a9134f",
   "metadata": {},
   "source": [
    "- 0.77"
   ]
  },
  {
   "cell_type": "code",
   "execution_count": 19,
   "id": "c62fa31c",
   "metadata": {},
   "outputs": [],
   "source": [
    "from sklearn.model_selection import train_test_split \n",
    "from sklearn.linear_model import LogisticRegression\n",
    "from sklearn.metrics import accuracy_score"
   ]
  },
  {
   "cell_type": "code",
   "execution_count": 20,
   "id": "c2546ca4",
   "metadata": {},
   "outputs": [
    {
     "data": {
      "text/plain": [
       "0.803680981595092"
      ]
     },
     "execution_count": 20,
     "metadata": {},
     "output_type": "execute_result"
    }
   ],
   "source": [
    "#학습데이터와 테스트데이터 분리\n",
    "X_train, X_test, y_train, y_test = train_test_split(feature, target, shuffle = True, stratify=target, random_state = 7)\n",
    "\n",
    "#학습 및 예측\n",
    "lr = LogisticRegression(random_state = 156)\n",
    "lr.fit(X_train, y_train)\n",
    "pred = lr.predict(X_test)\n",
    "\n",
    "#평가\n",
    "accuracy_score(y_test, pred)"
   ]
  },
  {
   "cell_type": "code",
   "execution_count": null,
   "id": "80e43eea",
   "metadata": {},
   "outputs": [],
   "source": []
  },
  {
   "cell_type": "code",
   "execution_count": null,
   "id": "81d4d993",
   "metadata": {},
   "outputs": [],
   "source": []
  },
  {
   "cell_type": "code",
   "execution_count": null,
   "id": "b56509c0",
   "metadata": {},
   "outputs": [],
   "source": []
  },
  {
   "cell_type": "code",
   "execution_count": null,
   "id": "77ac8800",
   "metadata": {},
   "outputs": [],
   "source": []
  },
  {
   "cell_type": "code",
   "execution_count": null,
   "id": "8b3873f4",
   "metadata": {},
   "outputs": [],
   "source": []
  },
  {
   "cell_type": "code",
   "execution_count": null,
   "id": "10c861a1",
   "metadata": {},
   "outputs": [],
   "source": []
  },
  {
   "cell_type": "code",
   "execution_count": null,
   "id": "47ba813b",
   "metadata": {},
   "outputs": [],
   "source": []
  },
  {
   "cell_type": "code",
   "execution_count": null,
   "id": "356d3e90",
   "metadata": {},
   "outputs": [],
   "source": []
  }
 ],
 "metadata": {
  "kernelspec": {
   "display_name": "Python 3 (ipykernel)",
   "language": "python",
   "name": "python3"
  },
  "language_info": {
   "codemirror_mode": {
    "name": "ipython",
    "version": 3
   },
   "file_extension": ".py",
   "mimetype": "text/x-python",
   "name": "python",
   "nbconvert_exporter": "python",
   "pygments_lexer": "ipython3",
   "version": "3.9.7"
  }
 },
 "nbformat": 4,
 "nbformat_minor": 5
}
