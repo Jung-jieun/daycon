{
 "cells": [
  {
   "cell_type": "code",
   "execution_count": 1,
   "id": "14d0cb22",
   "metadata": {},
   "outputs": [],
   "source": [
    "import pandas as pd\n",
    "import numpy as np\n",
    "import matplotlib.pyplot as plt\n",
    "import seaborn as sns\n",
    "from sklearn.preprocessing import RobustScaler, StandardScaler\n",
    "from sklearn.model_selection import StratifiedKFold  \n",
    "from sklearn.model_selection import train_test_split\n",
    "from sklearn.model_selection import GridSearchCV\n",
    "from catboost import CatBoostClassifier\n",
    "from sklearn.metrics import matthews_corrcoef"
   ]
  },
  {
   "cell_type": "code",
   "execution_count": 2,
   "id": "a5205626",
   "metadata": {},
   "outputs": [],
   "source": [
    "train = pd.read_csv(r\"C:\\Users\\82109\\OneDrive\\바탕 화면\\python study\\daycon\\여행 패키지\\train.csv\")\n",
    "test = pd.read_csv(r\"C:\\Users\\82109\\OneDrive\\바탕 화면\\python study\\daycon\\여행 패키지\\test.csv\")"
   ]
  },
  {
   "cell_type": "code",
   "execution_count": 3,
   "id": "3fccd229",
   "metadata": {},
   "outputs": [
    {
     "name": "stdout",
     "output_type": "stream",
     "text": [
      "<class 'pandas.core.frame.DataFrame'>\n",
      "RangeIndex: 1955 entries, 0 to 1954\n",
      "Data columns (total 20 columns):\n",
      " #   Column                    Non-Null Count  Dtype  \n",
      "---  ------                    --------------  -----  \n",
      " 0   id                        1955 non-null   int64  \n",
      " 1   Age                       1861 non-null   float64\n",
      " 2   TypeofContact             1945 non-null   object \n",
      " 3   CityTier                  1955 non-null   int64  \n",
      " 4   DurationOfPitch           1853 non-null   float64\n",
      " 5   Occupation                1955 non-null   object \n",
      " 6   Gender                    1955 non-null   object \n",
      " 7   NumberOfPersonVisiting    1955 non-null   int64  \n",
      " 8   NumberOfFollowups         1942 non-null   float64\n",
      " 9   ProductPitched            1955 non-null   object \n",
      " 10  PreferredPropertyStar     1945 non-null   float64\n",
      " 11  MaritalStatus             1955 non-null   object \n",
      " 12  NumberOfTrips             1898 non-null   float64\n",
      " 13  Passport                  1955 non-null   int64  \n",
      " 14  PitchSatisfactionScore    1955 non-null   int64  \n",
      " 15  OwnCar                    1955 non-null   int64  \n",
      " 16  NumberOfChildrenVisiting  1928 non-null   float64\n",
      " 17  Designation               1955 non-null   object \n",
      " 18  MonthlyIncome             1855 non-null   float64\n",
      " 19  ProdTaken                 1955 non-null   int64  \n",
      "dtypes: float64(7), int64(7), object(6)\n",
      "memory usage: 305.6+ KB\n"
     ]
    }
   ],
   "source": [
    "train.info()"
   ]
  },
  {
   "cell_type": "code",
   "execution_count": 4,
   "id": "ec7a62c5",
   "metadata": {},
   "outputs": [
    {
     "data": {
      "text/plain": [
       "(array([0, 1], dtype=int64), array([1572,  383], dtype=int64))"
      ]
     },
     "execution_count": 4,
     "metadata": {},
     "output_type": "execute_result"
    }
   ],
   "source": [
    "# target data 확인\n",
    "np.unique(train.ProdTaken, return_counts = True)"
   ]
  },
  {
   "cell_type": "code",
   "execution_count": 5,
   "id": "f58abeda",
   "metadata": {},
   "outputs": [
    {
     "data": {
      "text/plain": [
       "id                            0\n",
       "Age                          94\n",
       "TypeofContact                10\n",
       "CityTier                      0\n",
       "DurationOfPitch             102\n",
       "Occupation                    0\n",
       "Gender                        0\n",
       "NumberOfPersonVisiting        0\n",
       "NumberOfFollowups            13\n",
       "ProductPitched                0\n",
       "PreferredPropertyStar        10\n",
       "MaritalStatus                 0\n",
       "NumberOfTrips                57\n",
       "Passport                      0\n",
       "PitchSatisfactionScore        0\n",
       "OwnCar                        0\n",
       "NumberOfChildrenVisiting     27\n",
       "Designation                   0\n",
       "MonthlyIncome               100\n",
       "ProdTaken                     0\n",
       "dtype: int64"
      ]
     },
     "execution_count": 5,
     "metadata": {},
     "output_type": "execute_result"
    }
   ],
   "source": [
    "train.isna().sum()"
   ]
  },
  {
   "cell_type": "code",
   "execution_count": 6,
   "id": "bd8f9f9d",
   "metadata": {
    "scrolled": false
   },
   "outputs": [
    {
     "data": {
      "text/plain": [
       "id                            0\n",
       "Age                         132\n",
       "TypeofContact                15\n",
       "CityTier                      0\n",
       "DurationOfPitch             149\n",
       "Occupation                    0\n",
       "Gender                        0\n",
       "NumberOfPersonVisiting        0\n",
       "NumberOfFollowups            32\n",
       "ProductPitched                0\n",
       "PreferredPropertyStar        16\n",
       "MaritalStatus                 0\n",
       "NumberOfTrips                83\n",
       "Passport                      0\n",
       "PitchSatisfactionScore        0\n",
       "OwnCar                        0\n",
       "NumberOfChildrenVisiting     39\n",
       "Designation                   0\n",
       "MonthlyIncome               133\n",
       "dtype: int64"
      ]
     },
     "execution_count": 6,
     "metadata": {},
     "output_type": "execute_result"
    }
   ],
   "source": [
    "test.isna().sum()"
   ]
  },
  {
   "cell_type": "markdown",
   "id": "e18ad1a1",
   "metadata": {},
   "source": [
    "- object 타입 데이터 변환"
   ]
  },
  {
   "cell_type": "code",
   "execution_count": 7,
   "id": "6ac57e4d",
   "metadata": {},
   "outputs": [
    {
     "name": "stdout",
     "output_type": "stream",
     "text": [
      "object 칼럼은 다음과 같습니다 :  ['TypeofContact', 'Occupation', 'Gender', 'ProductPitched', 'MaritalStatus', 'Designation']\n"
     ]
    },
    {
     "data": {
      "text/html": [
       "<div>\n",
       "<style scoped>\n",
       "    .dataframe tbody tr th:only-of-type {\n",
       "        vertical-align: middle;\n",
       "    }\n",
       "\n",
       "    .dataframe tbody tr th {\n",
       "        vertical-align: top;\n",
       "    }\n",
       "\n",
       "    .dataframe thead th {\n",
       "        text-align: right;\n",
       "    }\n",
       "</style>\n",
       "<table border=\"1\" class=\"dataframe\">\n",
       "  <thead>\n",
       "    <tr style=\"text-align: right;\">\n",
       "      <th></th>\n",
       "      <th>TypeofContact</th>\n",
       "      <th>Occupation</th>\n",
       "      <th>Gender</th>\n",
       "      <th>ProductPitched</th>\n",
       "      <th>MaritalStatus</th>\n",
       "      <th>Designation</th>\n",
       "    </tr>\n",
       "  </thead>\n",
       "  <tbody>\n",
       "    <tr>\n",
       "      <th>0</th>\n",
       "      <td>Company Invited</td>\n",
       "      <td>Small Business</td>\n",
       "      <td>Male</td>\n",
       "      <td>Basic</td>\n",
       "      <td>Married</td>\n",
       "      <td>Executive</td>\n",
       "    </tr>\n",
       "    <tr>\n",
       "      <th>1</th>\n",
       "      <td>Self Enquiry</td>\n",
       "      <td>Small Business</td>\n",
       "      <td>Female</td>\n",
       "      <td>Deluxe</td>\n",
       "      <td>Single</td>\n",
       "      <td>Manager</td>\n",
       "    </tr>\n",
       "    <tr>\n",
       "      <th>2</th>\n",
       "      <td>Company Invited</td>\n",
       "      <td>Salaried</td>\n",
       "      <td>Male</td>\n",
       "      <td>Deluxe</td>\n",
       "      <td>Married</td>\n",
       "      <td>Manager</td>\n",
       "    </tr>\n",
       "    <tr>\n",
       "      <th>3</th>\n",
       "      <td>Company Invited</td>\n",
       "      <td>Small Business</td>\n",
       "      <td>Male</td>\n",
       "      <td>Basic</td>\n",
       "      <td>Married</td>\n",
       "      <td>Executive</td>\n",
       "    </tr>\n",
       "    <tr>\n",
       "      <th>4</th>\n",
       "      <td>Self Enquiry</td>\n",
       "      <td>Salaried</td>\n",
       "      <td>Male</td>\n",
       "      <td>Deluxe</td>\n",
       "      <td>Divorced</td>\n",
       "      <td>Manager</td>\n",
       "    </tr>\n",
       "    <tr>\n",
       "      <th>...</th>\n",
       "      <td>...</td>\n",
       "      <td>...</td>\n",
       "      <td>...</td>\n",
       "      <td>...</td>\n",
       "      <td>...</td>\n",
       "      <td>...</td>\n",
       "    </tr>\n",
       "    <tr>\n",
       "      <th>1950</th>\n",
       "      <td>Self Enquiry</td>\n",
       "      <td>Small Business</td>\n",
       "      <td>Male</td>\n",
       "      <td>Basic</td>\n",
       "      <td>Single</td>\n",
       "      <td>Executive</td>\n",
       "    </tr>\n",
       "    <tr>\n",
       "      <th>1951</th>\n",
       "      <td>Self Enquiry</td>\n",
       "      <td>Salaried</td>\n",
       "      <td>Female</td>\n",
       "      <td>Super Deluxe</td>\n",
       "      <td>Divorced</td>\n",
       "      <td>AVP</td>\n",
       "    </tr>\n",
       "    <tr>\n",
       "      <th>1952</th>\n",
       "      <td>Company Invited</td>\n",
       "      <td>Small Business</td>\n",
       "      <td>Female</td>\n",
       "      <td>Basic</td>\n",
       "      <td>Divorced</td>\n",
       "      <td>Executive</td>\n",
       "    </tr>\n",
       "    <tr>\n",
       "      <th>1953</th>\n",
       "      <td>Self Enquiry</td>\n",
       "      <td>Small Business</td>\n",
       "      <td>Female</td>\n",
       "      <td>Deluxe</td>\n",
       "      <td>Married</td>\n",
       "      <td>Manager</td>\n",
       "    </tr>\n",
       "    <tr>\n",
       "      <th>1954</th>\n",
       "      <td>Company Invited</td>\n",
       "      <td>Salaried</td>\n",
       "      <td>Male</td>\n",
       "      <td>Basic</td>\n",
       "      <td>Divorced</td>\n",
       "      <td>Executive</td>\n",
       "    </tr>\n",
       "  </tbody>\n",
       "</table>\n",
       "<p>1955 rows × 6 columns</p>\n",
       "</div>"
      ],
      "text/plain": [
       "        TypeofContact      Occupation  Gender ProductPitched MaritalStatus  \\\n",
       "0     Company Invited  Small Business    Male          Basic       Married   \n",
       "1        Self Enquiry  Small Business  Female         Deluxe        Single   \n",
       "2     Company Invited        Salaried    Male         Deluxe       Married   \n",
       "3     Company Invited  Small Business    Male          Basic       Married   \n",
       "4        Self Enquiry        Salaried    Male         Deluxe      Divorced   \n",
       "...               ...             ...     ...            ...           ...   \n",
       "1950     Self Enquiry  Small Business    Male          Basic        Single   \n",
       "1951     Self Enquiry        Salaried  Female   Super Deluxe      Divorced   \n",
       "1952  Company Invited  Small Business  Female          Basic      Divorced   \n",
       "1953     Self Enquiry  Small Business  Female         Deluxe       Married   \n",
       "1954  Company Invited        Salaried    Male          Basic      Divorced   \n",
       "\n",
       "     Designation  \n",
       "0      Executive  \n",
       "1        Manager  \n",
       "2        Manager  \n",
       "3      Executive  \n",
       "4        Manager  \n",
       "...          ...  \n",
       "1950   Executive  \n",
       "1951         AVP  \n",
       "1952   Executive  \n",
       "1953     Manager  \n",
       "1954   Executive  \n",
       "\n",
       "[1955 rows x 6 columns]"
      ]
     },
     "execution_count": 7,
     "metadata": {},
     "output_type": "execute_result"
    }
   ],
   "source": [
    "object_columns = train.columns[train.dtypes == 'object']\n",
    "print('object 칼럼은 다음과 같습니다 : ', list(object_columns))\n",
    "\n",
    "# 해당 칼럼만 보아서 봅시다\n",
    "train[object_columns]"
   ]
  },
  {
   "cell_type": "code",
   "execution_count": 8,
   "id": "f23c9ccd",
   "metadata": {},
   "outputs": [],
   "source": [
    "train_enc = train.copy()"
   ]
  },
  {
   "cell_type": "code",
   "execution_count": 9,
   "id": "0e46e469",
   "metadata": {},
   "outputs": [
    {
     "name": "stdout",
     "output_type": "stream",
     "text": [
      "<class 'pandas.core.frame.DataFrame'>\n",
      "RangeIndex: 1955 entries, 0 to 1954\n",
      "Data columns (total 20 columns):\n",
      " #   Column                    Non-Null Count  Dtype  \n",
      "---  ------                    --------------  -----  \n",
      " 0   id                        1955 non-null   int64  \n",
      " 1   Age                       1861 non-null   float64\n",
      " 2   TypeofContact             1955 non-null   int32  \n",
      " 3   CityTier                  1955 non-null   int64  \n",
      " 4   DurationOfPitch           1853 non-null   float64\n",
      " 5   Occupation                1955 non-null   int32  \n",
      " 6   Gender                    1955 non-null   int32  \n",
      " 7   NumberOfPersonVisiting    1955 non-null   int64  \n",
      " 8   NumberOfFollowups         1942 non-null   float64\n",
      " 9   ProductPitched            1955 non-null   int32  \n",
      " 10  PreferredPropertyStar     1945 non-null   float64\n",
      " 11  MaritalStatus             1955 non-null   int32  \n",
      " 12  NumberOfTrips             1898 non-null   float64\n",
      " 13  Passport                  1955 non-null   int64  \n",
      " 14  PitchSatisfactionScore    1955 non-null   int64  \n",
      " 15  OwnCar                    1955 non-null   int64  \n",
      " 16  NumberOfChildrenVisiting  1928 non-null   float64\n",
      " 17  Designation               1955 non-null   int32  \n",
      " 18  MonthlyIncome             1855 non-null   float64\n",
      " 19  ProdTaken                 1955 non-null   int64  \n",
      "dtypes: float64(7), int32(6), int64(7)\n",
      "memory usage: 259.8 KB\n"
     ]
    }
   ],
   "source": [
    "from sklearn.preprocessing import LabelEncoder\n",
    "\n",
    "# 모든 문자형 변수에 대해 encoder를 적용합니다.\n",
    "for o_col in object_columns:\n",
    "    encoder = LabelEncoder()\n",
    "    encoder.fit(train[o_col])\n",
    "    train[o_col] = encoder.transform(train[o_col])\n",
    "\n",
    "# 결과를 확인합니다.\n",
    "train.info()"
   ]
  },
  {
   "cell_type": "code",
   "execution_count": 10,
   "id": "a1598a5c",
   "metadata": {
    "scrolled": true
   },
   "outputs": [
    {
     "data": {
      "text/plain": [
       "Text(0.5, 1.0, 'correlation between columns')"
      ]
     },
     "execution_count": 10,
     "metadata": {},
     "output_type": "execute_result"
    },
    {
     "data": {
      "image/png": "[encoded data removed]",
      "text/plain": [
       "<Figure size 1008x648 with 2 Axes>"
      ]
     },
     "metadata": {
      "needs_background": "light"
     },
     "output_type": "display_data"
    }
   ],
   "source": [
    "# 상관관계 분석도\n",
    "plt.figure(figsize=(14, 9))\n",
    "heat_table = train.corr()\n",
    "mask = np.zeros_like(heat_table) # np.zeros_like : 어떤 변수만큼의 사이즈인 0 으로 가득 찬 Array를 배출한다\n",
    "mask[np.triu_indices_from(mask)]=True # 삼각형으로 표시 \n",
    "heatmap_ax = sns.heatmap(heat_table, annot=True, mask=mask, cmap='coolwarm_r', vmin=-1, vmax=1)\n",
    "heatmap_ax.set_xticklabels(heatmap_ax.get_xticklabels(), fontsize=10, rotation=90)\n",
    "heatmap_ax.set_yticklabels(heatmap_ax.get_yticklabels(), fontsize=10)\n",
    "plt.title('correlation between columns', fontsize=20)"
   ]
  },
  {
   "cell_type": "markdown",
   "id": "4a5c5b9a",
   "metadata": {},
   "source": [
    "- 수치가 애매한 'Gender', 'OwnCar'의 여행 신청 여부 확인"
   ]
  },
  {
   "cell_type": "code",
   "execution_count": 11,
   "id": "380625ac",
   "metadata": {
    "scrolled": true
   },
   "outputs": [
    {
     "data": {
      "text/plain": [
       "[Text(0.5, 1.0, 'Gender')]"
      ]
     },
     "execution_count": 11,
     "metadata": {},
     "output_type": "execute_result"
    },
    {
     "data": {
      "image/png": "[encoded data removed]",
      "text/plain": [
       "<Figure size 432x288 with 1 Axes>"
      ]
     },
     "metadata": {
      "needs_background": "light"
     },
     "output_type": "display_data"
    }
   ],
   "source": [
    "palette = sns.color_palette('coolwarm', 2)\n",
    "sns.countplot(x='Gender', hue='ProdTaken', data=train, palette=palette).set(title='Gender')  "
   ]
  },
  {
   "cell_type": "markdown",
   "id": "ae90d15d",
   "metadata": {},
   "source": [
    "- 남성 비율이 많고 여행신청 비율은 여성과 비슷하다."
   ]
  },
  {
   "cell_type": "code",
   "execution_count": 12,
   "id": "9bb1af8c",
   "metadata": {
    "scrolled": true
   },
   "outputs": [
    {
     "data": {
      "text/plain": [
       "[Text(0.5, 1.0, 'OwnCar')]"
      ]
     },
     "execution_count": 12,
     "metadata": {},
     "output_type": "execute_result"
    },
    {
     "data": {
      "image/png": "[encoded data removed]",
      "text/plain": [
       "<Figure size 432x288 with 1 Axes>"
      ]
     },
     "metadata": {
      "needs_background": "light"
     },
     "output_type": "display_data"
    }
   ],
   "source": [
    "sns.countplot(x='OwnCar', hue='ProdTaken',  data=train, palette=palette).set(title='OwnCar')  "
   ]
  },
  {
   "cell_type": "markdown",
   "id": "896335f8",
   "metadata": {},
   "source": [
    "- 자동차 보유자의 비율이 크지만 여행신청 비율은 미보유자와 큰 차이가 없다."
   ]
  },
  {
   "cell_type": "code",
   "execution_count": 13,
   "id": "a5fdd253",
   "metadata": {},
   "outputs": [
    {
     "data": {
      "text/html": [
       "<div>\n",
       "<style scoped>\n",
       "    .dataframe tbody tr th:only-of-type {\n",
       "        vertical-align: middle;\n",
       "    }\n",
       "\n",
       "    .dataframe tbody tr th {\n",
       "        vertical-align: top;\n",
       "    }\n",
       "\n",
       "    .dataframe thead th {\n",
       "        text-align: right;\n",
       "    }\n",
       "</style>\n",
       "<table border=\"1\" class=\"dataframe\">\n",
       "  <thead>\n",
       "    <tr style=\"text-align: right;\">\n",
       "      <th></th>\n",
       "      <th>id</th>\n",
       "      <th>Age</th>\n",
       "      <th>TypeofContact</th>\n",
       "      <th>CityTier</th>\n",
       "      <th>DurationOfPitch</th>\n",
       "      <th>Occupation</th>\n",
       "      <th>Gender</th>\n",
       "      <th>NumberOfPersonVisiting</th>\n",
       "      <th>NumberOfFollowups</th>\n",
       "      <th>ProductPitched</th>\n",
       "      <th>PreferredPropertyStar</th>\n",
       "      <th>MaritalStatus</th>\n",
       "      <th>NumberOfTrips</th>\n",
       "      <th>Passport</th>\n",
       "      <th>PitchSatisfactionScore</th>\n",
       "      <th>OwnCar</th>\n",
       "      <th>NumberOfChildrenVisiting</th>\n",
       "      <th>Designation</th>\n",
       "      <th>MonthlyIncome</th>\n",
       "      <th>ProdTaken</th>\n",
       "    </tr>\n",
       "  </thead>\n",
       "  <tbody>\n",
       "    <tr>\n",
       "      <th>count</th>\n",
       "      <td>1955.000000</td>\n",
       "      <td>1861.000000</td>\n",
       "      <td>1955.000000</td>\n",
       "      <td>1955.000000</td>\n",
       "      <td>1853.000000</td>\n",
       "      <td>1955.000000</td>\n",
       "      <td>1955.000000</td>\n",
       "      <td>1955.000000</td>\n",
       "      <td>1942.000000</td>\n",
       "      <td>1955.000000</td>\n",
       "      <td>1945.000000</td>\n",
       "      <td>1955.000000</td>\n",
       "      <td>1898.000000</td>\n",
       "      <td>1955.000000</td>\n",
       "      <td>1955.000000</td>\n",
       "      <td>1955.000000</td>\n",
       "      <td>1928.000000</td>\n",
       "      <td>1955.000000</td>\n",
       "      <td>1855.000000</td>\n",
       "      <td>1955.000000</td>\n",
       "    </tr>\n",
       "    <tr>\n",
       "      <th>mean</th>\n",
       "      <td>978.000000</td>\n",
       "      <td>37.462117</td>\n",
       "      <td>0.715601</td>\n",
       "      <td>1.641432</td>\n",
       "      <td>15.524015</td>\n",
       "      <td>2.338107</td>\n",
       "      <td>1.588747</td>\n",
       "      <td>2.922762</td>\n",
       "      <td>3.718332</td>\n",
       "      <td>1.172890</td>\n",
       "      <td>3.568638</td>\n",
       "      <td>1.275192</td>\n",
       "      <td>3.255532</td>\n",
       "      <td>0.291049</td>\n",
       "      <td>3.067519</td>\n",
       "      <td>0.619437</td>\n",
       "      <td>1.213174</td>\n",
       "      <td>1.731458</td>\n",
       "      <td>23624.108895</td>\n",
       "      <td>0.195908</td>\n",
       "    </tr>\n",
       "    <tr>\n",
       "      <th>std</th>\n",
       "      <td>564.504207</td>\n",
       "      <td>9.189948</td>\n",
       "      <td>0.462445</td>\n",
       "      <td>0.908744</td>\n",
       "      <td>8.150057</td>\n",
       "      <td>0.627545</td>\n",
       "      <td>0.547326</td>\n",
       "      <td>0.712276</td>\n",
       "      <td>1.004095</td>\n",
       "      <td>1.270394</td>\n",
       "      <td>0.793196</td>\n",
       "      <td>0.933826</td>\n",
       "      <td>1.814698</td>\n",
       "      <td>0.454362</td>\n",
       "      <td>1.372915</td>\n",
       "      <td>0.485649</td>\n",
       "      <td>0.859450</td>\n",
       "      <td>0.954978</td>\n",
       "      <td>5640.482258</td>\n",
       "      <td>0.397000</td>\n",
       "    </tr>\n",
       "    <tr>\n",
       "      <th>min</th>\n",
       "      <td>1.000000</td>\n",
       "      <td>18.000000</td>\n",
       "      <td>0.000000</td>\n",
       "      <td>1.000000</td>\n",
       "      <td>5.000000</td>\n",
       "      <td>0.000000</td>\n",
       "      <td>0.000000</td>\n",
       "      <td>1.000000</td>\n",
       "      <td>1.000000</td>\n",
       "      <td>0.000000</td>\n",
       "      <td>3.000000</td>\n",
       "      <td>0.000000</td>\n",
       "      <td>1.000000</td>\n",
       "      <td>0.000000</td>\n",
       "      <td>1.000000</td>\n",
       "      <td>0.000000</td>\n",
       "      <td>0.000000</td>\n",
       "      <td>0.000000</td>\n",
       "      <td>1000.000000</td>\n",
       "      <td>0.000000</td>\n",
       "    </tr>\n",
       "    <tr>\n",
       "      <th>25%</th>\n",
       "      <td>489.500000</td>\n",
       "      <td>31.000000</td>\n",
       "      <td>0.000000</td>\n",
       "      <td>1.000000</td>\n",
       "      <td>9.000000</td>\n",
       "      <td>2.000000</td>\n",
       "      <td>1.000000</td>\n",
       "      <td>2.000000</td>\n",
       "      <td>3.000000</td>\n",
       "      <td>0.000000</td>\n",
       "      <td>3.000000</td>\n",
       "      <td>1.000000</td>\n",
       "      <td>2.000000</td>\n",
       "      <td>0.000000</td>\n",
       "      <td>2.000000</td>\n",
       "      <td>0.000000</td>\n",
       "      <td>1.000000</td>\n",
       "      <td>1.000000</td>\n",
       "      <td>20390.000000</td>\n",
       "      <td>0.000000</td>\n",
       "    </tr>\n",
       "    <tr>\n",
       "      <th>50%</th>\n",
       "      <td>978.000000</td>\n",
       "      <td>36.000000</td>\n",
       "      <td>1.000000</td>\n",
       "      <td>1.000000</td>\n",
       "      <td>14.000000</td>\n",
       "      <td>2.000000</td>\n",
       "      <td>2.000000</td>\n",
       "      <td>3.000000</td>\n",
       "      <td>4.000000</td>\n",
       "      <td>1.000000</td>\n",
       "      <td>3.000000</td>\n",
       "      <td>1.000000</td>\n",
       "      <td>3.000000</td>\n",
       "      <td>0.000000</td>\n",
       "      <td>3.000000</td>\n",
       "      <td>1.000000</td>\n",
       "      <td>1.000000</td>\n",
       "      <td>2.000000</td>\n",
       "      <td>22295.000000</td>\n",
       "      <td>0.000000</td>\n",
       "    </tr>\n",
       "    <tr>\n",
       "      <th>75%</th>\n",
       "      <td>1466.500000</td>\n",
       "      <td>43.000000</td>\n",
       "      <td>1.000000</td>\n",
       "      <td>3.000000</td>\n",
       "      <td>20.000000</td>\n",
       "      <td>3.000000</td>\n",
       "      <td>2.000000</td>\n",
       "      <td>3.000000</td>\n",
       "      <td>4.000000</td>\n",
       "      <td>2.000000</td>\n",
       "      <td>4.000000</td>\n",
       "      <td>2.000000</td>\n",
       "      <td>4.000000</td>\n",
       "      <td>1.000000</td>\n",
       "      <td>4.000000</td>\n",
       "      <td>1.000000</td>\n",
       "      <td>2.000000</td>\n",
       "      <td>2.000000</td>\n",
       "      <td>25558.000000</td>\n",
       "      <td>0.000000</td>\n",
       "    </tr>\n",
       "    <tr>\n",
       "      <th>max</th>\n",
       "      <td>1955.000000</td>\n",
       "      <td>61.000000</td>\n",
       "      <td>2.000000</td>\n",
       "      <td>3.000000</td>\n",
       "      <td>36.000000</td>\n",
       "      <td>3.000000</td>\n",
       "      <td>2.000000</td>\n",
       "      <td>5.000000</td>\n",
       "      <td>6.000000</td>\n",
       "      <td>4.000000</td>\n",
       "      <td>5.000000</td>\n",
       "      <td>3.000000</td>\n",
       "      <td>19.000000</td>\n",
       "      <td>1.000000</td>\n",
       "      <td>5.000000</td>\n",
       "      <td>1.000000</td>\n",
       "      <td>3.000000</td>\n",
       "      <td>4.000000</td>\n",
       "      <td>98678.000000</td>\n",
       "      <td>1.000000</td>\n",
       "    </tr>\n",
       "  </tbody>\n",
       "</table>\n",
       "</div>"
      ],
      "text/plain": [
       "                id          Age  TypeofContact     CityTier  DurationOfPitch  \\\n",
       "count  1955.000000  1861.000000    1955.000000  1955.000000      1853.000000   \n",
       "mean    978.000000    37.462117       0.715601     1.641432        15.524015   \n",
       "std     564.504207     9.189948       0.462445     0.908744         8.150057   \n",
       "min       1.000000    18.000000       0.000000     1.000000         5.000000   \n",
       "25%     489.500000    31.000000       0.000000     1.000000         9.000000   \n",
       "50%     978.000000    36.000000       1.000000     1.000000        14.000000   \n",
       "75%    1466.500000    43.000000       1.000000     3.000000        20.000000   \n",
       "max    1955.000000    61.000000       2.000000     3.000000        36.000000   \n",
       "\n",
       "        Occupation       Gender  NumberOfPersonVisiting  NumberOfFollowups  \\\n",
       "count  1955.000000  1955.000000             1955.000000        1942.000000   \n",
       "mean      2.338107     1.588747                2.922762           3.718332   \n",
       "std       0.627545     0.547326                0.712276           1.004095   \n",
       "min       0.000000     0.000000                1.000000           1.000000   \n",
       "25%       2.000000     1.000000                2.000000           3.000000   \n",
       "50%       2.000000     2.000000                3.000000           4.000000   \n",
       "75%       3.000000     2.000000                3.000000           4.000000   \n",
       "max       3.000000     2.000000                5.000000           6.000000   \n",
       "\n",
       "       ProductPitched  PreferredPropertyStar  MaritalStatus  NumberOfTrips  \\\n",
       "count     1955.000000            1945.000000    1955.000000    1898.000000   \n",
       "mean         1.172890               3.568638       1.275192       3.255532   \n",
       "std          1.270394               0.793196       0.933826       1.814698   \n",
       "min          0.000000               3.000000       0.000000       1.000000   \n",
       "25%          0.000000               3.000000       1.000000       2.000000   \n",
       "50%          1.000000               3.000000       1.000000       3.000000   \n",
       "75%          2.000000               4.000000       2.000000       4.000000   \n",
       "max          4.000000               5.000000       3.000000      19.000000   \n",
       "\n",
       "          Passport  PitchSatisfactionScore       OwnCar  \\\n",
       "count  1955.000000             1955.000000  1955.000000   \n",
       "mean      0.291049                3.067519     0.619437   \n",
       "std       0.454362                1.372915     0.485649   \n",
       "min       0.000000                1.000000     0.000000   \n",
       "25%       0.000000                2.000000     0.000000   \n",
       "50%       0.000000                3.000000     1.000000   \n",
       "75%       1.000000                4.000000     1.000000   \n",
       "max       1.000000                5.000000     1.000000   \n",
       "\n",
       "       NumberOfChildrenVisiting  Designation  MonthlyIncome    ProdTaken  \n",
       "count               1928.000000  1955.000000    1855.000000  1955.000000  \n",
       "mean                   1.213174     1.731458   23624.108895     0.195908  \n",
       "std                    0.859450     0.954978    5640.482258     0.397000  \n",
       "min                    0.000000     0.000000    1000.000000     0.000000  \n",
       "25%                    1.000000     1.000000   20390.000000     0.000000  \n",
       "50%                    1.000000     2.000000   22295.000000     0.000000  \n",
       "75%                    2.000000     2.000000   25558.000000     0.000000  \n",
       "max                    3.000000     4.000000   98678.000000     1.000000  "
      ]
     },
     "execution_count": 13,
     "metadata": {},
     "output_type": "execute_result"
    }
   ],
   "source": [
    "train.describe()"
   ]
  },
  {
   "cell_type": "code",
   "execution_count": 14,
   "id": "33c3f449",
   "metadata": {},
   "outputs": [
    {
     "data": {
      "text/plain": [
       "id                          0.032920\n",
       "Age                         0.440733\n",
       "TypeofContact               0.039107\n",
       "CityTier                    0.057705\n",
       "DurationOfPitch             0.016011\n",
       "Occupation                  0.005325\n",
       "Gender                     -0.043840\n",
       "NumberOfPersonVisiting      0.168701\n",
       "NumberOfFollowups           0.194668\n",
       "ProductPitched              0.648318\n",
       "PreferredPropertyStar      -0.024338\n",
       "MaritalStatus              -0.083679\n",
       "NumberOfTrips               0.137093\n",
       "Passport                    0.017044\n",
       "PitchSatisfactionScore     -0.005497\n",
       "OwnCar                      0.109662\n",
       "NumberOfChildrenVisiting    0.179255\n",
       "Designation                 0.331735\n",
       "MonthlyIncome               1.000000\n",
       "ProdTaken                  -0.140617\n",
       "dtype: float64"
      ]
     },
     "execution_count": 14,
     "metadata": {},
     "output_type": "execute_result"
    }
   ],
   "source": [
    "# min, max가 평균과 크게 차이나는 'NumberOfTrips', 'MonthlyIncome' 데이터 이상치 확인\n",
    "# 'MonthlyIncome' 상관계수 확인\n",
    "train.corrwith(train['MonthlyIncome'])"
   ]
  },
  {
   "cell_type": "markdown",
   "id": "ab511205",
   "metadata": {},
   "source": [
    "- 영업사원이 제시한 상품이 좋을수록, 직급이 높을수록 월급이 높다"
   ]
  },
  {
   "cell_type": "code",
   "execution_count": 15,
   "id": "1d70287d",
   "metadata": {},
   "outputs": [
    {
     "data": {
      "image/png": "[encoded data removed]",
      "text/plain": [
       "<Figure size 432x288 with 1 Axes>"
      ]
     },
     "metadata": {
      "needs_background": "light"
     },
     "output_type": "display_data"
    }
   ],
   "source": [
    "# 'MonthlyIncom' 이상치 확인\n",
    "plt.scatter(train.MonthlyIncome, train.Designation)\n",
    "plt.xlabel('MonthlyIncome')\n",
    "plt.ylabel('Designation')\n",
    "plt.show()"
   ]
  },
  {
   "cell_type": "code",
   "execution_count": 16,
   "id": "09a5f22c",
   "metadata": {
    "scrolled": true
   },
   "outputs": [
    {
     "data": {
      "text/plain": [
       "1338    98678.0\n",
       "604     95000.0\n",
       "827     38651.0\n",
       "1518    38604.0\n",
       "314     38537.0\n",
       "         ...   \n",
       "1897        NaN\n",
       "1911        NaN\n",
       "1912        NaN\n",
       "1914        NaN\n",
       "1923        NaN\n",
       "Name: MonthlyIncome, Length: 1955, dtype: float64"
      ]
     },
     "execution_count": 16,
     "metadata": {},
     "output_type": "execute_result"
    }
   ],
   "source": [
    "# 이상치 인덱스 확인\n",
    "train['MonthlyIncome'].sort_values(ascending=False)"
   ]
  },
  {
   "cell_type": "code",
   "execution_count": 17,
   "id": "b79e663d",
   "metadata": {
    "scrolled": true
   },
   "outputs": [
    {
     "data": {
      "text/plain": [
       "189      1000.0\n",
       "838     16009.0\n",
       "538     16052.0\n",
       "1505    16091.0\n",
       "73      16118.0\n",
       "         ...   \n",
       "1897        NaN\n",
       "1911        NaN\n",
       "1912        NaN\n",
       "1914        NaN\n",
       "1923        NaN\n",
       "Name: MonthlyIncome, Length: 1955, dtype: float64"
      ]
     },
     "execution_count": 17,
     "metadata": {},
     "output_type": "execute_result"
    }
   ],
   "source": [
    "# 이상치 인덱스 확인\n",
    "train['MonthlyIncome'].sort_values()"
   ]
  },
  {
   "cell_type": "markdown",
   "id": "c10b58fd",
   "metadata": {},
   "source": [
    "- 1338, 604, 189번"
   ]
  },
  {
   "cell_type": "code",
   "execution_count": 18,
   "id": "2759d0b9",
   "metadata": {},
   "outputs": [
    {
     "data": {
      "image/png": "[encoded data removed]",
      "text/plain": [
       "<Figure size 432x288 with 1 Axes>"
      ]
     },
     "metadata": {
      "needs_background": "light"
     },
     "output_type": "display_data"
    }
   ],
   "source": [
    "# 'NumberOfTrips' 이상치 확인\n",
    "plt.scatter(train.NumberOfTrips, train.NumberOfPersonVisiting)\n",
    "plt.xlabel('NumberOfTrips')\n",
    "plt.ylabel('NumberOfPersonVisiting')\n",
    "plt.show()"
   ]
  },
  {
   "cell_type": "code",
   "execution_count": 19,
   "id": "e7e63e92",
   "metadata": {},
   "outputs": [
    {
     "data": {
      "text/plain": [
       "987     19.0\n",
       "1828     8.0\n",
       "303      8.0\n",
       "1404     8.0\n",
       "1598     8.0\n",
       "        ... \n",
       "1822     NaN\n",
       "1856     NaN\n",
       "1899     NaN\n",
       "1906     NaN\n",
       "1927     NaN\n",
       "Name: NumberOfTrips, Length: 1955, dtype: float64"
      ]
     },
     "execution_count": 19,
     "metadata": {},
     "output_type": "execute_result"
    }
   ],
   "source": [
    "train['NumberOfTrips'].sort_values(ascending=False) # 987번"
   ]
  },
  {
   "cell_type": "markdown",
   "id": "92e8e32c",
   "metadata": {},
   "source": [
    "- 이상치 제거"
   ]
  },
  {
   "cell_type": "code",
   "execution_count": 20,
   "id": "0ebacc53",
   "metadata": {},
   "outputs": [],
   "source": [
    "train.drop(index=[189, 604, 987, 1338], inplace=True)"
   ]
  },
  {
   "cell_type": "markdown",
   "id": "06af3cf9",
   "metadata": {},
   "source": [
    "- 결측치 처리"
   ]
  },
  {
   "cell_type": "code",
   "execution_count": 21,
   "id": "dc93ed25",
   "metadata": {},
   "outputs": [],
   "source": [
    "# 'TypeofContact'은 Unknown(0), 'DurationOfPitch'는 기간(0)으로 판단하고 처리\n",
    "\n",
    "ls = ['DurationOfPitch', 'TypeofContact']\n",
    "for these in [train, test]:\n",
    "    for col in ls:\n",
    "        these[col].fillna(0, inplace=True)\n",
    "        \n",
    "# 'PreferredPropertyStar', 'NumberOfTrips', 'Age'는 상관계수가 높은 컬럼의 그룹별 평균값으로 처리\n",
    "\n",
    "for these in [train, test]:\n",
    "    these['PreferredPropertyStar'].fillna(these.groupby('NumberOfTrips')['PreferredPropertyStar'].transform('mean'),inplace=True)\n",
    "    these['NumberOfTrips'].fillna(these.groupby('DurationOfPitch')['NumberOfTrips'].transform('mean'),inplace=True)\n",
    "    these['Age'].fillna(these.groupby('Designation')['Age'].transform('mean'),inplace=True)"
   ]
  },
  {
   "cell_type": "code",
   "execution_count": 22,
   "id": "8a492853",
   "metadata": {
    "scrolled": true
   },
   "outputs": [
    {
     "data": {
      "text/plain": [
       "id                            0\n",
       "Age                           0\n",
       "TypeofContact                 0\n",
       "CityTier                      0\n",
       "DurationOfPitch               0\n",
       "Occupation                    0\n",
       "Gender                        0\n",
       "NumberOfPersonVisiting        0\n",
       "NumberOfFollowups            13\n",
       "ProductPitched                0\n",
       "PreferredPropertyStar         0\n",
       "MaritalStatus                 0\n",
       "NumberOfTrips                 0\n",
       "Passport                      0\n",
       "PitchSatisfactionScore        0\n",
       "OwnCar                        0\n",
       "NumberOfChildrenVisiting     27\n",
       "Designation                   0\n",
       "MonthlyIncome               100\n",
       "ProdTaken                     0\n",
       "dtype: int64"
      ]
     },
     "execution_count": 22,
     "metadata": {},
     "output_type": "execute_result"
    }
   ],
   "source": [
    "train.isna().sum()"
   ]
  },
  {
   "cell_type": "markdown",
   "id": "06bc514a",
   "metadata": {},
   "source": [
    "#### RobustScaler\n",
    "- sklearn.preprocessiong.RobustScaler\n",
    "- 평균과 분산 대신에 중간값과 사분위값 사용\n",
    "- outlier의 영향을 최소화"
   ]
  },
  {
   "cell_type": "code",
   "execution_count": 23,
   "id": "e73b4c03",
   "metadata": {},
   "outputs": [],
   "source": [
    "# 비교적 값이 큰 데이터 스케일링\n",
    "scaler = RobustScaler()\n",
    "train[['Age', 'DurationOfPitch']] = scaler.fit_transform(train[['Age', 'DurationOfPitch']])\n",
    "test[['Age', 'DurationOfPitch']] = scaler.fit_transform(test[['Age', 'DurationOfPitch']])"
   ]
  },
  {
   "cell_type": "markdown",
   "id": "c29e5c06",
   "metadata": {},
   "source": [
    "- 상관관계가 낮은 'NumberOfChildrenVisiting','NumberOfPersonVisiting' 제거\n",
    "- 'OwnCar'은 자동차 보유자와 미보유자의 차이는 큰 반면 여행신청 비율은 큰 차이가 나지 않아 제거\n",
    "- MonthlyIncome'은 결측치가 많고 'Age', 'DurationOfPitch', 'Designation' 등의 컬럼으로 충분히 대체가 될거라 판단\n",
    "- 'NumberOfFollowups'은 불필요하다고 판단한 위의 컬럼들과 상관계수가 높고 다른 컬럼들과는 상관계수가 낮아 제거"
   ]
  },
  {
   "cell_type": "code",
   "execution_count": 24,
   "id": "f33583ba",
   "metadata": {},
   "outputs": [],
   "source": [
    "# 중요도 낮다고 판단한 칼럼 제거하고 train_data를 x,y로 분리\n",
    "train.drop(columns=['id', 'NumberOfChildrenVisiting','NumberOfPersonVisiting', 'OwnCar', 'MonthlyIncome', 'NumberOfFollowups'], axis=1, inplace=True)\n",
    "test.drop(columns=['id', 'NumberOfChildrenVisiting','NumberOfPersonVisiting', 'OwnCar', 'MonthlyIncome', 'NumberOfFollowups'], axis=1, inplace=True)\n",
    "\n",
    "x = train.drop(columns=['ProdTaken'], axis=1)\n",
    "y = train[['ProdTaken']]"
   ]
  },
  {
   "cell_type": "code",
   "execution_count": 27,
   "id": "13e5159e",
   "metadata": {},
   "outputs": [],
   "source": [
    "# k-fold\n",
    "k_fold = StratifiedKFold(n_splits=10, shuffle=True, random_state=42)"
   ]
  },
  {
   "cell_type": "code",
   "execution_count": 28,
   "id": "d955fa11",
   "metadata": {},
   "outputs": [
    {
     "name": "stdout",
     "output_type": "stream",
     "text": [
      "0:\tlearn: 0.5279152\ttotal: 165ms\tremaining: 32.7s\n",
      "2:\tlearn: 0.3971030\ttotal: 254ms\tremaining: 16.7s\n",
      "4:\tlearn: 0.3086446\ttotal: 267ms\tremaining: 10.4s\n",
      "6:\tlearn: 0.2497581\ttotal: 351ms\tremaining: 9.67s\n",
      "8:\tlearn: 0.2088368\ttotal: 446ms\tremaining: 9.47s\n",
      "10:\tlearn: 0.1848416\ttotal: 489ms\tremaining: 8.4s\n",
      "12:\tlearn: 0.1588575\ttotal: 572ms\tremaining: 8.23s\n",
      "14:\tlearn: 0.1387843\ttotal: 662ms\tremaining: 8.17s\n",
      "16:\tlearn: 0.1278082\ttotal: 717ms\tremaining: 7.72s\n",
      "18:\tlearn: 0.1141061\ttotal: 791ms\tremaining: 7.54s\n",
      "20:\tlearn: 0.1026562\ttotal: 880ms\tremaining: 7.5s\n",
      "22:\tlearn: 0.0934887\ttotal: 963ms\tremaining: 7.41s\n",
      "24:\tlearn: 0.0855048\ttotal: 1.03s\tremaining: 7.25s\n",
      "26:\tlearn: 0.0783911\ttotal: 1.07s\tremaining: 6.89s\n",
      "28:\tlearn: 0.0724355\ttotal: 1.17s\tremaining: 6.88s\n",
      "30:\tlearn: 0.0676823\ttotal: 1.25s\tremaining: 6.82s\n",
      "32:\tlearn: 0.0634560\ttotal: 1.34s\tremaining: 6.78s\n",
      "34:\tlearn: 0.0597251\ttotal: 1.44s\tremaining: 6.78s\n",
      "36:\tlearn: 0.0562662\ttotal: 1.53s\tremaining: 6.73s\n",
      "38:\tlearn: 0.0531624\ttotal: 1.62s\tremaining: 6.68s\n",
      "40:\tlearn: 0.0504647\ttotal: 1.71s\tremaining: 6.65s\n",
      "42:\tlearn: 0.0480064\ttotal: 1.79s\tremaining: 6.55s\n",
      "44:\tlearn: 0.0457966\ttotal: 1.87s\tremaining: 6.43s\n",
      "46:\tlearn: 0.0438068\ttotal: 1.95s\tremaining: 6.34s\n",
      "48:\tlearn: 0.0419867\ttotal: 2.02s\tremaining: 6.23s\n",
      "50:\tlearn: 0.0402489\ttotal: 2.1s\tremaining: 6.13s\n",
      "52:\tlearn: 0.0387012\ttotal: 2.19s\tremaining: 6.09s\n",
      "54:\tlearn: 0.0372884\ttotal: 2.29s\tremaining: 6.03s\n",
      "56:\tlearn: 0.0358701\ttotal: 2.38s\tremaining: 5.96s\n",
      "58:\tlearn: 0.0345656\ttotal: 2.47s\tremaining: 5.9s\n",
      "60:\tlearn: 0.0333947\ttotal: 2.55s\tremaining: 5.81s\n",
      "62:\tlearn: 0.0322645\ttotal: 2.63s\tremaining: 5.72s\n",
      "64:\tlearn: 0.0312674\ttotal: 2.72s\tremaining: 5.65s\n",
      "66:\tlearn: 0.0302534\ttotal: 2.8s\tremaining: 5.55s\n",
      "68:\tlearn: 0.0293539\ttotal: 2.88s\tremaining: 5.46s\n",
      "70:\tlearn: 0.0285062\ttotal: 2.96s\tremaining: 5.37s\n",
      "72:\tlearn: 0.0276590\ttotal: 3.03s\tremaining: 5.28s\n",
      "74:\tlearn: 0.0269198\ttotal: 3.11s\tremaining: 5.18s\n",
      "76:\tlearn: 0.0261907\ttotal: 3.19s\tremaining: 5.11s\n",
      "78:\tlearn: 0.0255092\ttotal: 3.28s\tremaining: 5.02s\n",
      "80:\tlearn: 0.0248298\ttotal: 3.36s\tremaining: 4.94s\n",
      "82:\tlearn: 0.0242105\ttotal: 3.45s\tremaining: 4.87s\n",
      "84:\tlearn: 0.0236063\ttotal: 3.53s\tremaining: 4.78s\n",
      "86:\tlearn: 0.0229893\ttotal: 3.62s\tremaining: 4.7s\n",
      "88:\tlearn: 0.0224282\ttotal: 3.7s\tremaining: 4.62s\n",
      "90:\tlearn: 0.0218947\ttotal: 3.78s\tremaining: 4.53s\n",
      "92:\tlearn: 0.0214435\ttotal: 3.86s\tremaining: 4.44s\n",
      "94:\tlearn: 0.0209622\ttotal: 3.94s\tremaining: 4.35s\n",
      "96:\tlearn: 0.0205244\ttotal: 4.01s\tremaining: 4.26s\n",
      "98:\tlearn: 0.0200843\ttotal: 4.09s\tremaining: 4.17s\n",
      "100:\tlearn: 0.0196842\ttotal: 4.17s\tremaining: 4.09s\n",
      "102:\tlearn: 0.0192955\ttotal: 4.26s\tremaining: 4.01s\n",
      "104:\tlearn: 0.0189029\ttotal: 4.34s\tremaining: 3.93s\n",
      "106:\tlearn: 0.0185477\ttotal: 4.43s\tremaining: 3.85s\n",
      "108:\tlearn: 0.0181583\ttotal: 4.52s\tremaining: 3.77s\n",
      "110:\tlearn: 0.0178258\ttotal: 4.61s\tremaining: 3.69s\n",
      "112:\tlearn: 0.0175189\ttotal: 4.7s\tremaining: 3.62s\n",
      "114:\tlearn: 0.0172190\ttotal: 4.78s\tremaining: 3.53s\n",
      "116:\tlearn: 0.0169148\ttotal: 4.85s\tremaining: 3.44s\n",
      "118:\tlearn: 0.0166294\ttotal: 4.92s\tremaining: 3.35s\n",
      "120:\tlearn: 0.0163237\ttotal: 5.01s\tremaining: 3.27s\n",
      "122:\tlearn: 0.0160555\ttotal: 5.08s\tremaining: 3.18s\n",
      "124:\tlearn: 0.0157907\ttotal: 5.16s\tremaining: 3.1s\n",
      "126:\tlearn: 0.0155254\ttotal: 5.25s\tremaining: 3.02s\n",
      "128:\tlearn: 0.0152664\ttotal: 5.33s\tremaining: 2.94s\n",
      "130:\tlearn: 0.0150188\ttotal: 5.42s\tremaining: 2.86s\n",
      "132:\tlearn: 0.0147853\ttotal: 5.52s\tremaining: 2.78s\n",
      "134:\tlearn: 0.0145373\ttotal: 5.6s\tremaining: 2.69s\n",
      "136:\tlearn: 0.0143047\ttotal: 5.68s\tremaining: 2.61s\n",
      "138:\tlearn: 0.0140963\ttotal: 5.77s\tremaining: 2.53s\n",
      "140:\tlearn: 0.0138886\ttotal: 5.86s\tremaining: 2.45s\n",
      "142:\tlearn: 0.0136856\ttotal: 5.95s\tremaining: 2.37s\n",
      "144:\tlearn: 0.0134965\ttotal: 6.04s\tremaining: 2.29s\n",
      "146:\tlearn: 0.0133187\ttotal: 6.12s\tremaining: 2.21s\n",
      "148:\tlearn: 0.0131354\ttotal: 6.22s\tremaining: 2.13s\n",
      "150:\tlearn: 0.0129549\ttotal: 6.35s\tremaining: 2.06s\n",
      "152:\tlearn: 0.0127851\ttotal: 6.43s\tremaining: 1.98s\n",
      "154:\tlearn: 0.0126230\ttotal: 6.52s\tremaining: 1.89s\n",
      "156:\tlearn: 0.0124443\ttotal: 6.6s\tremaining: 1.81s\n",
      "158:\tlearn: 0.0122864\ttotal: 6.69s\tremaining: 1.73s\n",
      "160:\tlearn: 0.0121284\ttotal: 6.78s\tremaining: 1.64s\n",
      "162:\tlearn: 0.0119758\ttotal: 6.86s\tremaining: 1.56s\n",
      "164:\tlearn: 0.0118263\ttotal: 6.95s\tremaining: 1.47s\n",
      "166:\tlearn: 0.0116782\ttotal: 7.03s\tremaining: 1.39s\n",
      "168:\tlearn: 0.0115383\ttotal: 7.11s\tremaining: 1.3s\n",
      "170:\tlearn: 0.0113872\ttotal: 7.19s\tremaining: 1.22s\n",
      "172:\tlearn: 0.0112573\ttotal: 7.26s\tremaining: 1.13s\n",
      "174:\tlearn: 0.0111188\ttotal: 7.34s\tremaining: 1.05s\n",
      "176:\tlearn: 0.0109932\ttotal: 7.42s\tremaining: 964ms\n",
      "178:\tlearn: 0.0108727\ttotal: 7.51s\tremaining: 881ms\n",
      "180:\tlearn: 0.0107470\ttotal: 7.62s\tremaining: 800ms\n",
      "182:\tlearn: 0.0106263\ttotal: 7.73s\tremaining: 718ms\n",
      "184:\tlearn: 0.0105074\ttotal: 7.81s\tremaining: 633ms\n",
      "186:\tlearn: 0.0103894\ttotal: 7.93s\tremaining: 552ms\n",
      "188:\tlearn: 0.0102735\ttotal: 8.06s\tremaining: 469ms\n",
      "190:\tlearn: 0.0101621\ttotal: 8.13s\tremaining: 383ms\n",
      "192:\tlearn: 0.0100485\ttotal: 8.22s\tremaining: 298ms\n",
      "194:\tlearn: 0.0099441\ttotal: 8.33s\tremaining: 214ms\n",
      "196:\tlearn: 0.0098402\ttotal: 8.42s\tremaining: 128ms\n",
      "198:\tlearn: 0.0097389\ttotal: 8.5s\tremaining: 42.7ms\n",
      "199:\tlearn: 0.0096893\ttotal: 8.57s\tremaining: 0us\n",
      "0:\tlearn: 0.5279152\ttotal: 1.39ms\tremaining: 277ms\n",
      "2:\tlearn: 0.3971030\ttotal: 83.5ms\tremaining: 5.48s\n",
      "4:\tlearn: 0.3086446\ttotal: 94.5ms\tremaining: 3.68s\n",
      "6:\tlearn: 0.2497581\ttotal: 171ms\tremaining: 4.72s\n",
      "8:\tlearn: 0.2088368\ttotal: 258ms\tremaining: 5.47s\n",
      "10:\tlearn: 0.1848416\ttotal: 301ms\tremaining: 5.17s\n",
      "12:\tlearn: 0.1588575\ttotal: 387ms\tremaining: 5.57s\n",
      "14:\tlearn: 0.1387843\ttotal: 482ms\tremaining: 5.95s\n",
      "16:\tlearn: 0.1278082\ttotal: 533ms\tremaining: 5.74s\n",
      "18:\tlearn: 0.1141061\ttotal: 622ms\tremaining: 5.93s\n",
      "20:\tlearn: 0.1026562\ttotal: 710ms\tremaining: 6.05s\n",
      "22:\tlearn: 0.0934887\ttotal: 799ms\tremaining: 6.15s\n",
      "24:\tlearn: 0.0855048\ttotal: 876ms\tremaining: 6.13s\n",
      "26:\tlearn: 0.0783911\ttotal: 919ms\tremaining: 5.89s\n",
      "28:\tlearn: 0.0724355\ttotal: 1s\tremaining: 5.91s\n",
      "30:\tlearn: 0.0676823\ttotal: 1.09s\tremaining: 5.96s\n",
      "32:\tlearn: 0.0634560\ttotal: 1.2s\tremaining: 6.09s\n",
      "34:\tlearn: 0.0597251\ttotal: 1.31s\tremaining: 6.2s\n",
      "36:\tlearn: 0.0562662\ttotal: 1.41s\tremaining: 6.2s\n",
      "38:\tlearn: 0.0531624\ttotal: 1.52s\tremaining: 6.26s\n",
      "40:\tlearn: 0.0504647\ttotal: 1.64s\tremaining: 6.35s\n",
      "42:\tlearn: 0.0480064\ttotal: 1.73s\tremaining: 6.31s\n",
      "44:\tlearn: 0.0457966\ttotal: 1.81s\tremaining: 6.25s\n",
      "46:\tlearn: 0.0438068\ttotal: 1.9s\tremaining: 6.18s\n",
      "48:\tlearn: 0.0419867\ttotal: 1.98s\tremaining: 6.11s\n",
      "50:\tlearn: 0.0402489\ttotal: 2.07s\tremaining: 6.06s\n",
      "52:\tlearn: 0.0387012\ttotal: 2.19s\tremaining: 6.06s\n",
      "54:\tlearn: 0.0372884\ttotal: 2.29s\tremaining: 6.04s\n",
      "56:\tlearn: 0.0358701\ttotal: 2.39s\tremaining: 5.99s\n",
      "58:\tlearn: 0.0345656\ttotal: 2.49s\tremaining: 5.96s\n",
      "60:\tlearn: 0.0333947\ttotal: 2.58s\tremaining: 5.88s\n",
      "62:\tlearn: 0.0322645\ttotal: 2.68s\tremaining: 5.83s\n",
      "64:\tlearn: 0.0312674\ttotal: 2.79s\tremaining: 5.79s\n",
      "66:\tlearn: 0.0302534\ttotal: 2.88s\tremaining: 5.71s\n",
      "68:\tlearn: 0.0293539\ttotal: 2.97s\tremaining: 5.64s\n",
      "70:\tlearn: 0.0285062\ttotal: 3.06s\tremaining: 5.57s\n",
      "72:\tlearn: 0.0276590\ttotal: 3.14s\tremaining: 5.47s\n",
      "74:\tlearn: 0.0269198\ttotal: 3.24s\tremaining: 5.4s\n",
      "76:\tlearn: 0.0261907\ttotal: 3.35s\tremaining: 5.34s\n",
      "78:\tlearn: 0.0255092\ttotal: 3.44s\tremaining: 5.27s\n",
      "80:\tlearn: 0.0248298\ttotal: 3.54s\tremaining: 5.2s\n",
      "82:\tlearn: 0.0242105\ttotal: 3.64s\tremaining: 5.14s\n",
      "84:\tlearn: 0.0236063\ttotal: 3.73s\tremaining: 5.05s\n",
      "86:\tlearn: 0.0229893\ttotal: 3.84s\tremaining: 4.99s\n",
      "88:\tlearn: 0.0224282\ttotal: 3.94s\tremaining: 4.91s\n",
      "90:\tlearn: 0.0218947\ttotal: 4.03s\tremaining: 4.82s\n",
      "92:\tlearn: 0.0214435\ttotal: 4.12s\tremaining: 4.74s\n",
      "94:\tlearn: 0.0209622\ttotal: 4.21s\tremaining: 4.65s\n",
      "96:\tlearn: 0.0205244\ttotal: 4.3s\tremaining: 4.57s\n",
      "98:\tlearn: 0.0200843\ttotal: 4.41s\tremaining: 4.5s\n",
      "100:\tlearn: 0.0196842\ttotal: 4.5s\tremaining: 4.42s\n",
      "102:\tlearn: 0.0192955\ttotal: 4.61s\tremaining: 4.34s\n",
      "104:\tlearn: 0.0189029\ttotal: 4.71s\tremaining: 4.26s\n",
      "106:\tlearn: 0.0185477\ttotal: 4.8s\tremaining: 4.17s\n",
      "108:\tlearn: 0.0181583\ttotal: 4.9s\tremaining: 4.09s\n",
      "110:\tlearn: 0.0178258\ttotal: 5s\tremaining: 4s\n",
      "112:\tlearn: 0.0175189\ttotal: 5.08s\tremaining: 3.91s\n",
      "114:\tlearn: 0.0172190\ttotal: 5.18s\tremaining: 3.83s\n",
      "116:\tlearn: 0.0169148\ttotal: 5.28s\tremaining: 3.75s\n",
      "118:\tlearn: 0.0166294\ttotal: 5.38s\tremaining: 3.66s\n"
     ]
    },
    {
     "name": "stdout",
     "output_type": "stream",
     "text": [
      "120:\tlearn: 0.0163237\ttotal: 5.49s\tremaining: 3.58s\n",
      "122:\tlearn: 0.0160555\ttotal: 5.58s\tremaining: 3.5s\n",
      "124:\tlearn: 0.0157907\ttotal: 5.69s\tremaining: 3.42s\n",
      "126:\tlearn: 0.0155254\ttotal: 5.8s\tremaining: 3.33s\n",
      "128:\tlearn: 0.0152664\ttotal: 5.89s\tremaining: 3.24s\n",
      "130:\tlearn: 0.0150188\ttotal: 5.99s\tremaining: 3.16s\n",
      "132:\tlearn: 0.0147853\ttotal: 6.09s\tremaining: 3.07s\n",
      "134:\tlearn: 0.0145373\ttotal: 6.18s\tremaining: 2.98s\n",
      "136:\tlearn: 0.0143047\ttotal: 6.28s\tremaining: 2.89s\n",
      "138:\tlearn: 0.0140963\ttotal: 6.37s\tremaining: 2.8s\n",
      "140:\tlearn: 0.0138886\ttotal: 6.46s\tremaining: 2.7s\n",
      "142:\tlearn: 0.0136856\ttotal: 6.56s\tremaining: 2.61s\n",
      "144:\tlearn: 0.0134965\ttotal: 6.66s\tremaining: 2.53s\n",
      "146:\tlearn: 0.0133187\ttotal: 6.75s\tremaining: 2.43s\n",
      "148:\tlearn: 0.0131354\ttotal: 6.83s\tremaining: 2.34s\n",
      "150:\tlearn: 0.0129549\ttotal: 6.93s\tremaining: 2.25s\n",
      "152:\tlearn: 0.0127851\ttotal: 7.01s\tremaining: 2.15s\n",
      "154:\tlearn: 0.0126230\ttotal: 7.09s\tremaining: 2.06s\n",
      "156:\tlearn: 0.0124443\ttotal: 7.17s\tremaining: 1.96s\n",
      "158:\tlearn: 0.0122864\ttotal: 7.25s\tremaining: 1.87s\n",
      "160:\tlearn: 0.0121284\ttotal: 7.32s\tremaining: 1.77s\n",
      "162:\tlearn: 0.0119758\ttotal: 7.41s\tremaining: 1.68s\n",
      "164:\tlearn: 0.0118263\ttotal: 7.5s\tremaining: 1.59s\n",
      "166:\tlearn: 0.0116782\ttotal: 7.59s\tremaining: 1.5s\n",
      "168:\tlearn: 0.0115383\ttotal: 7.68s\tremaining: 1.41s\n",
      "170:\tlearn: 0.0113872\ttotal: 7.78s\tremaining: 1.32s\n",
      "172:\tlearn: 0.0112573\ttotal: 7.88s\tremaining: 1.23s\n",
      "174:\tlearn: 0.0111188\ttotal: 7.98s\tremaining: 1.14s\n",
      "176:\tlearn: 0.0109932\ttotal: 8.06s\tremaining: 1.05s\n",
      "178:\tlearn: 0.0108727\ttotal: 8.16s\tremaining: 957ms\n",
      "180:\tlearn: 0.0107470\ttotal: 8.25s\tremaining: 866ms\n",
      "182:\tlearn: 0.0106263\ttotal: 8.32s\tremaining: 773ms\n",
      "184:\tlearn: 0.0105074\ttotal: 8.42s\tremaining: 683ms\n",
      "186:\tlearn: 0.0103894\ttotal: 8.53s\tremaining: 593ms\n",
      "188:\tlearn: 0.0102735\ttotal: 8.62s\tremaining: 502ms\n",
      "190:\tlearn: 0.0101621\ttotal: 8.72s\tremaining: 411ms\n",
      "192:\tlearn: 0.0100485\ttotal: 8.83s\tremaining: 320ms\n",
      "194:\tlearn: 0.0099441\ttotal: 8.92s\tremaining: 229ms\n",
      "196:\tlearn: 0.0098402\ttotal: 9.03s\tremaining: 138ms\n",
      "198:\tlearn: 0.0097389\ttotal: 9.13s\tremaining: 45.9ms\n",
      "199:\tlearn: 0.0096893\ttotal: 9.17s\tremaining: 0us\n"
     ]
    },
    {
     "data": {
      "text/plain": [
       "0.9390240711669282"
      ]
     },
     "execution_count": 28,
     "metadata": {},
     "output_type": "execute_result"
    }
   ],
   "source": [
    "# CatBoostClassifier 정의, 훈련\n",
    "cat_params = {\n",
    "    # 'depth': [10, 11, 14, 15],\n",
    "    'l2_leaf_reg': [9.122611898980937],    \n",
    "    'learning_rate': [0.279118773316628],\n",
    "    'model_size_reg': [5.669787571831169],\n",
    "    # 'n_estimators': [200, 300, 400, 500, 600],\n",
    "    'od_pval': [0.0],\n",
    "}   \n",
    "# 하이퍼파라미터는 BayesianOptimization을 이용해 적절한 파라미터를 찾고, 최종적으로 GridSearchCV를 이용해 'depth'와 'n_estimators'를 조절하며 최선의 하이퍼파라미터를 찾았습니다.\n",
    "\n",
    "cat = CatBoostClassifier(verbose=2, depth=14, n_estimators=200, allow_writing_files=False)  \n",
    "grid_cv = GridSearchCV(cat,\n",
    "                       param_grid=cat_params,\n",
    "                       cv=k_fold,\n",
    "                       n_jobs=-1)\n",
    "\n",
    "grid_cv.fit(x, y.values.ravel())\n",
    "\n",
    "model = grid_cv.best_estimator_\n",
    "model.fit(x, y.values.ravel())\n",
    "\n",
    "grid_cv.best_score_"
   ]
  },
  {
   "cell_type": "code",
   "execution_count": null,
   "id": "17fb0d5a",
   "metadata": {},
   "outputs": [],
   "source": [
    "# 제출\n",
    "y_summit = model.predict(test)\n",
    "sample_submission['ProdTaken'] = y_summit\n",
    "sample_submission.to_csv(, index=False)\n",
    "np.unique(y_summit, return_counts=True)"
   ]
  },
  {
   "cell_type": "code",
   "execution_count": null,
   "id": "ae91cd5d",
   "metadata": {},
   "outputs": [],
   "source": []
  },
  {
   "cell_type": "code",
   "execution_count": null,
   "id": "68bdaecd",
   "metadata": {},
   "outputs": [],
   "source": []
  },
  {
   "cell_type": "code",
   "execution_count": null,
   "id": "dd4867c0",
   "metadata": {},
   "outputs": [],
   "source": []
  },
  {
   "cell_type": "code",
   "execution_count": null,
   "id": "f9cce0b0",
   "metadata": {},
   "outputs": [],
   "source": []
  },
  {
   "cell_type": "code",
   "execution_count": null,
   "id": "e3a91767",
   "metadata": {},
   "outputs": [],
   "source": []
  },
  {
   "cell_type": "code",
   "execution_count": null,
   "id": "6fa669a5",
   "metadata": {},
   "outputs": [],
   "source": []
  },
  {
   "cell_type": "code",
   "execution_count": null,
   "id": "085ba731",
   "metadata": {},
   "outputs": [],
   "source": []
  },
  {
   "cell_type": "code",
   "execution_count": null,
   "id": "f136dced",
   "metadata": {},
   "outputs": [],
   "source": []
  },
  {
   "cell_type": "code",
   "execution_count": null,
   "id": "141dbe52",
   "metadata": {},
   "outputs": [],
   "source": []
  },
  {
   "cell_type": "code",
   "execution_count": null,
   "id": "86a51c3b",
   "metadata": {},
   "outputs": [],
   "source": []
  },
  {
   "cell_type": "code",
   "execution_count": null,
   "id": "d23e91f3",
   "metadata": {},
   "outputs": [],
   "source": []
  }
 ],
 "metadata": {
  "kernelspec": {
   "display_name": "Python 3 (ipykernel)",
   "language": "python",
   "name": "python3"
  },
  "language_info": {
   "codemirror_mode": {
    "name": "ipython",
    "version": 3
   },
   "file_extension": ".py",
   "mimetype": "text/x-python",
   "name": "python",
   "nbconvert_exporter": "python",
   "pygments_lexer": "ipython3",
   "version": "3.9.7"
  }
 },
 "nbformat": 4,
 "nbformat_minor": 5
}
